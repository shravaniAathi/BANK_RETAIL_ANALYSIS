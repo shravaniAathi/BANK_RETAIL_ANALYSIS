{
 "cells": [
  {
   "cell_type": "code",
   "execution_count": 1,
   "metadata": {},
   "outputs": [],
   "source": [
    "import pandas as pd\n",
    "import numpy as np\n",
    "import matplotlib.pyplot as plt\n",
    "import seaborn as sns"
   ]
  },
  {
   "cell_type": "code",
   "execution_count": 51,
   "metadata": {},
   "outputs": [],
   "source": [
    "data = pd.read_csv(\"C:\\\\Users\\\\Downloads\\\\Retail_analytices\\\\retail_data.csv\",engine='python')"
   ]
  },
  {
   "cell_type": "code",
   "execution_count": 52,
   "metadata": {},
   "outputs": [
    {
     "name": "stdout",
     "output_type": "stream",
     "text": [
      "<class 'pandas.core.frame.DataFrame'>\n",
      "RangeIndex: 229 entries, 0 to 228\n",
      "Data columns (total 40 columns):\n",
      "Month                                        229 non-null object\n",
      "Enquiry Date                                 229 non-null object\n",
      "Enquiry Id                                   229 non-null object\n",
      "Allocation Status                            229 non-null object\n",
      "Status                                       229 non-null object\n",
      "State                                        229 non-null object\n",
      "City                                         229 non-null object\n",
      "Pincode                                      229 non-null int64\n",
      "Type of Project                              229 non-null object\n",
      "No of Windows                                229 non-null object\n",
      "Source                                       229 non-null object\n",
      "Zone                                         229 non-null object\n",
      "Dealer Name                                  229 non-null object\n",
      "First Action-Call made                       229 non-null object\n",
      "Date DD/MM/YY                                229 non-null object\n",
      "First Action-Call Status                     229 non-null object\n",
      "Date of Appointment (DD/MM/YY)               192 non-null object\n",
      "Second Action-Customer Meeting               192 non-null object\n",
      "Date DD/MM/YY.1                              192 non-null object\n",
      "Second Action-Call Status                    191 non-null object\n",
      "Third Action-Quote Given                     189 non-null object\n",
      "Date DD/MM/YY.2                              188 non-null object\n",
      "Q Val. (Rs. Lac)                             183 non-null float64\n",
      "Quote QTY                                    183 non-null object\n",
      " Order Recd\\Lost                             229 non-null object\n",
      "Date DD/MM/YY.3                              48 non-null object\n",
      "Order Val. (Rs. Lac)                         48 non-null float64\n",
      "Order QTY                                    48 non-null float64\n",
      "Quote ID (as per match to CCC Records)       116 non-null object\n",
      " Remarks-Brand and value if lost to UPVC     123 non-null object\n",
      "Second Action-Call Status.1                  0 non-null float64\n",
      "Remarks                                      171 non-null object\n",
      "Price Per Sft                                229 non-null int64\n",
      "Benefits                                     53 non-null object\n",
      "Aesthetics                                   37 non-null float64\n",
      "Reduce Street Noise                          37 non-null float64\n",
      "Low Maintenance                              37 non-null float64\n",
      "Monsoon Proof                                37 non-null float64\n",
      "Better Lighting                              37 non-null float64\n",
      "Reduce AC Energy Cost                        37 non-null float64\n",
      "dtypes: float64(10), int64(2), object(28)\n",
      "memory usage: 71.6+ KB\n"
     ]
    }
   ],
   "source": [
    "data.info()"
   ]
  },
  {
   "cell_type": "code",
   "execution_count": 5,
   "metadata": {},
   "outputs": [],
   "source": [
    "data.rename(columns={' Order Recd\\Lost':'Order-Recd\\Lost'},inplace=True)"
   ]
  },
  {
   "cell_type": "code",
   "execution_count": 6,
   "metadata": {},
   "outputs": [
    {
     "data": {
      "text/plain": [
       "Index(['Month', 'Enquiry Date', 'Enquiry Id', 'Allocation Status', 'Status',\n",
       "       'State', 'City', 'Pincode', 'Type of Project', 'No of Windows',\n",
       "       'Source', 'Zone', 'Dealer Name', 'First Action-Call made',\n",
       "       'Date DD/MM/YY', 'First Action-Call Status',\n",
       "       'Date of Appointment (DD/MM/YY)', 'Second Action-Customer Meeting',\n",
       "       'Date DD/MM/YY.1', 'Second Action-Call Status',\n",
       "       'Third Action-Quote Given', 'Date DD/MM/YY.2', 'Q Val. (Rs. Lac)',\n",
       "       'Quote QTY', ' Order Recd\\Lost ', 'Date DD/MM/YY.3',\n",
       "       'Order Val. (Rs. Lac)', 'Order QTY',\n",
       "       'Quote ID (as per match to CCC Records)',\n",
       "       ' Remarks-Brand and value if lost to UPVC ',\n",
       "       'Second Action-Call Status.1', 'Remarks', 'Price Per Sft', 'Benefits',\n",
       "       'Aesthetics', 'Reduce Street Noise', 'Low Maintenance', 'Monsoon Proof',\n",
       "       'Better Lighting', 'Reduce AC Energy Cost'],\n",
       "      dtype='object')"
      ]
     },
     "execution_count": 6,
     "metadata": {},
     "output_type": "execute_result"
    }
   ],
   "source": [
    "data.columns"
   ]
  },
  {
   "cell_type": "code",
   "execution_count": 7,
   "metadata": {},
   "outputs": [],
   "source": [
    "data.columns = ['Month', 'Enquiry_Date', 'Enquiry_Id', 'Allocation_Status', 'Status',\n",
    "                   'State', 'City', 'Pincode', 'Type_of_Project', 'No_of_Windows',\n",
    "                   'Source', 'Zone', 'Dealer_Name', 'First_Action-Call_made',\n",
    "                   'Date_DD/MM/YY', 'First-Action-Call-Status',\n",
    "                   'Date of Appointment (DD/MM/YY)', 'Second Action-Customer Meeting',\n",
    "       'Date-DD/MM/YY.1', 'Second-Action-Call-Status',\n",
    "       'Third-Action-Quote-Given', 'Date-DD/MM/YY.2', 'Q-Val.(Rs.Lac)',\n",
    "       'Quote-QTY', 'Order-(Recd\\Lost)', 'Date-DD/MM/YY.3',\n",
    "       'Order-Val.(Rs.Lac)', 'Order_QTY',\n",
    "       'Quote_ID(as_per_match_to_CCC_Records)',\n",
    "       'Remarks-Brand-and-value-if-lost-to-UPVC',\n",
    "       'Second-Action-Call-Status.1', 'Remarks', 'Price_Per_Sft', 'Benefits',\n",
    "       'Aesthetics', 'Reduce_Street_Noise', 'Low_Maintenance', 'Monsoon_Proof',\n",
    "       'Better_Lighting', 'Reduce_AC_Energy_Cost']"
   ]
  },
  {
   "cell_type": "code",
   "execution_count": 8,
   "metadata": {},
   "outputs": [
    {
     "data": {
      "text/html": [
       "<div>\n",
       "<style scoped>\n",
       "    .dataframe tbody tr th:only-of-type {\n",
       "        vertical-align: middle;\n",
       "    }\n",
       "\n",
       "    .dataframe tbody tr th {\n",
       "        vertical-align: top;\n",
       "    }\n",
       "\n",
       "    .dataframe thead th {\n",
       "        text-align: right;\n",
       "    }\n",
       "</style>\n",
       "<table border=\"1\" class=\"dataframe\">\n",
       "  <thead>\n",
       "    <tr style=\"text-align: right;\">\n",
       "      <th></th>\n",
       "      <th>Pincode</th>\n",
       "      <th>Q-Val.(Rs.Lac)</th>\n",
       "      <th>Order-Val.(Rs.Lac)</th>\n",
       "      <th>Order_QTY</th>\n",
       "      <th>Second-Action-Call-Status.1</th>\n",
       "      <th>Price_Per_Sft</th>\n",
       "      <th>Aesthetics</th>\n",
       "      <th>Reduce_Street_Noise</th>\n",
       "      <th>Low_Maintenance</th>\n",
       "      <th>Monsoon_Proof</th>\n",
       "      <th>Better_Lighting</th>\n",
       "      <th>Reduce_AC_Energy_Cost</th>\n",
       "    </tr>\n",
       "  </thead>\n",
       "  <tbody>\n",
       "    <tr>\n",
       "      <th>count</th>\n",
       "      <td>229.000000</td>\n",
       "      <td>183.000000</td>\n",
       "      <td>48.000000</td>\n",
       "      <td>48.000000</td>\n",
       "      <td>0.0</td>\n",
       "      <td>229.000000</td>\n",
       "      <td>37.000000</td>\n",
       "      <td>37.000000</td>\n",
       "      <td>37.000000</td>\n",
       "      <td>37.000000</td>\n",
       "      <td>37.000000</td>\n",
       "      <td>37.000000</td>\n",
       "    </tr>\n",
       "    <tr>\n",
       "      <th>mean</th>\n",
       "      <td>601742.572052</td>\n",
       "      <td>1.842459</td>\n",
       "      <td>1.874375</td>\n",
       "      <td>10.229167</td>\n",
       "      <td>NaN</td>\n",
       "      <td>1045.323144</td>\n",
       "      <td>0.243243</td>\n",
       "      <td>0.648649</td>\n",
       "      <td>0.486486</td>\n",
       "      <td>0.081081</td>\n",
       "      <td>0.027027</td>\n",
       "      <td>0.162162</td>\n",
       "    </tr>\n",
       "    <tr>\n",
       "      <th>std</th>\n",
       "      <td>6573.378113</td>\n",
       "      <td>2.595590</td>\n",
       "      <td>2.313372</td>\n",
       "      <td>14.925688</td>\n",
       "      <td>NaN</td>\n",
       "      <td>220.032076</td>\n",
       "      <td>0.434959</td>\n",
       "      <td>0.483978</td>\n",
       "      <td>0.506712</td>\n",
       "      <td>0.276725</td>\n",
       "      <td>0.164399</td>\n",
       "      <td>0.373684</td>\n",
       "    </tr>\n",
       "    <tr>\n",
       "      <th>min</th>\n",
       "      <td>600001.000000</td>\n",
       "      <td>0.010000</td>\n",
       "      <td>0.070000</td>\n",
       "      <td>1.000000</td>\n",
       "      <td>NaN</td>\n",
       "      <td>650.000000</td>\n",
       "      <td>0.000000</td>\n",
       "      <td>0.000000</td>\n",
       "      <td>0.000000</td>\n",
       "      <td>0.000000</td>\n",
       "      <td>0.000000</td>\n",
       "      <td>0.000000</td>\n",
       "    </tr>\n",
       "    <tr>\n",
       "      <th>25%</th>\n",
       "      <td>600033.000000</td>\n",
       "      <td>0.550000</td>\n",
       "      <td>0.530000</td>\n",
       "      <td>2.000000</td>\n",
       "      <td>NaN</td>\n",
       "      <td>921.000000</td>\n",
       "      <td>0.000000</td>\n",
       "      <td>0.000000</td>\n",
       "      <td>0.000000</td>\n",
       "      <td>0.000000</td>\n",
       "      <td>0.000000</td>\n",
       "      <td>0.000000</td>\n",
       "    </tr>\n",
       "    <tr>\n",
       "      <th>50%</th>\n",
       "      <td>600059.000000</td>\n",
       "      <td>1.070000</td>\n",
       "      <td>1.150000</td>\n",
       "      <td>6.000000</td>\n",
       "      <td>NaN</td>\n",
       "      <td>1030.000000</td>\n",
       "      <td>0.000000</td>\n",
       "      <td>1.000000</td>\n",
       "      <td>0.000000</td>\n",
       "      <td>0.000000</td>\n",
       "      <td>0.000000</td>\n",
       "      <td>0.000000</td>\n",
       "    </tr>\n",
       "    <tr>\n",
       "      <th>75%</th>\n",
       "      <td>600099.000000</td>\n",
       "      <td>2.000000</td>\n",
       "      <td>1.622500</td>\n",
       "      <td>10.500000</td>\n",
       "      <td>NaN</td>\n",
       "      <td>1129.000000</td>\n",
       "      <td>0.000000</td>\n",
       "      <td>1.000000</td>\n",
       "      <td>1.000000</td>\n",
       "      <td>0.000000</td>\n",
       "      <td>0.000000</td>\n",
       "      <td>0.000000</td>\n",
       "    </tr>\n",
       "    <tr>\n",
       "      <th>max</th>\n",
       "      <td>635810.000000</td>\n",
       "      <td>25.000000</td>\n",
       "      <td>10.950000</td>\n",
       "      <td>73.000000</td>\n",
       "      <td>NaN</td>\n",
       "      <td>3121.000000</td>\n",
       "      <td>1.000000</td>\n",
       "      <td>1.000000</td>\n",
       "      <td>1.000000</td>\n",
       "      <td>1.000000</td>\n",
       "      <td>1.000000</td>\n",
       "      <td>1.000000</td>\n",
       "    </tr>\n",
       "  </tbody>\n",
       "</table>\n",
       "</div>"
      ],
      "text/plain": [
       "             Pincode  Q-Val.(Rs.Lac)  Order-Val.(Rs.Lac)  Order_QTY  \\\n",
       "count     229.000000      183.000000           48.000000  48.000000   \n",
       "mean   601742.572052        1.842459            1.874375  10.229167   \n",
       "std      6573.378113        2.595590            2.313372  14.925688   \n",
       "min    600001.000000        0.010000            0.070000   1.000000   \n",
       "25%    600033.000000        0.550000            0.530000   2.000000   \n",
       "50%    600059.000000        1.070000            1.150000   6.000000   \n",
       "75%    600099.000000        2.000000            1.622500  10.500000   \n",
       "max    635810.000000       25.000000           10.950000  73.000000   \n",
       "\n",
       "       Second-Action-Call-Status.1  Price_Per_Sft  Aesthetics  \\\n",
       "count                          0.0     229.000000   37.000000   \n",
       "mean                           NaN    1045.323144    0.243243   \n",
       "std                            NaN     220.032076    0.434959   \n",
       "min                            NaN     650.000000    0.000000   \n",
       "25%                            NaN     921.000000    0.000000   \n",
       "50%                            NaN    1030.000000    0.000000   \n",
       "75%                            NaN    1129.000000    0.000000   \n",
       "max                            NaN    3121.000000    1.000000   \n",
       "\n",
       "       Reduce_Street_Noise  Low_Maintenance  Monsoon_Proof  Better_Lighting  \\\n",
       "count            37.000000        37.000000      37.000000        37.000000   \n",
       "mean              0.648649         0.486486       0.081081         0.027027   \n",
       "std               0.483978         0.506712       0.276725         0.164399   \n",
       "min               0.000000         0.000000       0.000000         0.000000   \n",
       "25%               0.000000         0.000000       0.000000         0.000000   \n",
       "50%               1.000000         0.000000       0.000000         0.000000   \n",
       "75%               1.000000         1.000000       0.000000         0.000000   \n",
       "max               1.000000         1.000000       1.000000         1.000000   \n",
       "\n",
       "       Reduce_AC_Energy_Cost  \n",
       "count              37.000000  \n",
       "mean                0.162162  \n",
       "std                 0.373684  \n",
       "min                 0.000000  \n",
       "25%                 0.000000  \n",
       "50%                 0.000000  \n",
       "75%                 0.000000  \n",
       "max                 1.000000  "
      ]
     },
     "execution_count": 8,
     "metadata": {},
     "output_type": "execute_result"
    }
   ],
   "source": [
    "data.describe()"
   ]
  },
  {
   "cell_type": "code",
   "execution_count": 9,
   "metadata": {},
   "outputs": [
    {
     "data": {
      "text/plain": [
       "(229, 40)"
      ]
     },
     "execution_count": 9,
     "metadata": {},
     "output_type": "execute_result"
    }
   ],
   "source": [
    "data.shape"
   ]
  },
  {
   "cell_type": "code",
   "execution_count": 10,
   "metadata": {},
   "outputs": [
    {
     "data": {
      "text/html": [
       "<div>\n",
       "<style scoped>\n",
       "    .dataframe tbody tr th:only-of-type {\n",
       "        vertical-align: middle;\n",
       "    }\n",
       "\n",
       "    .dataframe tbody tr th {\n",
       "        vertical-align: top;\n",
       "    }\n",
       "\n",
       "    .dataframe thead th {\n",
       "        text-align: right;\n",
       "    }\n",
       "</style>\n",
       "<table border=\"1\" class=\"dataframe\">\n",
       "  <thead>\n",
       "    <tr style=\"text-align: right;\">\n",
       "      <th></th>\n",
       "      <th>Month</th>\n",
       "      <th>Enquiry_Date</th>\n",
       "      <th>Enquiry_Id</th>\n",
       "      <th>Allocation_Status</th>\n",
       "      <th>Status</th>\n",
       "      <th>State</th>\n",
       "      <th>City</th>\n",
       "      <th>Pincode</th>\n",
       "      <th>Type_of_Project</th>\n",
       "      <th>No_of_Windows</th>\n",
       "      <th>...</th>\n",
       "      <th>Second-Action-Call-Status.1</th>\n",
       "      <th>Remarks</th>\n",
       "      <th>Price_Per_Sft</th>\n",
       "      <th>Benefits</th>\n",
       "      <th>Aesthetics</th>\n",
       "      <th>Reduce_Street_Noise</th>\n",
       "      <th>Low_Maintenance</th>\n",
       "      <th>Monsoon_Proof</th>\n",
       "      <th>Better_Lighting</th>\n",
       "      <th>Reduce_AC_Energy_Cost</th>\n",
       "    </tr>\n",
       "  </thead>\n",
       "  <tbody>\n",
       "    <tr>\n",
       "      <th>0</th>\n",
       "      <td>April'16</td>\n",
       "      <td>02-Apr-16</td>\n",
       "      <td>EC02041646800</td>\n",
       "      <td>Dealer</td>\n",
       "      <td>Won</td>\n",
       "      <td>TAMILNADU</td>\n",
       "      <td>CHENNAI</td>\n",
       "      <td>600008</td>\n",
       "      <td>Renovation</td>\n",
       "      <td>6 to 10</td>\n",
       "      <td>...</td>\n",
       "      <td>NaN</td>\n",
       "      <td>NaN</td>\n",
       "      <td>1105</td>\n",
       "      <td>Aesthetics &amp; Street Noise</td>\n",
       "      <td>1.0</td>\n",
       "      <td>1.0</td>\n",
       "      <td>0.0</td>\n",
       "      <td>0.0</td>\n",
       "      <td>0.0</td>\n",
       "      <td>0.0</td>\n",
       "    </tr>\n",
       "    <tr>\n",
       "      <th>1</th>\n",
       "      <td>April'16</td>\n",
       "      <td>08-Apr-16</td>\n",
       "      <td>EC08041647157</td>\n",
       "      <td>Dealer</td>\n",
       "      <td>Lost</td>\n",
       "      <td>TAMILNADU</td>\n",
       "      <td>CHENNAI</td>\n",
       "      <td>600042</td>\n",
       "      <td>New Construction</td>\n",
       "      <td>6 to 10</td>\n",
       "      <td>...</td>\n",
       "      <td>NaN</td>\n",
       "      <td>Price Issue</td>\n",
       "      <td>985</td>\n",
       "      <td>NaN</td>\n",
       "      <td>NaN</td>\n",
       "      <td>NaN</td>\n",
       "      <td>NaN</td>\n",
       "      <td>NaN</td>\n",
       "      <td>NaN</td>\n",
       "      <td>NaN</td>\n",
       "    </tr>\n",
       "    <tr>\n",
       "      <th>2</th>\n",
       "      <td>April'16</td>\n",
       "      <td>08-Apr-16</td>\n",
       "      <td>EC08041647130</td>\n",
       "      <td>Dealer</td>\n",
       "      <td>Lost</td>\n",
       "      <td>TAMILNADU</td>\n",
       "      <td>CHENNAI</td>\n",
       "      <td>600015</td>\n",
       "      <td>New Construction</td>\n",
       "      <td>1 to 5</td>\n",
       "      <td>...</td>\n",
       "      <td>NaN</td>\n",
       "      <td>Delivery Issue</td>\n",
       "      <td>918</td>\n",
       "      <td>NaN</td>\n",
       "      <td>NaN</td>\n",
       "      <td>NaN</td>\n",
       "      <td>NaN</td>\n",
       "      <td>NaN</td>\n",
       "      <td>NaN</td>\n",
       "      <td>NaN</td>\n",
       "    </tr>\n",
       "    <tr>\n",
       "      <th>3</th>\n",
       "      <td>April'16</td>\n",
       "      <td>09-Apr-16</td>\n",
       "      <td>EC09041647202</td>\n",
       "      <td>Direct</td>\n",
       "      <td>Lost</td>\n",
       "      <td>TAMILNADU</td>\n",
       "      <td>KANCHIPURAM</td>\n",
       "      <td>600075</td>\n",
       "      <td>New Construction</td>\n",
       "      <td>21 to 40</td>\n",
       "      <td>...</td>\n",
       "      <td>NaN</td>\n",
       "      <td>Price Issue</td>\n",
       "      <td>919</td>\n",
       "      <td>NaN</td>\n",
       "      <td>NaN</td>\n",
       "      <td>NaN</td>\n",
       "      <td>NaN</td>\n",
       "      <td>NaN</td>\n",
       "      <td>NaN</td>\n",
       "      <td>NaN</td>\n",
       "    </tr>\n",
       "    <tr>\n",
       "      <th>4</th>\n",
       "      <td>April'16</td>\n",
       "      <td>11-Apr-16</td>\n",
       "      <td>EC11041647360</td>\n",
       "      <td>Direct</td>\n",
       "      <td>Won</td>\n",
       "      <td>TAMILNADU</td>\n",
       "      <td>CHENNAI</td>\n",
       "      <td>600041</td>\n",
       "      <td>Renovation</td>\n",
       "      <td>6 to 10</td>\n",
       "      <td>...</td>\n",
       "      <td>NaN</td>\n",
       "      <td>NaN</td>\n",
       "      <td>1350</td>\n",
       "      <td>Reduce AC Energy Cost</td>\n",
       "      <td>0.0</td>\n",
       "      <td>0.0</td>\n",
       "      <td>0.0</td>\n",
       "      <td>0.0</td>\n",
       "      <td>0.0</td>\n",
       "      <td>1.0</td>\n",
       "    </tr>\n",
       "  </tbody>\n",
       "</table>\n",
       "<p>5 rows × 40 columns</p>\n",
       "</div>"
      ],
      "text/plain": [
       "      Month Enquiry_Date      Enquiry_Id Allocation_Status Status      State  \\\n",
       "0  April'16    02-Apr-16   EC02041646800            Dealer    Won  TAMILNADU   \n",
       "1  April'16    08-Apr-16   EC08041647157            Dealer   Lost  TAMILNADU   \n",
       "2  April'16    08-Apr-16   EC08041647130            Dealer   Lost  TAMILNADU   \n",
       "3  April'16    09-Apr-16   EC09041647202            Direct   Lost  TAMILNADU   \n",
       "4  April'16    11-Apr-16   EC11041647360            Direct    Won  TAMILNADU   \n",
       "\n",
       "          City  Pincode   Type_of_Project No_of_Windows          ...           \\\n",
       "0      CHENNAI   600008        Renovation       6 to 10          ...            \n",
       "1      CHENNAI   600042  New Construction       6 to 10          ...            \n",
       "2      CHENNAI   600015  New Construction        1 to 5          ...            \n",
       "3  KANCHIPURAM   600075  New Construction      21 to 40          ...            \n",
       "4      CHENNAI   600041        Renovation       6 to 10          ...            \n",
       "\n",
       "  Second-Action-Call-Status.1         Remarks Price_Per_Sft  \\\n",
       "0                         NaN             NaN          1105   \n",
       "1                         NaN     Price Issue           985   \n",
       "2                         NaN  Delivery Issue           918   \n",
       "3                         NaN     Price Issue           919   \n",
       "4                         NaN             NaN          1350   \n",
       "\n",
       "                    Benefits Aesthetics Reduce_Street_Noise Low_Maintenance  \\\n",
       "0  Aesthetics & Street Noise        1.0                 1.0             0.0   \n",
       "1                        NaN        NaN                 NaN             NaN   \n",
       "2                        NaN        NaN                 NaN             NaN   \n",
       "3                        NaN        NaN                 NaN             NaN   \n",
       "4      Reduce AC Energy Cost        0.0                 0.0             0.0   \n",
       "\n",
       "  Monsoon_Proof Better_Lighting Reduce_AC_Energy_Cost  \n",
       "0           0.0             0.0                   0.0  \n",
       "1           NaN             NaN                   NaN  \n",
       "2           NaN             NaN                   NaN  \n",
       "3           NaN             NaN                   NaN  \n",
       "4           0.0             0.0                   1.0  \n",
       "\n",
       "[5 rows x 40 columns]"
      ]
     },
     "execution_count": 10,
     "metadata": {},
     "output_type": "execute_result"
    }
   ],
   "source": [
    "data.head()"
   ]
  },
  {
   "cell_type": "code",
   "execution_count": 9,
   "metadata": {},
   "outputs": [
    {
     "data": {
      "text/html": [
       "<div>\n",
       "<style scoped>\n",
       "    .dataframe tbody tr th:only-of-type {\n",
       "        vertical-align: middle;\n",
       "    }\n",
       "\n",
       "    .dataframe tbody tr th {\n",
       "        vertical-align: top;\n",
       "    }\n",
       "\n",
       "    .dataframe thead th {\n",
       "        text-align: right;\n",
       "    }\n",
       "</style>\n",
       "<table border=\"1\" class=\"dataframe\">\n",
       "  <thead>\n",
       "    <tr style=\"text-align: right;\">\n",
       "      <th></th>\n",
       "      <th>Month</th>\n",
       "      <th>Enquiry Date</th>\n",
       "      <th>Enquiry Id</th>\n",
       "      <th>Allocation Status</th>\n",
       "      <th>Status</th>\n",
       "      <th>State</th>\n",
       "      <th>City</th>\n",
       "      <th>Pincode</th>\n",
       "      <th>Type of Project</th>\n",
       "      <th>No of Windows</th>\n",
       "      <th>...</th>\n",
       "      <th>Second Action-Call Status.1</th>\n",
       "      <th>Remarks</th>\n",
       "      <th>Price Per Sft</th>\n",
       "      <th>Benefits</th>\n",
       "      <th>Aesthetics</th>\n",
       "      <th>Reduce Street Noise</th>\n",
       "      <th>Low Maintenance</th>\n",
       "      <th>Monsoon Proof</th>\n",
       "      <th>Better Lighting</th>\n",
       "      <th>Reduce AC Energy Cost</th>\n",
       "    </tr>\n",
       "  </thead>\n",
       "  <tbody>\n",
       "    <tr>\n",
       "      <th>224</th>\n",
       "      <td>Jan'17</td>\n",
       "      <td>21-Jan-17</td>\n",
       "      <td>EC21011770512</td>\n",
       "      <td>Dealer</td>\n",
       "      <td>Lost</td>\n",
       "      <td>TAMILNADU</td>\n",
       "      <td>CHENNAI</td>\n",
       "      <td>600014</td>\n",
       "      <td>Renovation</td>\n",
       "      <td>11 to 20</td>\n",
       "      <td>...</td>\n",
       "      <td>NaN</td>\n",
       "      <td>Price Issue</td>\n",
       "      <td>929</td>\n",
       "      <td>NaN</td>\n",
       "      <td>NaN</td>\n",
       "      <td>NaN</td>\n",
       "      <td>NaN</td>\n",
       "      <td>NaN</td>\n",
       "      <td>NaN</td>\n",
       "      <td>NaN</td>\n",
       "    </tr>\n",
       "    <tr>\n",
       "      <th>225</th>\n",
       "      <td>Jan'17</td>\n",
       "      <td>23-Jan-17</td>\n",
       "      <td>EC24011770882</td>\n",
       "      <td>Direct</td>\n",
       "      <td>Won</td>\n",
       "      <td>TAMILNADU</td>\n",
       "      <td>CHENNAI</td>\n",
       "      <td>600015</td>\n",
       "      <td>Renovation</td>\n",
       "      <td>1 to 5</td>\n",
       "      <td>...</td>\n",
       "      <td>NaN</td>\n",
       "      <td>NaN</td>\n",
       "      <td>945</td>\n",
       "      <td>Low Maintenance</td>\n",
       "      <td>0.0</td>\n",
       "      <td>0.0</td>\n",
       "      <td>1.0</td>\n",
       "      <td>0.0</td>\n",
       "      <td>0.0</td>\n",
       "      <td>0.0</td>\n",
       "    </tr>\n",
       "    <tr>\n",
       "      <th>226</th>\n",
       "      <td>Jan'17</td>\n",
       "      <td>26-Jan-17</td>\n",
       "      <td>EC26121667587</td>\n",
       "      <td>Direct</td>\n",
       "      <td>Lost</td>\n",
       "      <td>TAMILNADU</td>\n",
       "      <td>CHENNAI</td>\n",
       "      <td>600119</td>\n",
       "      <td>Renovation</td>\n",
       "      <td>1 to 5</td>\n",
       "      <td>...</td>\n",
       "      <td>NaN</td>\n",
       "      <td>No Requirment</td>\n",
       "      <td>1044</td>\n",
       "      <td>NaN</td>\n",
       "      <td>NaN</td>\n",
       "      <td>NaN</td>\n",
       "      <td>NaN</td>\n",
       "      <td>NaN</td>\n",
       "      <td>NaN</td>\n",
       "      <td>NaN</td>\n",
       "    </tr>\n",
       "    <tr>\n",
       "      <th>227</th>\n",
       "      <td>Jan'17</td>\n",
       "      <td>27-Jan-17</td>\n",
       "      <td>EC27011771169</td>\n",
       "      <td>Dealer</td>\n",
       "      <td>Lost</td>\n",
       "      <td>TAMILNADU</td>\n",
       "      <td>CHENNAI</td>\n",
       "      <td>600082</td>\n",
       "      <td>Renovation</td>\n",
       "      <td>1 to 5</td>\n",
       "      <td>...</td>\n",
       "      <td>NaN</td>\n",
       "      <td>Design Infeasibility</td>\n",
       "      <td>849</td>\n",
       "      <td>NaN</td>\n",
       "      <td>NaN</td>\n",
       "      <td>NaN</td>\n",
       "      <td>NaN</td>\n",
       "      <td>NaN</td>\n",
       "      <td>NaN</td>\n",
       "      <td>NaN</td>\n",
       "    </tr>\n",
       "    <tr>\n",
       "      <th>228</th>\n",
       "      <td>Jan'17</td>\n",
       "      <td>27-Jan-17</td>\n",
       "      <td>EC27011771160</td>\n",
       "      <td>Direct</td>\n",
       "      <td>Lost</td>\n",
       "      <td>TAMILNADU</td>\n",
       "      <td>KANCHIPURAM</td>\n",
       "      <td>600089</td>\n",
       "      <td>New Construction</td>\n",
       "      <td>1 to 5</td>\n",
       "      <td>...</td>\n",
       "      <td>NaN</td>\n",
       "      <td>Price Issue</td>\n",
       "      <td>946</td>\n",
       "      <td>NaN</td>\n",
       "      <td>NaN</td>\n",
       "      <td>NaN</td>\n",
       "      <td>NaN</td>\n",
       "      <td>NaN</td>\n",
       "      <td>NaN</td>\n",
       "      <td>NaN</td>\n",
       "    </tr>\n",
       "  </tbody>\n",
       "</table>\n",
       "<p>5 rows × 40 columns</p>\n",
       "</div>"
      ],
      "text/plain": [
       "      Month Enquiry Date     Enquiry Id Allocation Status Status      State  \\\n",
       "224  Jan'17    21-Jan-17  EC21011770512            Dealer   Lost  TAMILNADU   \n",
       "225  Jan'17    23-Jan-17  EC24011770882            Direct    Won  TAMILNADU   \n",
       "226  Jan'17    26-Jan-17  EC26121667587            Direct   Lost  TAMILNADU   \n",
       "227  Jan'17    27-Jan-17  EC27011771169            Dealer   Lost  TAMILNADU   \n",
       "228  Jan'17    27-Jan-17  EC27011771160            Direct   Lost  TAMILNADU   \n",
       "\n",
       "            City  Pincode   Type of Project No of Windows  \\\n",
       "224      CHENNAI   600014        Renovation      11 to 20   \n",
       "225      CHENNAI   600015        Renovation        1 to 5   \n",
       "226      CHENNAI   600119        Renovation        1 to 5   \n",
       "227      CHENNAI   600082        Renovation        1 to 5   \n",
       "228  KANCHIPURAM   600089  New Construction        1 to 5   \n",
       "\n",
       "             ...          Second Action-Call Status.1               Remarks  \\\n",
       "224          ...                                  NaN           Price Issue   \n",
       "225          ...                                  NaN                   NaN   \n",
       "226          ...                                  NaN         No Requirment   \n",
       "227          ...                                  NaN  Design Infeasibility   \n",
       "228          ...                                  NaN           Price Issue   \n",
       "\n",
       "    Price Per Sft         Benefits Aesthetics Reduce Street Noise  \\\n",
       "224           929              NaN        NaN                 NaN   \n",
       "225           945  Low Maintenance        0.0                 0.0   \n",
       "226          1044              NaN        NaN                 NaN   \n",
       "227           849              NaN        NaN                 NaN   \n",
       "228           946              NaN        NaN                 NaN   \n",
       "\n",
       "    Low Maintenance Monsoon Proof Better Lighting Reduce AC Energy Cost  \n",
       "224             NaN           NaN             NaN                   NaN  \n",
       "225             1.0           0.0             0.0                   0.0  \n",
       "226             NaN           NaN             NaN                   NaN  \n",
       "227             NaN           NaN             NaN                   NaN  \n",
       "228             NaN           NaN             NaN                   NaN  \n",
       "\n",
       "[5 rows x 40 columns]"
      ]
     },
     "execution_count": 9,
     "metadata": {},
     "output_type": "execute_result"
    }
   ],
   "source": [
    "data.tail(5)"
   ]
  },
  {
   "cell_type": "code",
   "execution_count": 11,
   "metadata": {},
   "outputs": [
    {
     "name": "stdout",
     "output_type": "stream",
     "text": [
      "<class 'pandas.core.frame.DataFrame'>\n",
      "RangeIndex: 229 entries, 0 to 228\n",
      "Data columns (total 40 columns):\n",
      "Month                                      229 non-null object\n",
      "Enquiry_Date                               229 non-null object\n",
      "Enquiry_Id                                 229 non-null object\n",
      "Allocation_Status                          229 non-null object\n",
      "Status                                     229 non-null object\n",
      "State                                      229 non-null object\n",
      "City                                       229 non-null object\n",
      "Pincode                                    229 non-null int64\n",
      "Type_of_Project                            229 non-null object\n",
      "No_of_Windows                              229 non-null object\n",
      "Source                                     229 non-null object\n",
      "Zone                                       229 non-null object\n",
      "Dealer_Name                                229 non-null object\n",
      "First_Action-Call_made                     229 non-null object\n",
      "Date_DD/MM/YY                              229 non-null object\n",
      "First-Action-Call-Status                   229 non-null object\n",
      "Date of Appointment (DD/MM/YY)             192 non-null object\n",
      "Second Action-Customer Meeting             192 non-null object\n",
      "Date-DD/MM/YY.1                            192 non-null object\n",
      "Second-Action-Call-Status                  191 non-null object\n",
      "Third-Action-Quote-Given                   189 non-null object\n",
      "Date-DD/MM/YY.2                            188 non-null object\n",
      "Q-Val.(Rs.Lac)                             183 non-null float64\n",
      "Quote-QTY                                  183 non-null object\n",
      "Order-(Recd\\Lost)                          229 non-null object\n",
      "Date-DD/MM/YY.3                            48 non-null object\n",
      "Order-Val.(Rs.Lac)                         48 non-null float64\n",
      "Order_QTY                                  48 non-null float64\n",
      "Quote_ID(as_per_match_to_CCC_Records)      116 non-null object\n",
      "Remarks-Brand-and-value-if-lost-to-UPVC    123 non-null object\n",
      "Second-Action-Call-Status.1                0 non-null float64\n",
      "Remarks                                    171 non-null object\n",
      "Price_Per_Sft                              229 non-null int64\n",
      "Benefits                                   53 non-null object\n",
      "Aesthetics                                 37 non-null float64\n",
      "Reduce_Street_Noise                        37 non-null float64\n",
      "Low_Maintenance                            37 non-null float64\n",
      "Monsoon_Proof                              37 non-null float64\n",
      "Better_Lighting                            37 non-null float64\n",
      "Reduce_AC_Energy_Cost                      37 non-null float64\n",
      "dtypes: float64(10), int64(2), object(28)\n",
      "memory usage: 71.6+ KB\n"
     ]
    }
   ],
   "source": [
    "data.info()"
   ]
  },
  {
   "cell_type": "code",
   "execution_count": null,
   "metadata": {},
   "outputs": [],
   "source": []
  },
  {
   "cell_type": "markdown",
   "metadata": {},
   "source": [
    "# EDA"
   ]
  },
  {
   "cell_type": "code",
   "execution_count": 25,
   "metadata": {},
   "outputs": [
    {
     "data": {
      "text/plain": [
       "Text(0.5,0,'Enquiries in the months')"
      ]
     },
     "execution_count": 25,
     "metadata": {},
     "output_type": "execute_result"
    },
    {
     "data": {
      "image/png": "[encoded data removed]",
      "text/plain": [
       "<Figure size 432x288 with 1 Axes>"
      ]
     },
     "metadata": {
      "needs_background": "light"
     },
     "output_type": "display_data"
    }
   ],
   "source": [
    "data.Month.value_counts().plot(kind='bar')\n",
    "plt.title('Enquiry Dates over the year 2016-2016')\n",
    "plt.ylabel('Counts')\n",
    "plt.xlabel('Enquiries in the months')"
   ]
  },
  {
   "cell_type": "code",
   "execution_count": null,
   "metadata": {},
   "outputs": [],
   "source": [
    "## Maximum enquiries happened in the month of July 2016"
   ]
  },
  {
   "cell_type": "code",
   "execution_count": 29,
   "metadata": {},
   "outputs": [
    {
     "data": {
      "text/plain": [
       "Text(0.5,1,'Business type')"
      ]
     },
     "execution_count": 29,
     "metadata": {},
     "output_type": "execute_result"
    },
    {
     "data": {
      "image/png": "[encoded data removed]",
      "text/plain": [
       "<Figure size 432x288 with 1 Axes>"
      ]
     },
     "metadata": {},
     "output_type": "display_data"
    }
   ],
   "source": [
    "data['Allocation_Status'].value_counts().plot(kind='pie')\n",
    "\n",
    "plt.title('Business type')"
   ]
  },
  {
   "cell_type": "code",
   "execution_count": null,
   "metadata": {},
   "outputs": [],
   "source": [
    "## Maximum enquiries are handled by Dealers than Direct business."
   ]
  },
  {
   "cell_type": "code",
   "execution_count": 7,
   "metadata": {},
   "outputs": [
    {
     "data": {
      "text/plain": [
       "Text(0.5,0,'Lost vs Won')"
      ]
     },
     "execution_count": 7,
     "metadata": {},
     "output_type": "execute_result"
    },
    {
     "data": {
      "image/png": "[encoded data removed]",
      "text/plain": [
       "<Figure size 432x288 with 1 Axes>"
      ]
     },
     "metadata": {
      "needs_background": "light"
     },
     "output_type": "display_data"
    }
   ],
   "source": [
    "data.Status.value_counts().plot(kind='bar')\n",
    "plt.title('Enquiries Status')\n",
    "plt.ylabel('Counts')\n",
    "plt.xlabel('Lost vs Won')"
   ]
  },
  {
   "cell_type": "code",
   "execution_count": 8,
   "metadata": {},
   "outputs": [
    {
     "data": {
      "text/plain": [
       "Lost    176\n",
       "Won      53\n",
       "Name: Status, dtype: int64"
      ]
     },
     "execution_count": 8,
     "metadata": {},
     "output_type": "execute_result"
    }
   ],
   "source": [
    "data.Status.value_counts()"
   ]
  },
  {
   "cell_type": "code",
   "execution_count": 9,
   "metadata": {},
   "outputs": [
    {
     "data": {
      "text/plain": [
       "229"
      ]
     },
     "execution_count": 9,
     "metadata": {},
     "output_type": "execute_result"
    }
   ],
   "source": [
    "176+53"
   ]
  },
  {
   "cell_type": "code",
   "execution_count": null,
   "metadata": {},
   "outputs": [],
   "source": [
    "## A few of the enquiries are materialised."
   ]
  },
  {
   "cell_type": "code",
   "execution_count": 187,
   "metadata": {},
   "outputs": [
    {
     "data": {
      "text/plain": [
       "Text(0.5,0,'City')"
      ]
     },
     "execution_count": 187,
     "metadata": {},
     "output_type": "execute_result"
    },
    {
     "data": {
      "image/png": "[encoded data removed]",
      "text/plain": [
       "<Figure size 864x648 with 1 Axes>"
      ]
     },
     "metadata": {
      "needs_background": "light"
     },
     "output_type": "display_data"
    }
   ],
   "source": [
    "data.City.value_counts().plot(kind='bar')\n",
    "plt.title('Cities dealt by PVC')\n",
    "plt.ylabel('Counts')\n",
    "plt.xlabel('City')"
   ]
  },
  {
   "cell_type": "code",
   "execution_count": null,
   "metadata": {},
   "outputs": [],
   "source": [
    "## PVC manufacture has dealers in Chennai,Kanchipuram,Vellore,Krishnagiri,Villupuram,Pondicherry,Cuddalore and among all Chennai recieved maximum enquiries."
   ]
  },
  {
   "cell_type": "code",
   "execution_count": 32,
   "metadata": {},
   "outputs": [
    {
     "data": {
      "text/plain": [
       "Text(0.5,0,'City')"
      ]
     },
     "execution_count": 32,
     "metadata": {},
     "output_type": "execute_result"
    },
    {
     "data": {
      "image/png": "[encoded data removed]",
      "text/plain": [
       "<Figure size 432x288 with 1 Axes>"
      ]
     },
     "metadata": {
      "needs_background": "light"
     },
     "output_type": "display_data"
    }
   ],
   "source": [
    "data.Pincode.groupby(data.City).sum().sort_values(ascending=False).plot(kind='bar')\n",
    "plt.title('Count of pincodes for each city')\n",
    "plt.ylabel('Count of Pincodes')\n",
    "plt.xlabel('City')"
   ]
  },
  {
   "cell_type": "code",
   "execution_count": null,
   "metadata": {},
   "outputs": [],
   "source": [
    "## Chennai has maximum number of pincodes."
   ]
  },
  {
   "cell_type": "code",
   "execution_count": 36,
   "metadata": {},
   "outputs": [
    {
     "data": {
      "text/plain": [
       "Text(0.5,1,'Type of projects')"
      ]
     },
     "execution_count": 36,
     "metadata": {},
     "output_type": "execute_result"
    },
    {
     "data": {
      "image/png": "[encoded data removed]",
      "text/plain": [
       "<Figure size 432x288 with 1 Axes>"
      ]
     },
     "metadata": {},
     "output_type": "display_data"
    }
   ],
   "source": [
    "data['Type_of_Project'].value_counts().plot(kind='pie')\n",
    "plt.title('Type of projects')\n"
   ]
  },
  {
   "cell_type": "code",
   "execution_count": null,
   "metadata": {},
   "outputs": [],
   "source": [
    "## PVC manufacturer is handling two kinds of projects.One is Renovation and the other is New Construction type.\n",
    "## Maximum number of enquiries are happened for Renovation."
   ]
  },
  {
   "cell_type": "code",
   "execution_count": 189,
   "metadata": {},
   "outputs": [
    {
     "data": {
      "text/plain": [
       "Text(0.5,0,'Source of enquiry')"
      ]
     },
     "execution_count": 189,
     "metadata": {},
     "output_type": "execute_result"
    },
    {
     "data": {
      "image/png": "[encoded data removed]",
      "text/plain": [
       "<Figure size 864x648 with 1 Axes>"
      ]
     },
     "metadata": {
      "needs_background": "light"
     },
     "output_type": "display_data"
    }
   ],
   "source": [
    "data['Source'].value_counts().plot(kind='bar')\n",
    "plt.title('Source of enquiry')\n",
    "plt.ylabel('Count of enquiries')\n",
    "plt.xlabel('Source of enquiry')"
   ]
  },
  {
   "cell_type": "code",
   "execution_count": null,
   "metadata": {},
   "outputs": [],
   "source": [
    "## Internet,Friends,Just dial,Current user are four sources through which the manufacturer got the enquiries.\n",
    "## Maximum enquiries are from the source internet."
   ]
  },
  {
   "cell_type": "code",
   "execution_count": 193,
   "metadata": {},
   "outputs": [
    {
     "data": {
      "text/plain": [
       "Text(0.5,0,'Dealers')"
      ]
     },
     "execution_count": 193,
     "metadata": {},
     "output_type": "execute_result"
    },
    {
     "data": {
      "image/png": "[encoded data removed]",
      "text/plain": [
       "<Figure size 864x648 with 1 Axes>"
      ]
     },
     "metadata": {
      "needs_background": "light"
     },
     "output_type": "display_data"
    }
   ],
   "source": [
    "data['Dealer_Name'].value_counts().plot(kind='bar')\n",
    "plt.ylabel('Count of enquiries')\n",
    "plt.xlabel('Dealers')"
   ]
  },
  {
   "cell_type": "code",
   "execution_count": null,
   "metadata": {},
   "outputs": [],
   "source": [
    "## PVC manufaturer has 9 dealers and dealer Direct has got maximum enquiries."
   ]
  },
  {
   "cell_type": "code",
   "execution_count": 52,
   "metadata": {},
   "outputs": [
    {
     "data": {
      "text/plain": [
       "Text(0.5,1,'Zone wise dealers')"
      ]
     },
     "execution_count": 52,
     "metadata": {},
     "output_type": "execute_result"
    },
    {
     "data": {
      "image/png": "[encoded data removed]",
      "text/plain": [
       "<Figure size 432x288 with 1 Axes>"
      ]
     },
     "metadata": {
      "needs_background": "light"
     },
     "output_type": "display_data"
    }
   ],
   "source": [
    "pd.crosstab(data['Dealer_Name'],data.Zone).plot(kind='bar')\n",
    "plt.ylabel('Count of enquiries')\n",
    "plt.xlabel('Dealers')\n",
    "plt.title('Zone wise dealers')"
   ]
  },
  {
   "cell_type": "code",
   "execution_count": 7,
   "metadata": {},
   "outputs": [
    {
     "data": {
      "text/plain": [
       "pandas.core.series.Series"
      ]
     },
     "execution_count": 7,
     "metadata": {},
     "output_type": "execute_result"
    }
   ],
   "source": [
    "type(data[data['Dealer_Name']=='pearlson'].Dealer_Name)"
   ]
  },
  {
   "cell_type": "code",
   "execution_count": 6,
   "metadata": {},
   "outputs": [],
   "source": [
    "def dealer_name(x):\n",
    "    if x == 'pearlson':\n",
    "        return 'Pearlson'\n",
    "    else:\n",
    "        return x"
   ]
  },
  {
   "cell_type": "code",
   "execution_count": 7,
   "metadata": {},
   "outputs": [],
   "source": [
    "data['Dealer_Name'] = data['Dealer_Name'].apply(dealer_name)"
   ]
  },
  {
   "cell_type": "code",
   "execution_count": 75,
   "metadata": {},
   "outputs": [
    {
     "data": {
      "text/plain": [
       "Direct        63\n",
       "Windoors      45\n",
       "Sunbird       36\n",
       "OXXO          20\n",
       "Winfratech    20\n",
       "Pearlson      16\n",
       "Rajtechnis    15\n",
       "ITP           14\n",
       "Name: Dealer_Name, dtype: int64"
      ]
     },
     "execution_count": 75,
     "metadata": {},
     "output_type": "execute_result"
    }
   ],
   "source": [
    "data['Dealer_Name'].value_counts()"
   ]
  },
  {
   "cell_type": "code",
   "execution_count": null,
   "metadata": {},
   "outputs": [],
   "source": [
    "## All the dealeres are dealing with the enquiries and dealer Sunbird is dealing with Chehhai and Kanchipuram zones."
   ]
  },
  {
   "cell_type": "code",
   "execution_count": 53,
   "metadata": {},
   "outputs": [
    {
     "data": {
      "text/plain": [
       "Text(0.5,0,'First discussion status')"
      ]
     },
     "execution_count": 53,
     "metadata": {},
     "output_type": "execute_result"
    },
    {
     "data": {
      "image/png": "[encoded data removed]",
      "text/plain": [
       "<Figure size 432x288 with 1 Axes>"
      ]
     },
     "metadata": {
      "needs_background": "light"
     },
     "output_type": "display_data"
    }
   ],
   "source": [
    "data['First-Action-Call-Status'].value_counts().plot(kind='bar')\n",
    "plt.title('Status after the first call')\n",
    "plt.ylabel('Count of enquiries')\n",
    "plt.xlabel('First discussion status')"
   ]
  },
  {
   "cell_type": "code",
   "execution_count": null,
   "metadata": {},
   "outputs": [],
   "source": [
    "## After the first enquiry call few of the enquiries are going for second discussion and others are not willing to go further \n",
    "## due to reasons like budget constraint,feasibility of the design, time frame constraint and some of them are just awareness calls."
   ]
  },
  {
   "cell_type": "code",
   "execution_count": 198,
   "metadata": {},
   "outputs": [
    {
     "data": {
      "text/plain": [
       "Text(0.5,0,'Second discussion status')"
      ]
     },
     "execution_count": 198,
     "metadata": {},
     "output_type": "execute_result"
    },
    {
     "data": {
      "image/png": "[encoded data removed]",
      "text/plain": [
       "<Figure size 864x648 with 1 Axes>"
      ]
     },
     "metadata": {
      "needs_background": "light"
     },
     "output_type": "display_data"
    }
   ],
   "source": [
    "data['Second-Action-Call-Status'].value_counts().plot(kind='bar')\n",
    "plt.title('Status after the Second call')\n",
    "plt.ylabel('Count of enquiries')\n",
    "plt.xlabel('Second discussion status')"
   ]
  },
  {
   "cell_type": "code",
   "execution_count": null,
   "metadata": {},
   "outputs": [],
   "source": [
    "# After the discussion with the customers for the second time, quote has to be given to the interested ones(189 out of 191).\n",
    "## one customer requested for further discussion."
   ]
  },
  {
   "cell_type": "code",
   "execution_count": 50,
   "metadata": {},
   "outputs": [
    {
     "data": {
      "text/plain": [
       "Quote to Be Submitted       189\n",
       "Further Meeting Required      1\n",
       "Design not Feasible           1\n",
       "Name: Second Action-Call Status, dtype: int64"
      ]
     },
     "execution_count": 50,
     "metadata": {},
     "output_type": "execute_result"
    }
   ],
   "source": [
    "data['Second Action-Call Status'].value_counts()"
   ]
  },
  {
   "cell_type": "code",
   "execution_count": 199,
   "metadata": {},
   "outputs": [
    {
     "data": {
      "text/plain": [
       "Text(0.5,1,'Third discussion status')"
      ]
     },
     "execution_count": 199,
     "metadata": {},
     "output_type": "execute_result"
    },
    {
     "data": {
      "image/png": "[encoded data removed]",
      "text/plain": [
       "<Figure size 864x648 with 1 Axes>"
      ]
     },
     "metadata": {
      "needs_background": "light"
     },
     "output_type": "display_data"
    }
   ],
   "source": [
    "pd.crosstab(data['Third-Action-Quote-Given'].count(),data.Status).plot(kind='bar')\n",
    "plt.ylabel('Counts')\n",
    "plt.xlabel('Orders Recieved/Lost')\n",
    "plt.title('Third discussion status')\n"
   ]
  },
  {
   "cell_type": "code",
   "execution_count": 65,
   "metadata": {},
   "outputs": [
    {
     "data": {
      "text/html": [
       "<div>\n",
       "<style scoped>\n",
       "    .dataframe tbody tr th:only-of-type {\n",
       "        vertical-align: middle;\n",
       "    }\n",
       "\n",
       "    .dataframe tbody tr th {\n",
       "        vertical-align: top;\n",
       "    }\n",
       "\n",
       "    .dataframe thead th {\n",
       "        text-align: right;\n",
       "    }\n",
       "</style>\n",
       "<table border=\"1\" class=\"dataframe\">\n",
       "  <thead>\n",
       "    <tr style=\"text-align: right;\">\n",
       "      <th>Status</th>\n",
       "      <th>Lost</th>\n",
       "      <th>Won</th>\n",
       "    </tr>\n",
       "    <tr>\n",
       "      <th>row_0</th>\n",
       "      <th></th>\n",
       "      <th></th>\n",
       "    </tr>\n",
       "  </thead>\n",
       "  <tbody>\n",
       "    <tr>\n",
       "      <th>189</th>\n",
       "      <td>176</td>\n",
       "      <td>53</td>\n",
       "    </tr>\n",
       "  </tbody>\n",
       "</table>\n",
       "</div>"
      ],
      "text/plain": [
       "Status  Lost  Won\n",
       "row_0            \n",
       "189      176   53"
      ]
     },
     "execution_count": 65,
     "metadata": {},
     "output_type": "execute_result"
    }
   ],
   "source": [
    "pd.crosstab(data['Third Action-Quote Given'].count(),data.Status)"
   ]
  },
  {
   "cell_type": "code",
   "execution_count": null,
   "metadata": {},
   "outputs": [],
   "source": [
    "## Of 189 customers after third discussion 53 converted to business."
   ]
  },
  {
   "cell_type": "code",
   "execution_count": null,
   "metadata": {},
   "outputs": [],
   "source": []
  },
  {
   "cell_type": "code",
   "execution_count": 182,
   "metadata": {},
   "outputs": [
    {
     "data": {
      "image/png": "[encoded data removed]",
      "text/plain": [
       "<Figure size 1080x648 with 1 Axes>"
      ]
     },
     "metadata": {
      "needs_background": "light"
     },
     "output_type": "display_data"
    }
   ],
   "source": [
    "pd.crosstab(data[data['Status']=='Lost'].Status.count(),data['Order-(Recd\\Lost)']).plot(kind='bar')\n",
    "plt.title('Reasons for Nonconversion rate' )\n",
    "plt.ylabel('Counts')\n",
    "plt.xlabel('Nonconversion rate segments')\n",
    "fig_size = plt.rcParams[\"figure.figsize\"]\n",
    "fig_size[0] = 12\n",
    "fig_size[1] = 9\n",
    "plt.rcParams[\"figure.figsize\"] = fig_size"
   ]
  },
  {
   "cell_type": "code",
   "execution_count": 130,
   "metadata": {},
   "outputs": [
    {
     "data": {
      "text/plain": [
       "Lost to UPVC (Provide details)    87\n",
       "Order Received                    53\n",
       "Lost to Wooden                    30\n",
       "Product Issue-Design/Type         28\n",
       "Lost to Aluminum                  27\n",
       "Delivery Time Not Possible         4\n",
       "Name: Order-(Recd\\Lost), dtype: int64"
      ]
     },
     "execution_count": 130,
     "metadata": {},
     "output_type": "execute_result"
    }
   ],
   "source": [
    "data['Order-(Recd\\Lost)'].value_counts()"
   ]
  },
  {
   "cell_type": "code",
   "execution_count": 127,
   "metadata": {},
   "outputs": [
    {
     "data": {
      "text/plain": [
       "176"
      ]
     },
     "execution_count": 127,
     "metadata": {},
     "output_type": "execute_result"
    }
   ],
   "source": [
    "data[data['Status']=='Lost'].Status.count()"
   ]
  },
  {
   "cell_type": "code",
   "execution_count": null,
   "metadata": {},
   "outputs": [],
   "source": [
    "## Conversion rate is not achieved after the third discussion because of the following reasons\n",
    "-- Delivery time not possible\n",
    "--Aluminium\n",
    "--Wooden\n",
    "--Product issue"
   ]
  },
  {
   "cell_type": "code",
   "execution_count": 18,
   "metadata": {},
   "outputs": [
    {
     "data": {
      "text/plain": [
       "Price Issue                      103\n",
       "Budget Constraint                 26\n",
       "Design Infeasibility              23\n",
       "Price issue                        7\n",
       "Delivery Issue                     3\n",
       "No Requirment                      2\n",
       "Service Infeasibility              1\n",
       "Delivery Issve                     1\n",
       "No Requirement-Awareness Call      1\n",
       "No Requirement                     1\n",
       "Others                             1\n",
       "Design Not Feasible                1\n",
       "Design Infeasibe My                1\n",
       "Name: Remarks, dtype: int64"
      ]
     },
     "execution_count": 18,
     "metadata": {},
     "output_type": "execute_result"
    }
   ],
   "source": [
    "data.Remarks.value_counts()"
   ]
  },
  {
   "cell_type": "code",
   "execution_count": 19,
   "metadata": {},
   "outputs": [],
   "source": [
    "def Remarks1(x):\n",
    "    if x == 'Design Infeasibe My':\n",
    "        return 'Design Not Feasible'\n",
    "    elif x == 'Design Infeasibility':\n",
    "        return 'Design Not Feasible'\n",
    "    elif x == 'Design Not Feasible':\n",
    "        return 'Design Not Feasible'\n",
    "    elif x == 'Delivery Issve':\n",
    "        return 'Delivery Issue'\n",
    "    elif x == 'Delivery Issue':\n",
    "        return 'Delivery Issue'\n",
    "    elif x == 'No Requirement':\n",
    "        return 'Awareness Call'\n",
    "    elif x == 'No Requirment':\n",
    "        return 'Awareness Call'\n",
    "    \n",
    "    elif x == 'No Requirement-Awareness Call':\n",
    "        return 'Awareness Call'\n",
    "    elif x == 'Price Issue':\n",
    "        return 'Price Issue'\n",
    "    elif x == 'Price issue':\n",
    "        return 'Price Issue'\n",
    "    elif x == 'Price Issue':\n",
    "        return 'Price Issue'\n",
    "    elif x == 'Budget Constraint':\n",
    "        return 'Budget Constraint'\n",
    "    elif x == 'Others':\n",
    "        return 'Others'\n",
    "    elif x == 'Service Infeasibility':\n",
    "        return 'Service Infeasibility'\n",
    "        "
   ]
  },
  {
   "cell_type": "code",
   "execution_count": 20,
   "metadata": {},
   "outputs": [],
   "source": [
    "data['Remarks'] = data['Remarks'].apply(Remarks1)\n"
   ]
  },
  {
   "cell_type": "code",
   "execution_count": 21,
   "metadata": {},
   "outputs": [
    {
     "data": {
      "text/plain": [
       "Price Issue              110\n",
       "Budget Constraint         26\n",
       "Design Not Feasible       25\n",
       "Awareness Call             4\n",
       "Delivery Issue             4\n",
       "Service Infeasibility      1\n",
       "Others                     1\n",
       "Name: Remarks, dtype: int64"
      ]
     },
     "execution_count": 21,
     "metadata": {},
     "output_type": "execute_result"
    }
   ],
   "source": [
    "data.Remarks.value_counts()"
   ]
  },
  {
   "cell_type": "code",
   "execution_count": 22,
   "metadata": {},
   "outputs": [
    {
     "data": {
      "text/plain": [
       "Text(0.5,1,'Remarks for the lost orders')"
      ]
     },
     "execution_count": 22,
     "metadata": {},
     "output_type": "execute_result"
    },
    {
     "data": {
      "image/png": "[encoded data removed]",
      "text/plain": [
       "<Figure size 432x288 with 1 Axes>"
      ]
     },
     "metadata": {
      "needs_background": "light"
     },
     "output_type": "display_data"
    }
   ],
   "source": [
    "pd.crosstab(data[data['Status']=='Lost'].Status.count(),data.Remarks).plot(kind='bar')\n",
    "plt.ylabel('Enquiry Count')\n",
    "plt.xlabel('Remarks')\n",
    "plt.title('Remarks for the lost orders')"
   ]
  },
  {
   "cell_type": "code",
   "execution_count": null,
   "metadata": {},
   "outputs": [],
   "source": [
    "## Maximum number of enquiries did not achieve convertion rates because of price issue(103 out of 171),\n",
    "# budget constraint(26 out of 171) and desigh feasibility(23 out of 171)\n"
   ]
  },
  {
   "cell_type": "code",
   "execution_count": 10,
   "metadata": {},
   "outputs": [],
   "source": [
    "data['Order_QTY'].fillna(0, inplace=True)"
   ]
  },
  {
   "cell_type": "code",
   "execution_count": 164,
   "metadata": {},
   "outputs": [
    {
     "data": {
      "text/plain": [
       "491.0"
      ]
     },
     "execution_count": 164,
     "metadata": {},
     "output_type": "execute_result"
    }
   ],
   "source": [
    "pd.set_option('max_colwidth',200)\n",
    "data['Order_QTY'].sum()"
   ]
  },
  {
   "cell_type": "code",
   "execution_count": 170,
   "metadata": {},
   "outputs": [
    {
     "data": {
      "text/plain": [
       "<matplotlib.axes._subplots.AxesSubplot at 0x1a1e587f60>"
      ]
     },
     "execution_count": 170,
     "metadata": {},
     "output_type": "execute_result"
    },
    {
     "data": {
      "image/png": "[encoded data removed]",
      "text/plain": [
       "<Figure size 1080x648 with 1 Axes>"
      ]
     },
     "metadata": {
      "needs_background": "light"
     },
     "output_type": "display_data"
    }
   ],
   "source": [
    "data['Order_QTY'].value_counts().plot(kind='bar')\n",
    "plot.title('Ordered quantity by lost enquiries')\n",
    "plt.xlabel('Quantity ordered')\n",
    "plt.ylabel('Count of enquiries')"
   ]
  },
  {
   "cell_type": "code",
   "execution_count": null,
   "metadata": {},
   "outputs": [],
   "source": [
    "## Quantities oredered by the enquiries that didnot convert to business are very low ranging from 1 to 10."
   ]
  },
  {
   "cell_type": "code",
   "execution_count": 169,
   "metadata": {},
   "outputs": [
    {
     "data": {
      "text/plain": [
       "0.0     181\n",
       "1.0      10\n",
       "2.0       6\n",
       "3.0       3\n",
       "6.0       3\n",
       "8.0       3\n",
       "9.0       3\n",
       "4.0       3\n",
       "7.0       3\n",
       "16.0      2\n",
       "14.0      2\n",
       "13.0      2\n",
       "45.0      1\n",
       "5.0       1\n",
       "58.0      1\n",
       "12.0      1\n",
       "73.0      1\n",
       "41.0      1\n",
       "28.0      1\n",
       "10.0      1\n",
       "Name: Order_QTY, dtype: int64"
      ]
     },
     "execution_count": 169,
     "metadata": {},
     "output_type": "execute_result"
    }
   ],
   "source": [
    "data['Order_QTY'].value_counts()"
   ]
  },
  {
   "cell_type": "code",
   "execution_count": null,
   "metadata": {},
   "outputs": [],
   "source": []
  },
  {
   "cell_type": "code",
   "execution_count": null,
   "metadata": {},
   "outputs": [],
   "source": []
  },
  {
   "cell_type": "code",
   "execution_count": null,
   "metadata": {},
   "outputs": [],
   "source": []
  },
  {
   "cell_type": "code",
   "execution_count": null,
   "metadata": {},
   "outputs": [],
   "source": []
  },
  {
   "cell_type": "code",
   "execution_count": null,
   "metadata": {},
   "outputs": [],
   "source": []
  },
  {
   "cell_type": "code",
   "execution_count": 181,
   "metadata": {},
   "outputs": [
    {
     "data": {
      "text/html": [
       "<div>\n",
       "<style scoped>\n",
       "    .dataframe tbody tr th:only-of-type {\n",
       "        vertical-align: middle;\n",
       "    }\n",
       "\n",
       "    .dataframe tbody tr th {\n",
       "        vertical-align: top;\n",
       "    }\n",
       "\n",
       "    .dataframe thead th {\n",
       "        text-align: right;\n",
       "    }\n",
       "</style>\n",
       "<table border=\"1\" class=\"dataframe\">\n",
       "  <thead>\n",
       "    <tr style=\"text-align: right;\">\n",
       "      <th>Order_QTY</th>\n",
       "      <th>1.0</th>\n",
       "      <th>2.0</th>\n",
       "      <th>3.0</th>\n",
       "      <th>4.0</th>\n",
       "      <th>5.0</th>\n",
       "      <th>6.0</th>\n",
       "      <th>7.0</th>\n",
       "      <th>8.0</th>\n",
       "      <th>9.0</th>\n",
       "      <th>10.0</th>\n",
       "      <th>12.0</th>\n",
       "      <th>13.0</th>\n",
       "      <th>14.0</th>\n",
       "      <th>16.0</th>\n",
       "      <th>28.0</th>\n",
       "      <th>41.0</th>\n",
       "      <th>45.0</th>\n",
       "      <th>58.0</th>\n",
       "      <th>73.0</th>\n",
       "    </tr>\n",
       "    <tr>\n",
       "      <th>Q-Val.(Rs.Lac)</th>\n",
       "      <th></th>\n",
       "      <th></th>\n",
       "      <th></th>\n",
       "      <th></th>\n",
       "      <th></th>\n",
       "      <th></th>\n",
       "      <th></th>\n",
       "      <th></th>\n",
       "      <th></th>\n",
       "      <th></th>\n",
       "      <th></th>\n",
       "      <th></th>\n",
       "      <th></th>\n",
       "      <th></th>\n",
       "      <th></th>\n",
       "      <th></th>\n",
       "      <th></th>\n",
       "      <th></th>\n",
       "      <th></th>\n",
       "    </tr>\n",
       "  </thead>\n",
       "  <tbody>\n",
       "    <tr>\n",
       "      <th>0.01</th>\n",
       "      <td>1</td>\n",
       "      <td>0</td>\n",
       "      <td>0</td>\n",
       "      <td>0</td>\n",
       "      <td>0</td>\n",
       "      <td>0</td>\n",
       "      <td>0</td>\n",
       "      <td>0</td>\n",
       "      <td>0</td>\n",
       "      <td>0</td>\n",
       "      <td>0</td>\n",
       "      <td>0</td>\n",
       "      <td>0</td>\n",
       "      <td>0</td>\n",
       "      <td>0</td>\n",
       "      <td>0</td>\n",
       "      <td>0</td>\n",
       "      <td>0</td>\n",
       "      <td>0</td>\n",
       "    </tr>\n",
       "    <tr>\n",
       "      <th>0.15</th>\n",
       "      <td>1</td>\n",
       "      <td>0</td>\n",
       "      <td>0</td>\n",
       "      <td>0</td>\n",
       "      <td>0</td>\n",
       "      <td>0</td>\n",
       "      <td>0</td>\n",
       "      <td>0</td>\n",
       "      <td>0</td>\n",
       "      <td>0</td>\n",
       "      <td>0</td>\n",
       "      <td>0</td>\n",
       "      <td>0</td>\n",
       "      <td>0</td>\n",
       "      <td>0</td>\n",
       "      <td>0</td>\n",
       "      <td>0</td>\n",
       "      <td>0</td>\n",
       "      <td>0</td>\n",
       "    </tr>\n",
       "    <tr>\n",
       "      <th>0.20</th>\n",
       "      <td>1</td>\n",
       "      <td>0</td>\n",
       "      <td>0</td>\n",
       "      <td>0</td>\n",
       "      <td>0</td>\n",
       "      <td>0</td>\n",
       "      <td>0</td>\n",
       "      <td>0</td>\n",
       "      <td>0</td>\n",
       "      <td>0</td>\n",
       "      <td>0</td>\n",
       "      <td>0</td>\n",
       "      <td>0</td>\n",
       "      <td>0</td>\n",
       "      <td>0</td>\n",
       "      <td>0</td>\n",
       "      <td>0</td>\n",
       "      <td>0</td>\n",
       "      <td>0</td>\n",
       "    </tr>\n",
       "    <tr>\n",
       "      <th>0.21</th>\n",
       "      <td>1</td>\n",
       "      <td>0</td>\n",
       "      <td>0</td>\n",
       "      <td>0</td>\n",
       "      <td>0</td>\n",
       "      <td>0</td>\n",
       "      <td>0</td>\n",
       "      <td>0</td>\n",
       "      <td>0</td>\n",
       "      <td>0</td>\n",
       "      <td>0</td>\n",
       "      <td>0</td>\n",
       "      <td>0</td>\n",
       "      <td>0</td>\n",
       "      <td>0</td>\n",
       "      <td>0</td>\n",
       "      <td>0</td>\n",
       "      <td>0</td>\n",
       "      <td>0</td>\n",
       "    </tr>\n",
       "    <tr>\n",
       "      <th>0.25</th>\n",
       "      <td>1</td>\n",
       "      <td>0</td>\n",
       "      <td>0</td>\n",
       "      <td>0</td>\n",
       "      <td>0</td>\n",
       "      <td>0</td>\n",
       "      <td>0</td>\n",
       "      <td>0</td>\n",
       "      <td>0</td>\n",
       "      <td>0</td>\n",
       "      <td>0</td>\n",
       "      <td>0</td>\n",
       "      <td>0</td>\n",
       "      <td>0</td>\n",
       "      <td>0</td>\n",
       "      <td>0</td>\n",
       "      <td>0</td>\n",
       "      <td>0</td>\n",
       "      <td>0</td>\n",
       "    </tr>\n",
       "    <tr>\n",
       "      <th>0.26</th>\n",
       "      <td>0</td>\n",
       "      <td>1</td>\n",
       "      <td>0</td>\n",
       "      <td>0</td>\n",
       "      <td>0</td>\n",
       "      <td>0</td>\n",
       "      <td>0</td>\n",
       "      <td>0</td>\n",
       "      <td>0</td>\n",
       "      <td>0</td>\n",
       "      <td>0</td>\n",
       "      <td>0</td>\n",
       "      <td>0</td>\n",
       "      <td>0</td>\n",
       "      <td>0</td>\n",
       "      <td>0</td>\n",
       "      <td>0</td>\n",
       "      <td>0</td>\n",
       "      <td>0</td>\n",
       "    </tr>\n",
       "    <tr>\n",
       "      <th>0.35</th>\n",
       "      <td>0</td>\n",
       "      <td>1</td>\n",
       "      <td>0</td>\n",
       "      <td>0</td>\n",
       "      <td>0</td>\n",
       "      <td>0</td>\n",
       "      <td>0</td>\n",
       "      <td>0</td>\n",
       "      <td>0</td>\n",
       "      <td>0</td>\n",
       "      <td>0</td>\n",
       "      <td>0</td>\n",
       "      <td>0</td>\n",
       "      <td>0</td>\n",
       "      <td>0</td>\n",
       "      <td>0</td>\n",
       "      <td>0</td>\n",
       "      <td>0</td>\n",
       "      <td>0</td>\n",
       "    </tr>\n",
       "    <tr>\n",
       "      <th>0.36</th>\n",
       "      <td>1</td>\n",
       "      <td>0</td>\n",
       "      <td>0</td>\n",
       "      <td>0</td>\n",
       "      <td>0</td>\n",
       "      <td>0</td>\n",
       "      <td>0</td>\n",
       "      <td>0</td>\n",
       "      <td>0</td>\n",
       "      <td>0</td>\n",
       "      <td>0</td>\n",
       "      <td>0</td>\n",
       "      <td>0</td>\n",
       "      <td>0</td>\n",
       "      <td>0</td>\n",
       "      <td>0</td>\n",
       "      <td>0</td>\n",
       "      <td>0</td>\n",
       "      <td>0</td>\n",
       "    </tr>\n",
       "    <tr>\n",
       "      <th>0.37</th>\n",
       "      <td>1</td>\n",
       "      <td>0</td>\n",
       "      <td>0</td>\n",
       "      <td>0</td>\n",
       "      <td>0</td>\n",
       "      <td>0</td>\n",
       "      <td>0</td>\n",
       "      <td>0</td>\n",
       "      <td>0</td>\n",
       "      <td>0</td>\n",
       "      <td>0</td>\n",
       "      <td>0</td>\n",
       "      <td>0</td>\n",
       "      <td>0</td>\n",
       "      <td>0</td>\n",
       "      <td>0</td>\n",
       "      <td>0</td>\n",
       "      <td>0</td>\n",
       "      <td>0</td>\n",
       "    </tr>\n",
       "    <tr>\n",
       "      <th>0.40</th>\n",
       "      <td>1</td>\n",
       "      <td>0</td>\n",
       "      <td>0</td>\n",
       "      <td>0</td>\n",
       "      <td>0</td>\n",
       "      <td>0</td>\n",
       "      <td>0</td>\n",
       "      <td>0</td>\n",
       "      <td>0</td>\n",
       "      <td>0</td>\n",
       "      <td>0</td>\n",
       "      <td>0</td>\n",
       "      <td>0</td>\n",
       "      <td>0</td>\n",
       "      <td>0</td>\n",
       "      <td>0</td>\n",
       "      <td>0</td>\n",
       "      <td>0</td>\n",
       "      <td>0</td>\n",
       "    </tr>\n",
       "    <tr>\n",
       "      <th>0.42</th>\n",
       "      <td>0</td>\n",
       "      <td>1</td>\n",
       "      <td>0</td>\n",
       "      <td>0</td>\n",
       "      <td>0</td>\n",
       "      <td>0</td>\n",
       "      <td>0</td>\n",
       "      <td>0</td>\n",
       "      <td>0</td>\n",
       "      <td>0</td>\n",
       "      <td>0</td>\n",
       "      <td>0</td>\n",
       "      <td>0</td>\n",
       "      <td>0</td>\n",
       "      <td>0</td>\n",
       "      <td>0</td>\n",
       "      <td>0</td>\n",
       "      <td>0</td>\n",
       "      <td>0</td>\n",
       "    </tr>\n",
       "    <tr>\n",
       "      <th>0.46</th>\n",
       "      <td>1</td>\n",
       "      <td>0</td>\n",
       "      <td>0</td>\n",
       "      <td>0</td>\n",
       "      <td>0</td>\n",
       "      <td>0</td>\n",
       "      <td>0</td>\n",
       "      <td>0</td>\n",
       "      <td>0</td>\n",
       "      <td>0</td>\n",
       "      <td>0</td>\n",
       "      <td>0</td>\n",
       "      <td>0</td>\n",
       "      <td>0</td>\n",
       "      <td>0</td>\n",
       "      <td>0</td>\n",
       "      <td>0</td>\n",
       "      <td>0</td>\n",
       "      <td>0</td>\n",
       "    </tr>\n",
       "    <tr>\n",
       "      <th>0.53</th>\n",
       "      <td>0</td>\n",
       "      <td>0</td>\n",
       "      <td>0</td>\n",
       "      <td>0</td>\n",
       "      <td>0</td>\n",
       "      <td>0</td>\n",
       "      <td>0</td>\n",
       "      <td>1</td>\n",
       "      <td>0</td>\n",
       "      <td>0</td>\n",
       "      <td>0</td>\n",
       "      <td>0</td>\n",
       "      <td>0</td>\n",
       "      <td>0</td>\n",
       "      <td>0</td>\n",
       "      <td>0</td>\n",
       "      <td>0</td>\n",
       "      <td>0</td>\n",
       "      <td>0</td>\n",
       "    </tr>\n",
       "    <tr>\n",
       "      <th>0.54</th>\n",
       "      <td>0</td>\n",
       "      <td>0</td>\n",
       "      <td>0</td>\n",
       "      <td>0</td>\n",
       "      <td>0</td>\n",
       "      <td>1</td>\n",
       "      <td>0</td>\n",
       "      <td>0</td>\n",
       "      <td>0</td>\n",
       "      <td>0</td>\n",
       "      <td>0</td>\n",
       "      <td>0</td>\n",
       "      <td>0</td>\n",
       "      <td>0</td>\n",
       "      <td>0</td>\n",
       "      <td>0</td>\n",
       "      <td>0</td>\n",
       "      <td>0</td>\n",
       "      <td>0</td>\n",
       "    </tr>\n",
       "    <tr>\n",
       "      <th>0.68</th>\n",
       "      <td>0</td>\n",
       "      <td>1</td>\n",
       "      <td>0</td>\n",
       "      <td>0</td>\n",
       "      <td>0</td>\n",
       "      <td>1</td>\n",
       "      <td>0</td>\n",
       "      <td>0</td>\n",
       "      <td>0</td>\n",
       "      <td>0</td>\n",
       "      <td>0</td>\n",
       "      <td>0</td>\n",
       "      <td>0</td>\n",
       "      <td>0</td>\n",
       "      <td>0</td>\n",
       "      <td>0</td>\n",
       "      <td>0</td>\n",
       "      <td>0</td>\n",
       "      <td>0</td>\n",
       "    </tr>\n",
       "    <tr>\n",
       "      <th>0.72</th>\n",
       "      <td>0</td>\n",
       "      <td>0</td>\n",
       "      <td>1</td>\n",
       "      <td>0</td>\n",
       "      <td>0</td>\n",
       "      <td>0</td>\n",
       "      <td>0</td>\n",
       "      <td>0</td>\n",
       "      <td>0</td>\n",
       "      <td>0</td>\n",
       "      <td>0</td>\n",
       "      <td>0</td>\n",
       "      <td>0</td>\n",
       "      <td>0</td>\n",
       "      <td>0</td>\n",
       "      <td>0</td>\n",
       "      <td>0</td>\n",
       "      <td>0</td>\n",
       "      <td>0</td>\n",
       "    </tr>\n",
       "    <tr>\n",
       "      <th>0.80</th>\n",
       "      <td>0</td>\n",
       "      <td>1</td>\n",
       "      <td>0</td>\n",
       "      <td>0</td>\n",
       "      <td>0</td>\n",
       "      <td>0</td>\n",
       "      <td>0</td>\n",
       "      <td>0</td>\n",
       "      <td>0</td>\n",
       "      <td>0</td>\n",
       "      <td>0</td>\n",
       "      <td>0</td>\n",
       "      <td>0</td>\n",
       "      <td>0</td>\n",
       "      <td>0</td>\n",
       "      <td>0</td>\n",
       "      <td>0</td>\n",
       "      <td>0</td>\n",
       "      <td>0</td>\n",
       "    </tr>\n",
       "    <tr>\n",
       "      <th>0.85</th>\n",
       "      <td>0</td>\n",
       "      <td>0</td>\n",
       "      <td>1</td>\n",
       "      <td>0</td>\n",
       "      <td>0</td>\n",
       "      <td>0</td>\n",
       "      <td>0</td>\n",
       "      <td>0</td>\n",
       "      <td>0</td>\n",
       "      <td>0</td>\n",
       "      <td>0</td>\n",
       "      <td>0</td>\n",
       "      <td>0</td>\n",
       "      <td>0</td>\n",
       "      <td>0</td>\n",
       "      <td>0</td>\n",
       "      <td>0</td>\n",
       "      <td>0</td>\n",
       "      <td>0</td>\n",
       "    </tr>\n",
       "    <tr>\n",
       "      <th>0.93</th>\n",
       "      <td>0</td>\n",
       "      <td>0</td>\n",
       "      <td>0</td>\n",
       "      <td>0</td>\n",
       "      <td>0</td>\n",
       "      <td>0</td>\n",
       "      <td>0</td>\n",
       "      <td>0</td>\n",
       "      <td>0</td>\n",
       "      <td>0</td>\n",
       "      <td>0</td>\n",
       "      <td>1</td>\n",
       "      <td>0</td>\n",
       "      <td>0</td>\n",
       "      <td>0</td>\n",
       "      <td>0</td>\n",
       "      <td>0</td>\n",
       "      <td>0</td>\n",
       "      <td>0</td>\n",
       "    </tr>\n",
       "    <tr>\n",
       "      <th>1.00</th>\n",
       "      <td>1</td>\n",
       "      <td>0</td>\n",
       "      <td>0</td>\n",
       "      <td>1</td>\n",
       "      <td>0</td>\n",
       "      <td>0</td>\n",
       "      <td>0</td>\n",
       "      <td>0</td>\n",
       "      <td>0</td>\n",
       "      <td>0</td>\n",
       "      <td>0</td>\n",
       "      <td>0</td>\n",
       "      <td>0</td>\n",
       "      <td>0</td>\n",
       "      <td>0</td>\n",
       "      <td>0</td>\n",
       "      <td>0</td>\n",
       "      <td>0</td>\n",
       "      <td>0</td>\n",
       "    </tr>\n",
       "    <tr>\n",
       "      <th>1.07</th>\n",
       "      <td>0</td>\n",
       "      <td>1</td>\n",
       "      <td>0</td>\n",
       "      <td>0</td>\n",
       "      <td>0</td>\n",
       "      <td>0</td>\n",
       "      <td>0</td>\n",
       "      <td>0</td>\n",
       "      <td>0</td>\n",
       "      <td>0</td>\n",
       "      <td>0</td>\n",
       "      <td>0</td>\n",
       "      <td>0</td>\n",
       "      <td>0</td>\n",
       "      <td>0</td>\n",
       "      <td>0</td>\n",
       "      <td>0</td>\n",
       "      <td>0</td>\n",
       "      <td>0</td>\n",
       "    </tr>\n",
       "    <tr>\n",
       "      <th>1.10</th>\n",
       "      <td>0</td>\n",
       "      <td>0</td>\n",
       "      <td>0</td>\n",
       "      <td>0</td>\n",
       "      <td>0</td>\n",
       "      <td>0</td>\n",
       "      <td>0</td>\n",
       "      <td>0</td>\n",
       "      <td>1</td>\n",
       "      <td>0</td>\n",
       "      <td>0</td>\n",
       "      <td>0</td>\n",
       "      <td>0</td>\n",
       "      <td>0</td>\n",
       "      <td>0</td>\n",
       "      <td>0</td>\n",
       "      <td>0</td>\n",
       "      <td>0</td>\n",
       "      <td>0</td>\n",
       "    </tr>\n",
       "    <tr>\n",
       "      <th>1.21</th>\n",
       "      <td>0</td>\n",
       "      <td>0</td>\n",
       "      <td>0</td>\n",
       "      <td>0</td>\n",
       "      <td>0</td>\n",
       "      <td>1</td>\n",
       "      <td>0</td>\n",
       "      <td>0</td>\n",
       "      <td>0</td>\n",
       "      <td>0</td>\n",
       "      <td>0</td>\n",
       "      <td>0</td>\n",
       "      <td>0</td>\n",
       "      <td>0</td>\n",
       "      <td>0</td>\n",
       "      <td>0</td>\n",
       "      <td>0</td>\n",
       "      <td>0</td>\n",
       "      <td>0</td>\n",
       "    </tr>\n",
       "    <tr>\n",
       "      <th>1.22</th>\n",
       "      <td>0</td>\n",
       "      <td>0</td>\n",
       "      <td>1</td>\n",
       "      <td>0</td>\n",
       "      <td>0</td>\n",
       "      <td>0</td>\n",
       "      <td>0</td>\n",
       "      <td>0</td>\n",
       "      <td>0</td>\n",
       "      <td>0</td>\n",
       "      <td>0</td>\n",
       "      <td>0</td>\n",
       "      <td>0</td>\n",
       "      <td>0</td>\n",
       "      <td>0</td>\n",
       "      <td>0</td>\n",
       "      <td>0</td>\n",
       "      <td>0</td>\n",
       "      <td>0</td>\n",
       "    </tr>\n",
       "    <tr>\n",
       "      <th>1.28</th>\n",
       "      <td>0</td>\n",
       "      <td>0</td>\n",
       "      <td>0</td>\n",
       "      <td>0</td>\n",
       "      <td>0</td>\n",
       "      <td>0</td>\n",
       "      <td>0</td>\n",
       "      <td>1</td>\n",
       "      <td>0</td>\n",
       "      <td>1</td>\n",
       "      <td>0</td>\n",
       "      <td>0</td>\n",
       "      <td>0</td>\n",
       "      <td>0</td>\n",
       "      <td>0</td>\n",
       "      <td>0</td>\n",
       "      <td>0</td>\n",
       "      <td>0</td>\n",
       "      <td>0</td>\n",
       "    </tr>\n",
       "    <tr>\n",
       "      <th>1.30</th>\n",
       "      <td>0</td>\n",
       "      <td>0</td>\n",
       "      <td>0</td>\n",
       "      <td>0</td>\n",
       "      <td>0</td>\n",
       "      <td>0</td>\n",
       "      <td>1</td>\n",
       "      <td>0</td>\n",
       "      <td>0</td>\n",
       "      <td>0</td>\n",
       "      <td>0</td>\n",
       "      <td>0</td>\n",
       "      <td>0</td>\n",
       "      <td>0</td>\n",
       "      <td>0</td>\n",
       "      <td>0</td>\n",
       "      <td>0</td>\n",
       "      <td>0</td>\n",
       "      <td>0</td>\n",
       "    </tr>\n",
       "    <tr>\n",
       "      <th>1.50</th>\n",
       "      <td>0</td>\n",
       "      <td>0</td>\n",
       "      <td>0</td>\n",
       "      <td>0</td>\n",
       "      <td>0</td>\n",
       "      <td>0</td>\n",
       "      <td>1</td>\n",
       "      <td>0</td>\n",
       "      <td>0</td>\n",
       "      <td>0</td>\n",
       "      <td>0</td>\n",
       "      <td>0</td>\n",
       "      <td>0</td>\n",
       "      <td>0</td>\n",
       "      <td>0</td>\n",
       "      <td>0</td>\n",
       "      <td>0</td>\n",
       "      <td>0</td>\n",
       "      <td>0</td>\n",
       "    </tr>\n",
       "    <tr>\n",
       "      <th>1.55</th>\n",
       "      <td>0</td>\n",
       "      <td>0</td>\n",
       "      <td>0</td>\n",
       "      <td>0</td>\n",
       "      <td>0</td>\n",
       "      <td>0</td>\n",
       "      <td>0</td>\n",
       "      <td>0</td>\n",
       "      <td>1</td>\n",
       "      <td>0</td>\n",
       "      <td>0</td>\n",
       "      <td>0</td>\n",
       "      <td>0</td>\n",
       "      <td>0</td>\n",
       "      <td>0</td>\n",
       "      <td>0</td>\n",
       "      <td>0</td>\n",
       "      <td>0</td>\n",
       "      <td>0</td>\n",
       "    </tr>\n",
       "    <tr>\n",
       "      <th>1.60</th>\n",
       "      <td>0</td>\n",
       "      <td>0</td>\n",
       "      <td>0</td>\n",
       "      <td>0</td>\n",
       "      <td>0</td>\n",
       "      <td>0</td>\n",
       "      <td>0</td>\n",
       "      <td>0</td>\n",
       "      <td>0</td>\n",
       "      <td>0</td>\n",
       "      <td>0</td>\n",
       "      <td>0</td>\n",
       "      <td>1</td>\n",
       "      <td>1</td>\n",
       "      <td>0</td>\n",
       "      <td>0</td>\n",
       "      <td>0</td>\n",
       "      <td>0</td>\n",
       "      <td>0</td>\n",
       "    </tr>\n",
       "    <tr>\n",
       "      <th>1.63</th>\n",
       "      <td>0</td>\n",
       "      <td>0</td>\n",
       "      <td>0</td>\n",
       "      <td>0</td>\n",
       "      <td>0</td>\n",
       "      <td>0</td>\n",
       "      <td>0</td>\n",
       "      <td>1</td>\n",
       "      <td>0</td>\n",
       "      <td>0</td>\n",
       "      <td>0</td>\n",
       "      <td>0</td>\n",
       "      <td>0</td>\n",
       "      <td>0</td>\n",
       "      <td>0</td>\n",
       "      <td>0</td>\n",
       "      <td>0</td>\n",
       "      <td>0</td>\n",
       "      <td>0</td>\n",
       "    </tr>\n",
       "    <tr>\n",
       "      <th>1.64</th>\n",
       "      <td>0</td>\n",
       "      <td>0</td>\n",
       "      <td>0</td>\n",
       "      <td>0</td>\n",
       "      <td>0</td>\n",
       "      <td>0</td>\n",
       "      <td>1</td>\n",
       "      <td>0</td>\n",
       "      <td>0</td>\n",
       "      <td>0</td>\n",
       "      <td>0</td>\n",
       "      <td>0</td>\n",
       "      <td>0</td>\n",
       "      <td>0</td>\n",
       "      <td>0</td>\n",
       "      <td>0</td>\n",
       "      <td>0</td>\n",
       "      <td>0</td>\n",
       "      <td>0</td>\n",
       "    </tr>\n",
       "    <tr>\n",
       "      <th>1.97</th>\n",
       "      <td>0</td>\n",
       "      <td>0</td>\n",
       "      <td>0</td>\n",
       "      <td>1</td>\n",
       "      <td>0</td>\n",
       "      <td>0</td>\n",
       "      <td>0</td>\n",
       "      <td>0</td>\n",
       "      <td>0</td>\n",
       "      <td>0</td>\n",
       "      <td>0</td>\n",
       "      <td>0</td>\n",
       "      <td>0</td>\n",
       "      <td>0</td>\n",
       "      <td>0</td>\n",
       "      <td>0</td>\n",
       "      <td>0</td>\n",
       "      <td>0</td>\n",
       "      <td>0</td>\n",
       "    </tr>\n",
       "    <tr>\n",
       "      <th>2.24</th>\n",
       "      <td>0</td>\n",
       "      <td>0</td>\n",
       "      <td>0</td>\n",
       "      <td>0</td>\n",
       "      <td>0</td>\n",
       "      <td>0</td>\n",
       "      <td>0</td>\n",
       "      <td>0</td>\n",
       "      <td>1</td>\n",
       "      <td>0</td>\n",
       "      <td>0</td>\n",
       "      <td>0</td>\n",
       "      <td>0</td>\n",
       "      <td>0</td>\n",
       "      <td>0</td>\n",
       "      <td>0</td>\n",
       "      <td>0</td>\n",
       "      <td>0</td>\n",
       "      <td>0</td>\n",
       "    </tr>\n",
       "    <tr>\n",
       "      <th>2.89</th>\n",
       "      <td>0</td>\n",
       "      <td>0</td>\n",
       "      <td>0</td>\n",
       "      <td>0</td>\n",
       "      <td>0</td>\n",
       "      <td>0</td>\n",
       "      <td>0</td>\n",
       "      <td>0</td>\n",
       "      <td>0</td>\n",
       "      <td>0</td>\n",
       "      <td>1</td>\n",
       "      <td>0</td>\n",
       "      <td>0</td>\n",
       "      <td>0</td>\n",
       "      <td>0</td>\n",
       "      <td>0</td>\n",
       "      <td>0</td>\n",
       "      <td>0</td>\n",
       "      <td>0</td>\n",
       "    </tr>\n",
       "    <tr>\n",
       "      <th>3.78</th>\n",
       "      <td>0</td>\n",
       "      <td>0</td>\n",
       "      <td>0</td>\n",
       "      <td>0</td>\n",
       "      <td>0</td>\n",
       "      <td>0</td>\n",
       "      <td>0</td>\n",
       "      <td>0</td>\n",
       "      <td>0</td>\n",
       "      <td>0</td>\n",
       "      <td>0</td>\n",
       "      <td>0</td>\n",
       "      <td>0</td>\n",
       "      <td>0</td>\n",
       "      <td>1</td>\n",
       "      <td>0</td>\n",
       "      <td>0</td>\n",
       "      <td>0</td>\n",
       "      <td>0</td>\n",
       "    </tr>\n",
       "    <tr>\n",
       "      <th>3.93</th>\n",
       "      <td>0</td>\n",
       "      <td>0</td>\n",
       "      <td>0</td>\n",
       "      <td>0</td>\n",
       "      <td>0</td>\n",
       "      <td>0</td>\n",
       "      <td>0</td>\n",
       "      <td>0</td>\n",
       "      <td>0</td>\n",
       "      <td>0</td>\n",
       "      <td>0</td>\n",
       "      <td>0</td>\n",
       "      <td>1</td>\n",
       "      <td>0</td>\n",
       "      <td>0</td>\n",
       "      <td>0</td>\n",
       "      <td>0</td>\n",
       "      <td>0</td>\n",
       "      <td>0</td>\n",
       "    </tr>\n",
       "    <tr>\n",
       "      <th>4.50</th>\n",
       "      <td>0</td>\n",
       "      <td>0</td>\n",
       "      <td>0</td>\n",
       "      <td>0</td>\n",
       "      <td>0</td>\n",
       "      <td>0</td>\n",
       "      <td>0</td>\n",
       "      <td>0</td>\n",
       "      <td>0</td>\n",
       "      <td>0</td>\n",
       "      <td>0</td>\n",
       "      <td>0</td>\n",
       "      <td>0</td>\n",
       "      <td>1</td>\n",
       "      <td>0</td>\n",
       "      <td>0</td>\n",
       "      <td>0</td>\n",
       "      <td>0</td>\n",
       "      <td>0</td>\n",
       "    </tr>\n",
       "    <tr>\n",
       "      <th>5.23</th>\n",
       "      <td>0</td>\n",
       "      <td>0</td>\n",
       "      <td>0</td>\n",
       "      <td>0</td>\n",
       "      <td>0</td>\n",
       "      <td>0</td>\n",
       "      <td>0</td>\n",
       "      <td>0</td>\n",
       "      <td>0</td>\n",
       "      <td>0</td>\n",
       "      <td>0</td>\n",
       "      <td>0</td>\n",
       "      <td>0</td>\n",
       "      <td>0</td>\n",
       "      <td>0</td>\n",
       "      <td>0</td>\n",
       "      <td>1</td>\n",
       "      <td>0</td>\n",
       "      <td>0</td>\n",
       "    </tr>\n",
       "    <tr>\n",
       "      <th>5.50</th>\n",
       "      <td>0</td>\n",
       "      <td>0</td>\n",
       "      <td>0</td>\n",
       "      <td>0</td>\n",
       "      <td>1</td>\n",
       "      <td>0</td>\n",
       "      <td>0</td>\n",
       "      <td>0</td>\n",
       "      <td>0</td>\n",
       "      <td>0</td>\n",
       "      <td>0</td>\n",
       "      <td>0</td>\n",
       "      <td>0</td>\n",
       "      <td>0</td>\n",
       "      <td>0</td>\n",
       "      <td>0</td>\n",
       "      <td>0</td>\n",
       "      <td>0</td>\n",
       "      <td>0</td>\n",
       "    </tr>\n",
       "    <tr>\n",
       "      <th>5.70</th>\n",
       "      <td>0</td>\n",
       "      <td>0</td>\n",
       "      <td>0</td>\n",
       "      <td>1</td>\n",
       "      <td>0</td>\n",
       "      <td>0</td>\n",
       "      <td>0</td>\n",
       "      <td>0</td>\n",
       "      <td>0</td>\n",
       "      <td>0</td>\n",
       "      <td>0</td>\n",
       "      <td>0</td>\n",
       "      <td>0</td>\n",
       "      <td>0</td>\n",
       "      <td>0</td>\n",
       "      <td>0</td>\n",
       "      <td>0</td>\n",
       "      <td>0</td>\n",
       "      <td>0</td>\n",
       "    </tr>\n",
       "    <tr>\n",
       "      <th>6.00</th>\n",
       "      <td>0</td>\n",
       "      <td>0</td>\n",
       "      <td>0</td>\n",
       "      <td>0</td>\n",
       "      <td>0</td>\n",
       "      <td>0</td>\n",
       "      <td>0</td>\n",
       "      <td>0</td>\n",
       "      <td>0</td>\n",
       "      <td>0</td>\n",
       "      <td>0</td>\n",
       "      <td>0</td>\n",
       "      <td>0</td>\n",
       "      <td>0</td>\n",
       "      <td>0</td>\n",
       "      <td>0</td>\n",
       "      <td>0</td>\n",
       "      <td>0</td>\n",
       "      <td>1</td>\n",
       "    </tr>\n",
       "    <tr>\n",
       "      <th>8.87</th>\n",
       "      <td>0</td>\n",
       "      <td>0</td>\n",
       "      <td>0</td>\n",
       "      <td>0</td>\n",
       "      <td>0</td>\n",
       "      <td>0</td>\n",
       "      <td>0</td>\n",
       "      <td>0</td>\n",
       "      <td>0</td>\n",
       "      <td>0</td>\n",
       "      <td>0</td>\n",
       "      <td>0</td>\n",
       "      <td>0</td>\n",
       "      <td>0</td>\n",
       "      <td>0</td>\n",
       "      <td>0</td>\n",
       "      <td>0</td>\n",
       "      <td>1</td>\n",
       "      <td>0</td>\n",
       "    </tr>\n",
       "    <tr>\n",
       "      <th>10.00</th>\n",
       "      <td>0</td>\n",
       "      <td>0</td>\n",
       "      <td>0</td>\n",
       "      <td>0</td>\n",
       "      <td>0</td>\n",
       "      <td>0</td>\n",
       "      <td>0</td>\n",
       "      <td>0</td>\n",
       "      <td>0</td>\n",
       "      <td>0</td>\n",
       "      <td>0</td>\n",
       "      <td>0</td>\n",
       "      <td>0</td>\n",
       "      <td>0</td>\n",
       "      <td>0</td>\n",
       "      <td>1</td>\n",
       "      <td>0</td>\n",
       "      <td>0</td>\n",
       "      <td>0</td>\n",
       "    </tr>\n",
       "    <tr>\n",
       "      <th>10.95</th>\n",
       "      <td>0</td>\n",
       "      <td>0</td>\n",
       "      <td>0</td>\n",
       "      <td>0</td>\n",
       "      <td>0</td>\n",
       "      <td>0</td>\n",
       "      <td>0</td>\n",
       "      <td>0</td>\n",
       "      <td>0</td>\n",
       "      <td>0</td>\n",
       "      <td>0</td>\n",
       "      <td>1</td>\n",
       "      <td>0</td>\n",
       "      <td>0</td>\n",
       "      <td>0</td>\n",
       "      <td>0</td>\n",
       "      <td>0</td>\n",
       "      <td>0</td>\n",
       "      <td>0</td>\n",
       "    </tr>\n",
       "  </tbody>\n",
       "</table>\n",
       "</div>"
      ],
      "text/plain": [
       "Order_QTY       1.0   2.0   3.0   4.0   5.0   6.0   7.0   8.0   9.0   10.0  \\\n",
       "Q-Val.(Rs.Lac)                                                               \n",
       "0.01               1     0     0     0     0     0     0     0     0     0   \n",
       "0.15               1     0     0     0     0     0     0     0     0     0   \n",
       "0.20               1     0     0     0     0     0     0     0     0     0   \n",
       "0.21               1     0     0     0     0     0     0     0     0     0   \n",
       "0.25               1     0     0     0     0     0     0     0     0     0   \n",
       "0.26               0     1     0     0     0     0     0     0     0     0   \n",
       "0.35               0     1     0     0     0     0     0     0     0     0   \n",
       "0.36               1     0     0     0     0     0     0     0     0     0   \n",
       "0.37               1     0     0     0     0     0     0     0     0     0   \n",
       "0.40               1     0     0     0     0     0     0     0     0     0   \n",
       "0.42               0     1     0     0     0     0     0     0     0     0   \n",
       "0.46               1     0     0     0     0     0     0     0     0     0   \n",
       "0.53               0     0     0     0     0     0     0     1     0     0   \n",
       "0.54               0     0     0     0     0     1     0     0     0     0   \n",
       "0.68               0     1     0     0     0     1     0     0     0     0   \n",
       "0.72               0     0     1     0     0     0     0     0     0     0   \n",
       "0.80               0     1     0     0     0     0     0     0     0     0   \n",
       "0.85               0     0     1     0     0     0     0     0     0     0   \n",
       "0.93               0     0     0     0     0     0     0     0     0     0   \n",
       "1.00               1     0     0     1     0     0     0     0     0     0   \n",
       "1.07               0     1     0     0     0     0     0     0     0     0   \n",
       "1.10               0     0     0     0     0     0     0     0     1     0   \n",
       "1.21               0     0     0     0     0     1     0     0     0     0   \n",
       "1.22               0     0     1     0     0     0     0     0     0     0   \n",
       "1.28               0     0     0     0     0     0     0     1     0     1   \n",
       "1.30               0     0     0     0     0     0     1     0     0     0   \n",
       "1.50               0     0     0     0     0     0     1     0     0     0   \n",
       "1.55               0     0     0     0     0     0     0     0     1     0   \n",
       "1.60               0     0     0     0     0     0     0     0     0     0   \n",
       "1.63               0     0     0     0     0     0     0     1     0     0   \n",
       "1.64               0     0     0     0     0     0     1     0     0     0   \n",
       "1.97               0     0     0     1     0     0     0     0     0     0   \n",
       "2.24               0     0     0     0     0     0     0     0     1     0   \n",
       "2.89               0     0     0     0     0     0     0     0     0     0   \n",
       "3.78               0     0     0     0     0     0     0     0     0     0   \n",
       "3.93               0     0     0     0     0     0     0     0     0     0   \n",
       "4.50               0     0     0     0     0     0     0     0     0     0   \n",
       "5.23               0     0     0     0     0     0     0     0     0     0   \n",
       "5.50               0     0     0     0     1     0     0     0     0     0   \n",
       "5.70               0     0     0     1     0     0     0     0     0     0   \n",
       "6.00               0     0     0     0     0     0     0     0     0     0   \n",
       "8.87               0     0     0     0     0     0     0     0     0     0   \n",
       "10.00              0     0     0     0     0     0     0     0     0     0   \n",
       "10.95              0     0     0     0     0     0     0     0     0     0   \n",
       "\n",
       "Order_QTY       12.0  13.0  14.0  16.0  28.0  41.0  45.0  58.0  73.0  \n",
       "Q-Val.(Rs.Lac)                                                        \n",
       "0.01               0     0     0     0     0     0     0     0     0  \n",
       "0.15               0     0     0     0     0     0     0     0     0  \n",
       "0.20               0     0     0     0     0     0     0     0     0  \n",
       "0.21               0     0     0     0     0     0     0     0     0  \n",
       "0.25               0     0     0     0     0     0     0     0     0  \n",
       "0.26               0     0     0     0     0     0     0     0     0  \n",
       "0.35               0     0     0     0     0     0     0     0     0  \n",
       "0.36               0     0     0     0     0     0     0     0     0  \n",
       "0.37               0     0     0     0     0     0     0     0     0  \n",
       "0.40               0     0     0     0     0     0     0     0     0  \n",
       "0.42               0     0     0     0     0     0     0     0     0  \n",
       "0.46               0     0     0     0     0     0     0     0     0  \n",
       "0.53               0     0     0     0     0     0     0     0     0  \n",
       "0.54               0     0     0     0     0     0     0     0     0  \n",
       "0.68               0     0     0     0     0     0     0     0     0  \n",
       "0.72               0     0     0     0     0     0     0     0     0  \n",
       "0.80               0     0     0     0     0     0     0     0     0  \n",
       "0.85               0     0     0     0     0     0     0     0     0  \n",
       "0.93               0     1     0     0     0     0     0     0     0  \n",
       "1.00               0     0     0     0     0     0     0     0     0  \n",
       "1.07               0     0     0     0     0     0     0     0     0  \n",
       "1.10               0     0     0     0     0     0     0     0     0  \n",
       "1.21               0     0     0     0     0     0     0     0     0  \n",
       "1.22               0     0     0     0     0     0     0     0     0  \n",
       "1.28               0     0     0     0     0     0     0     0     0  \n",
       "1.30               0     0     0     0     0     0     0     0     0  \n",
       "1.50               0     0     0     0     0     0     0     0     0  \n",
       "1.55               0     0     0     0     0     0     0     0     0  \n",
       "1.60               0     0     1     1     0     0     0     0     0  \n",
       "1.63               0     0     0     0     0     0     0     0     0  \n",
       "1.64               0     0     0     0     0     0     0     0     0  \n",
       "1.97               0     0     0     0     0     0     0     0     0  \n",
       "2.24               0     0     0     0     0     0     0     0     0  \n",
       "2.89               1     0     0     0     0     0     0     0     0  \n",
       "3.78               0     0     0     0     1     0     0     0     0  \n",
       "3.93               0     0     1     0     0     0     0     0     0  \n",
       "4.50               0     0     0     1     0     0     0     0     0  \n",
       "5.23               0     0     0     0     0     0     1     0     0  \n",
       "5.50               0     0     0     0     0     0     0     0     0  \n",
       "5.70               0     0     0     0     0     0     0     0     0  \n",
       "6.00               0     0     0     0     0     0     0     0     1  \n",
       "8.87               0     0     0     0     0     0     0     1     0  \n",
       "10.00              0     0     0     0     0     1     0     0     0  \n",
       "10.95              0     1     0     0     0     0     0     0     0  "
      ]
     },
     "execution_count": 181,
     "metadata": {},
     "output_type": "execute_result"
    }
   ],
   "source": [
    "pd.crosstab(data[data['Order_QTY']!=0].Order_QTY,data['Q-Val.(Rs.Lac)']).T"
   ]
  },
  {
   "cell_type": "code",
   "execution_count": null,
   "metadata": {},
   "outputs": [],
   "source": []
  },
  {
   "cell_type": "code",
   "execution_count": null,
   "metadata": {},
   "outputs": [],
   "source": []
  },
  {
   "cell_type": "code",
   "execution_count": null,
   "metadata": {},
   "outputs": [],
   "source": []
  },
  {
   "cell_type": "code",
   "execution_count": 26,
   "metadata": {},
   "outputs": [],
   "source": [
    "data_new = data.copy()"
   ]
  },
  {
   "cell_type": "code",
   "execution_count": 27,
   "metadata": {},
   "outputs": [],
   "source": [
    "#data_new = data[data['City'] == 'CHENNAI'] "
   ]
  },
  {
   "cell_type": "code",
   "execution_count": 28,
   "metadata": {},
   "outputs": [
    {
     "data": {
      "text/plain": [
       "(229, 40)"
      ]
     },
     "execution_count": 28,
     "metadata": {},
     "output_type": "execute_result"
    }
   ],
   "source": [
    "data_new.shape"
   ]
  },
  {
   "cell_type": "code",
   "execution_count": 29,
   "metadata": {},
   "outputs": [
    {
     "data": {
      "text/plain": [
       "Dealer    165\n",
       "Direct     64\n",
       "Name: Allocation_Status, dtype: int64"
      ]
     },
     "execution_count": 29,
     "metadata": {},
     "output_type": "execute_result"
    }
   ],
   "source": [
    "data_new['Allocation_Status'].value_counts()"
   ]
  },
  {
   "cell_type": "code",
   "execution_count": 30,
   "metadata": {},
   "outputs": [],
   "source": [
    "#data_new= data_new[data_new['Allocation_Status']== 'Dealer']"
   ]
  },
  {
   "cell_type": "code",
   "execution_count": 31,
   "metadata": {},
   "outputs": [
    {
     "data": {
      "text/plain": [
       "(229, 40)"
      ]
     },
     "execution_count": 31,
     "metadata": {},
     "output_type": "execute_result"
    }
   ],
   "source": [
    "data_new.shape"
   ]
  },
  {
   "cell_type": "code",
   "execution_count": 32,
   "metadata": {},
   "outputs": [
    {
     "data": {
      "text/plain": [
       "Lost    176\n",
       "Won      53\n",
       "Name: Status, dtype: int64"
      ]
     },
     "execution_count": 32,
     "metadata": {},
     "output_type": "execute_result"
    }
   ],
   "source": [
    "data_new.Status.value_counts()"
   ]
  },
  {
   "cell_type": "code",
   "execution_count": 33,
   "metadata": {},
   "outputs": [
    {
     "data": {
      "text/html": [
       "<div>\n",
       "<style scoped>\n",
       "    .dataframe tbody tr th:only-of-type {\n",
       "        vertical-align: middle;\n",
       "    }\n",
       "\n",
       "    .dataframe tbody tr th {\n",
       "        vertical-align: top;\n",
       "    }\n",
       "\n",
       "    .dataframe thead th {\n",
       "        text-align: right;\n",
       "    }\n",
       "</style>\n",
       "<table border=\"1\" class=\"dataframe\">\n",
       "  <thead>\n",
       "    <tr style=\"text-align: right;\">\n",
       "      <th></th>\n",
       "      <th>Month</th>\n",
       "      <th>Enquiry_Date</th>\n",
       "      <th>Enquiry_Id</th>\n",
       "      <th>Allocation_Status</th>\n",
       "      <th>Status</th>\n",
       "      <th>State</th>\n",
       "      <th>City</th>\n",
       "      <th>Pincode</th>\n",
       "      <th>Type_of_Project</th>\n",
       "      <th>No_of_Windows</th>\n",
       "      <th>...</th>\n",
       "      <th>Second-Action-Call-Status.1</th>\n",
       "      <th>Remarks</th>\n",
       "      <th>Price_Per_Sft</th>\n",
       "      <th>Benefits</th>\n",
       "      <th>Aesthetics</th>\n",
       "      <th>Reduce_Street_Noise</th>\n",
       "      <th>Low_Maintenance</th>\n",
       "      <th>Monsoon_Proof</th>\n",
       "      <th>Better_Lighting</th>\n",
       "      <th>Reduce_AC_Energy_Cost</th>\n",
       "    </tr>\n",
       "  </thead>\n",
       "  <tbody>\n",
       "    <tr>\n",
       "      <th>0</th>\n",
       "      <td>April'16</td>\n",
       "      <td>02-Apr-16</td>\n",
       "      <td>EC02041646800</td>\n",
       "      <td>Dealer</td>\n",
       "      <td>Won</td>\n",
       "      <td>TAMILNADU</td>\n",
       "      <td>CHENNAI</td>\n",
       "      <td>600008</td>\n",
       "      <td>Renovation</td>\n",
       "      <td>6 to 10</td>\n",
       "      <td>...</td>\n",
       "      <td>NaN</td>\n",
       "      <td>None</td>\n",
       "      <td>1105</td>\n",
       "      <td>Aesthetics &amp; Street Noise</td>\n",
       "      <td>1.0</td>\n",
       "      <td>1.0</td>\n",
       "      <td>0.0</td>\n",
       "      <td>0.0</td>\n",
       "      <td>0.0</td>\n",
       "      <td>0.0</td>\n",
       "    </tr>\n",
       "    <tr>\n",
       "      <th>1</th>\n",
       "      <td>April'16</td>\n",
       "      <td>08-Apr-16</td>\n",
       "      <td>EC08041647157</td>\n",
       "      <td>Dealer</td>\n",
       "      <td>Lost</td>\n",
       "      <td>TAMILNADU</td>\n",
       "      <td>CHENNAI</td>\n",
       "      <td>600042</td>\n",
       "      <td>New Construction</td>\n",
       "      <td>6 to 10</td>\n",
       "      <td>...</td>\n",
       "      <td>NaN</td>\n",
       "      <td>Price Issue</td>\n",
       "      <td>985</td>\n",
       "      <td>NaN</td>\n",
       "      <td>NaN</td>\n",
       "      <td>NaN</td>\n",
       "      <td>NaN</td>\n",
       "      <td>NaN</td>\n",
       "      <td>NaN</td>\n",
       "      <td>NaN</td>\n",
       "    </tr>\n",
       "    <tr>\n",
       "      <th>2</th>\n",
       "      <td>April'16</td>\n",
       "      <td>08-Apr-16</td>\n",
       "      <td>EC08041647130</td>\n",
       "      <td>Dealer</td>\n",
       "      <td>Lost</td>\n",
       "      <td>TAMILNADU</td>\n",
       "      <td>CHENNAI</td>\n",
       "      <td>600015</td>\n",
       "      <td>New Construction</td>\n",
       "      <td>1 to 5</td>\n",
       "      <td>...</td>\n",
       "      <td>NaN</td>\n",
       "      <td>Delivery Issue</td>\n",
       "      <td>918</td>\n",
       "      <td>NaN</td>\n",
       "      <td>NaN</td>\n",
       "      <td>NaN</td>\n",
       "      <td>NaN</td>\n",
       "      <td>NaN</td>\n",
       "      <td>NaN</td>\n",
       "      <td>NaN</td>\n",
       "    </tr>\n",
       "    <tr>\n",
       "      <th>3</th>\n",
       "      <td>April'16</td>\n",
       "      <td>09-Apr-16</td>\n",
       "      <td>EC09041647202</td>\n",
       "      <td>Direct</td>\n",
       "      <td>Lost</td>\n",
       "      <td>TAMILNADU</td>\n",
       "      <td>KANCHIPURAM</td>\n",
       "      <td>600075</td>\n",
       "      <td>New Construction</td>\n",
       "      <td>21 to 40</td>\n",
       "      <td>...</td>\n",
       "      <td>NaN</td>\n",
       "      <td>Price Issue</td>\n",
       "      <td>919</td>\n",
       "      <td>NaN</td>\n",
       "      <td>NaN</td>\n",
       "      <td>NaN</td>\n",
       "      <td>NaN</td>\n",
       "      <td>NaN</td>\n",
       "      <td>NaN</td>\n",
       "      <td>NaN</td>\n",
       "    </tr>\n",
       "    <tr>\n",
       "      <th>4</th>\n",
       "      <td>April'16</td>\n",
       "      <td>11-Apr-16</td>\n",
       "      <td>EC11041647360</td>\n",
       "      <td>Direct</td>\n",
       "      <td>Won</td>\n",
       "      <td>TAMILNADU</td>\n",
       "      <td>CHENNAI</td>\n",
       "      <td>600041</td>\n",
       "      <td>Renovation</td>\n",
       "      <td>6 to 10</td>\n",
       "      <td>...</td>\n",
       "      <td>NaN</td>\n",
       "      <td>None</td>\n",
       "      <td>1350</td>\n",
       "      <td>Reduce AC Energy Cost</td>\n",
       "      <td>0.0</td>\n",
       "      <td>0.0</td>\n",
       "      <td>0.0</td>\n",
       "      <td>0.0</td>\n",
       "      <td>0.0</td>\n",
       "      <td>1.0</td>\n",
       "    </tr>\n",
       "    <tr>\n",
       "      <th>5</th>\n",
       "      <td>April'16</td>\n",
       "      <td>11-Apr-16</td>\n",
       "      <td>EC11041647280</td>\n",
       "      <td>Dealer</td>\n",
       "      <td>Lost</td>\n",
       "      <td>TAMILNADU</td>\n",
       "      <td>CHENNAI</td>\n",
       "      <td>600056</td>\n",
       "      <td>Renovation</td>\n",
       "      <td>1 to 5</td>\n",
       "      <td>...</td>\n",
       "      <td>NaN</td>\n",
       "      <td>Price Issue</td>\n",
       "      <td>809</td>\n",
       "      <td>NaN</td>\n",
       "      <td>NaN</td>\n",
       "      <td>NaN</td>\n",
       "      <td>NaN</td>\n",
       "      <td>NaN</td>\n",
       "      <td>NaN</td>\n",
       "      <td>NaN</td>\n",
       "    </tr>\n",
       "    <tr>\n",
       "      <th>6</th>\n",
       "      <td>April'16</td>\n",
       "      <td>12-Apr-16</td>\n",
       "      <td>EC12041647460</td>\n",
       "      <td>Dealer</td>\n",
       "      <td>Lost</td>\n",
       "      <td>TAMILNADU</td>\n",
       "      <td>CHENNAI</td>\n",
       "      <td>600042</td>\n",
       "      <td>New Construction</td>\n",
       "      <td>11 to 20</td>\n",
       "      <td>...</td>\n",
       "      <td>NaN</td>\n",
       "      <td>Budget Constraint</td>\n",
       "      <td>1152</td>\n",
       "      <td>NaN</td>\n",
       "      <td>NaN</td>\n",
       "      <td>NaN</td>\n",
       "      <td>NaN</td>\n",
       "      <td>NaN</td>\n",
       "      <td>NaN</td>\n",
       "      <td>NaN</td>\n",
       "    </tr>\n",
       "    <tr>\n",
       "      <th>7</th>\n",
       "      <td>April'16</td>\n",
       "      <td>12-Apr-16</td>\n",
       "      <td>EC12041647402</td>\n",
       "      <td>Dealer</td>\n",
       "      <td>Lost</td>\n",
       "      <td>TAMILNADU</td>\n",
       "      <td>VELLORE</td>\n",
       "      <td>635751</td>\n",
       "      <td>Renovation</td>\n",
       "      <td>6 to 10</td>\n",
       "      <td>...</td>\n",
       "      <td>NaN</td>\n",
       "      <td>None</td>\n",
       "      <td>826</td>\n",
       "      <td>NaN</td>\n",
       "      <td>NaN</td>\n",
       "      <td>NaN</td>\n",
       "      <td>NaN</td>\n",
       "      <td>NaN</td>\n",
       "      <td>NaN</td>\n",
       "      <td>NaN</td>\n",
       "    </tr>\n",
       "    <tr>\n",
       "      <th>8</th>\n",
       "      <td>April'16</td>\n",
       "      <td>14-Apr-16</td>\n",
       "      <td>EC13041647531</td>\n",
       "      <td>Dealer</td>\n",
       "      <td>Lost</td>\n",
       "      <td>TAMILNADU</td>\n",
       "      <td>CHENNAI</td>\n",
       "      <td>600006</td>\n",
       "      <td>Renovation</td>\n",
       "      <td>1 to 5</td>\n",
       "      <td>...</td>\n",
       "      <td>NaN</td>\n",
       "      <td>Budget Constraint</td>\n",
       "      <td>1089</td>\n",
       "      <td>NaN</td>\n",
       "      <td>NaN</td>\n",
       "      <td>NaN</td>\n",
       "      <td>NaN</td>\n",
       "      <td>NaN</td>\n",
       "      <td>NaN</td>\n",
       "      <td>NaN</td>\n",
       "    </tr>\n",
       "    <tr>\n",
       "      <th>9</th>\n",
       "      <td>April'16</td>\n",
       "      <td>15-Apr-16</td>\n",
       "      <td>EC15041647749</td>\n",
       "      <td>Dealer</td>\n",
       "      <td>Lost</td>\n",
       "      <td>TAMILNADU</td>\n",
       "      <td>CHENNAI</td>\n",
       "      <td>600113</td>\n",
       "      <td>New Construction</td>\n",
       "      <td>6 to 10</td>\n",
       "      <td>...</td>\n",
       "      <td>NaN</td>\n",
       "      <td>Price Issue</td>\n",
       "      <td>921</td>\n",
       "      <td>NaN</td>\n",
       "      <td>NaN</td>\n",
       "      <td>NaN</td>\n",
       "      <td>NaN</td>\n",
       "      <td>NaN</td>\n",
       "      <td>NaN</td>\n",
       "      <td>NaN</td>\n",
       "    </tr>\n",
       "    <tr>\n",
       "      <th>10</th>\n",
       "      <td>April'16</td>\n",
       "      <td>15-Apr-16</td>\n",
       "      <td>EC15041647740</td>\n",
       "      <td>Dealer</td>\n",
       "      <td>Lost</td>\n",
       "      <td>TAMILNADU</td>\n",
       "      <td>CHENNAI</td>\n",
       "      <td>600107</td>\n",
       "      <td>New Construction</td>\n",
       "      <td>1 to 5</td>\n",
       "      <td>...</td>\n",
       "      <td>NaN</td>\n",
       "      <td>Price Issue</td>\n",
       "      <td>1168</td>\n",
       "      <td>NaN</td>\n",
       "      <td>NaN</td>\n",
       "      <td>NaN</td>\n",
       "      <td>NaN</td>\n",
       "      <td>NaN</td>\n",
       "      <td>NaN</td>\n",
       "      <td>NaN</td>\n",
       "    </tr>\n",
       "    <tr>\n",
       "      <th>11</th>\n",
       "      <td>April'16</td>\n",
       "      <td>17-Apr-16</td>\n",
       "      <td>EC17041647818</td>\n",
       "      <td>Dealer</td>\n",
       "      <td>Lost</td>\n",
       "      <td>TAMILNADU</td>\n",
       "      <td>CHENNAI</td>\n",
       "      <td>600041</td>\n",
       "      <td>New Construction</td>\n",
       "      <td>41 to 100</td>\n",
       "      <td>...</td>\n",
       "      <td>NaN</td>\n",
       "      <td>Price Issue</td>\n",
       "      <td>1141</td>\n",
       "      <td>NaN</td>\n",
       "      <td>NaN</td>\n",
       "      <td>NaN</td>\n",
       "      <td>NaN</td>\n",
       "      <td>NaN</td>\n",
       "      <td>NaN</td>\n",
       "      <td>NaN</td>\n",
       "    </tr>\n",
       "    <tr>\n",
       "      <th>12</th>\n",
       "      <td>April'16</td>\n",
       "      <td>17-Apr-16</td>\n",
       "      <td>EC17041647824</td>\n",
       "      <td>Dealer</td>\n",
       "      <td>Won</td>\n",
       "      <td>TAMILNADU</td>\n",
       "      <td>CHENNAI</td>\n",
       "      <td>600028</td>\n",
       "      <td>New Construction</td>\n",
       "      <td>1 to 5</td>\n",
       "      <td>...</td>\n",
       "      <td>NaN</td>\n",
       "      <td>None</td>\n",
       "      <td>1450</td>\n",
       "      <td>Nil</td>\n",
       "      <td>NaN</td>\n",
       "      <td>NaN</td>\n",
       "      <td>NaN</td>\n",
       "      <td>NaN</td>\n",
       "      <td>NaN</td>\n",
       "      <td>NaN</td>\n",
       "    </tr>\n",
       "    <tr>\n",
       "      <th>13</th>\n",
       "      <td>April'16</td>\n",
       "      <td>18-Apr-16</td>\n",
       "      <td>EC18041647862</td>\n",
       "      <td>Dealer</td>\n",
       "      <td>Lost</td>\n",
       "      <td>TAMILNADU</td>\n",
       "      <td>CHENNAI</td>\n",
       "      <td>600092</td>\n",
       "      <td>Renovation</td>\n",
       "      <td>1 to 5</td>\n",
       "      <td>...</td>\n",
       "      <td>NaN</td>\n",
       "      <td>Price Issue</td>\n",
       "      <td>1124</td>\n",
       "      <td>NaN</td>\n",
       "      <td>NaN</td>\n",
       "      <td>NaN</td>\n",
       "      <td>NaN</td>\n",
       "      <td>NaN</td>\n",
       "      <td>NaN</td>\n",
       "      <td>NaN</td>\n",
       "    </tr>\n",
       "    <tr>\n",
       "      <th>14</th>\n",
       "      <td>April'16</td>\n",
       "      <td>18-Apr-16</td>\n",
       "      <td>EC18041647914</td>\n",
       "      <td>Dealer</td>\n",
       "      <td>Won</td>\n",
       "      <td>TAMILNADU</td>\n",
       "      <td>CHENNAI</td>\n",
       "      <td>600020</td>\n",
       "      <td>New Construction</td>\n",
       "      <td>6 to 10</td>\n",
       "      <td>...</td>\n",
       "      <td>NaN</td>\n",
       "      <td>None</td>\n",
       "      <td>1293</td>\n",
       "      <td>Reduce AC Energy Cost &amp; Street Noise</td>\n",
       "      <td>0.0</td>\n",
       "      <td>1.0</td>\n",
       "      <td>0.0</td>\n",
       "      <td>0.0</td>\n",
       "      <td>0.0</td>\n",
       "      <td>1.0</td>\n",
       "    </tr>\n",
       "    <tr>\n",
       "      <th>15</th>\n",
       "      <td>April'16</td>\n",
       "      <td>19-Apr-16</td>\n",
       "      <td>EC19041648005</td>\n",
       "      <td>Dealer</td>\n",
       "      <td>Lost</td>\n",
       "      <td>TAMILNADU</td>\n",
       "      <td>CHENNAI</td>\n",
       "      <td>600086</td>\n",
       "      <td>Renovation</td>\n",
       "      <td>1 to 5</td>\n",
       "      <td>...</td>\n",
       "      <td>NaN</td>\n",
       "      <td>Budget Constraint</td>\n",
       "      <td>892</td>\n",
       "      <td>NaN</td>\n",
       "      <td>NaN</td>\n",
       "      <td>NaN</td>\n",
       "      <td>NaN</td>\n",
       "      <td>NaN</td>\n",
       "      <td>NaN</td>\n",
       "      <td>NaN</td>\n",
       "    </tr>\n",
       "    <tr>\n",
       "      <th>16</th>\n",
       "      <td>April'16</td>\n",
       "      <td>20-Apr-16</td>\n",
       "      <td>EC20041648053</td>\n",
       "      <td>Dealer</td>\n",
       "      <td>Lost</td>\n",
       "      <td>TAMILNADU</td>\n",
       "      <td>CHENNAI</td>\n",
       "      <td>600008</td>\n",
       "      <td>Renovation</td>\n",
       "      <td>1 to 5</td>\n",
       "      <td>...</td>\n",
       "      <td>NaN</td>\n",
       "      <td>Price Issue</td>\n",
       "      <td>821</td>\n",
       "      <td>NaN</td>\n",
       "      <td>NaN</td>\n",
       "      <td>NaN</td>\n",
       "      <td>NaN</td>\n",
       "      <td>NaN</td>\n",
       "      <td>NaN</td>\n",
       "      <td>NaN</td>\n",
       "    </tr>\n",
       "    <tr>\n",
       "      <th>17</th>\n",
       "      <td>April'16</td>\n",
       "      <td>21-Apr-16</td>\n",
       "      <td>EC21041648143</td>\n",
       "      <td>Dealer</td>\n",
       "      <td>Won</td>\n",
       "      <td>TAMILNADU</td>\n",
       "      <td>CHENNAI</td>\n",
       "      <td>600029</td>\n",
       "      <td>Renovation</td>\n",
       "      <td>21 to 40</td>\n",
       "      <td>...</td>\n",
       "      <td>NaN</td>\n",
       "      <td>None</td>\n",
       "      <td>1050</td>\n",
       "      <td>Reduce AC Energy Cost &amp; Street Noise</td>\n",
       "      <td>0.0</td>\n",
       "      <td>1.0</td>\n",
       "      <td>0.0</td>\n",
       "      <td>0.0</td>\n",
       "      <td>0.0</td>\n",
       "      <td>1.0</td>\n",
       "    </tr>\n",
       "    <tr>\n",
       "      <th>18</th>\n",
       "      <td>April'16</td>\n",
       "      <td>21-Apr-16</td>\n",
       "      <td>EC21041648139</td>\n",
       "      <td>Dealer</td>\n",
       "      <td>Won</td>\n",
       "      <td>TAMILNADU</td>\n",
       "      <td>CHENNAI</td>\n",
       "      <td>600078</td>\n",
       "      <td>New Construction</td>\n",
       "      <td>6 to 10</td>\n",
       "      <td>...</td>\n",
       "      <td>NaN</td>\n",
       "      <td>None</td>\n",
       "      <td>1200</td>\n",
       "      <td>Reduce Street Noise</td>\n",
       "      <td>0.0</td>\n",
       "      <td>1.0</td>\n",
       "      <td>0.0</td>\n",
       "      <td>0.0</td>\n",
       "      <td>0.0</td>\n",
       "      <td>0.0</td>\n",
       "    </tr>\n",
       "    <tr>\n",
       "      <th>19</th>\n",
       "      <td>April'16</td>\n",
       "      <td>22-Apr-16</td>\n",
       "      <td>EC22041648210</td>\n",
       "      <td>Dealer</td>\n",
       "      <td>Lost</td>\n",
       "      <td>TAMILNADU</td>\n",
       "      <td>CHENNAI</td>\n",
       "      <td>600040</td>\n",
       "      <td>Renovation</td>\n",
       "      <td>1 to 5</td>\n",
       "      <td>...</td>\n",
       "      <td>NaN</td>\n",
       "      <td>Design Not Feasible</td>\n",
       "      <td>843</td>\n",
       "      <td>NaN</td>\n",
       "      <td>NaN</td>\n",
       "      <td>NaN</td>\n",
       "      <td>NaN</td>\n",
       "      <td>NaN</td>\n",
       "      <td>NaN</td>\n",
       "      <td>NaN</td>\n",
       "    </tr>\n",
       "    <tr>\n",
       "      <th>20</th>\n",
       "      <td>April'16</td>\n",
       "      <td>22-Apr-16</td>\n",
       "      <td>EC21041648139</td>\n",
       "      <td>Dealer</td>\n",
       "      <td>Won</td>\n",
       "      <td>TAMILNADU</td>\n",
       "      <td>CHENNAI</td>\n",
       "      <td>600078</td>\n",
       "      <td>Renovation</td>\n",
       "      <td>6 to 10</td>\n",
       "      <td>...</td>\n",
       "      <td>NaN</td>\n",
       "      <td>None</td>\n",
       "      <td>948</td>\n",
       "      <td>Reduce Street Noise</td>\n",
       "      <td>0.0</td>\n",
       "      <td>1.0</td>\n",
       "      <td>0.0</td>\n",
       "      <td>0.0</td>\n",
       "      <td>0.0</td>\n",
       "      <td>0.0</td>\n",
       "    </tr>\n",
       "    <tr>\n",
       "      <th>21</th>\n",
       "      <td>April'16</td>\n",
       "      <td>25-Apr-16</td>\n",
       "      <td>EC06101535268</td>\n",
       "      <td>Dealer</td>\n",
       "      <td>Lost</td>\n",
       "      <td>TAMILNADU</td>\n",
       "      <td>CHENNAI</td>\n",
       "      <td>600010</td>\n",
       "      <td>Renovation</td>\n",
       "      <td>6 to 10</td>\n",
       "      <td>...</td>\n",
       "      <td>NaN</td>\n",
       "      <td>Price Issue</td>\n",
       "      <td>934</td>\n",
       "      <td>NaN</td>\n",
       "      <td>NaN</td>\n",
       "      <td>NaN</td>\n",
       "      <td>NaN</td>\n",
       "      <td>NaN</td>\n",
       "      <td>NaN</td>\n",
       "      <td>NaN</td>\n",
       "    </tr>\n",
       "    <tr>\n",
       "      <th>22</th>\n",
       "      <td>April'16</td>\n",
       "      <td>25-Apr-16</td>\n",
       "      <td>EC25041648426</td>\n",
       "      <td>Dealer</td>\n",
       "      <td>Lost</td>\n",
       "      <td>TAMILNADU</td>\n",
       "      <td>CHENNAI</td>\n",
       "      <td>600035</td>\n",
       "      <td>Renovation</td>\n",
       "      <td>1 to 5</td>\n",
       "      <td>...</td>\n",
       "      <td>NaN</td>\n",
       "      <td>Delivery Issue</td>\n",
       "      <td>812</td>\n",
       "      <td>NaN</td>\n",
       "      <td>NaN</td>\n",
       "      <td>NaN</td>\n",
       "      <td>NaN</td>\n",
       "      <td>NaN</td>\n",
       "      <td>NaN</td>\n",
       "      <td>NaN</td>\n",
       "    </tr>\n",
       "    <tr>\n",
       "      <th>23</th>\n",
       "      <td>April'16</td>\n",
       "      <td>26-Apr-16</td>\n",
       "      <td>EC2002143733</td>\n",
       "      <td>Dealer</td>\n",
       "      <td>Lost</td>\n",
       "      <td>TAMILNADU</td>\n",
       "      <td>CHENNAI</td>\n",
       "      <td>600004</td>\n",
       "      <td>New Construction</td>\n",
       "      <td>1 to 5</td>\n",
       "      <td>...</td>\n",
       "      <td>NaN</td>\n",
       "      <td>Budget Constraint</td>\n",
       "      <td>1005</td>\n",
       "      <td>NaN</td>\n",
       "      <td>NaN</td>\n",
       "      <td>NaN</td>\n",
       "      <td>NaN</td>\n",
       "      <td>NaN</td>\n",
       "      <td>NaN</td>\n",
       "      <td>NaN</td>\n",
       "    </tr>\n",
       "    <tr>\n",
       "      <th>24</th>\n",
       "      <td>April'16</td>\n",
       "      <td>27-Apr-16</td>\n",
       "      <td>EC27041648574</td>\n",
       "      <td>Dealer</td>\n",
       "      <td>Lost</td>\n",
       "      <td>TAMILNADU</td>\n",
       "      <td>CHENNAI</td>\n",
       "      <td>600020</td>\n",
       "      <td>Renovation</td>\n",
       "      <td>1 to 5</td>\n",
       "      <td>...</td>\n",
       "      <td>NaN</td>\n",
       "      <td>Budget Constraint</td>\n",
       "      <td>993</td>\n",
       "      <td>NaN</td>\n",
       "      <td>NaN</td>\n",
       "      <td>NaN</td>\n",
       "      <td>NaN</td>\n",
       "      <td>NaN</td>\n",
       "      <td>NaN</td>\n",
       "      <td>NaN</td>\n",
       "    </tr>\n",
       "    <tr>\n",
       "      <th>25</th>\n",
       "      <td>April'16</td>\n",
       "      <td>28-Apr-16</td>\n",
       "      <td>EC25041648424</td>\n",
       "      <td>Dealer</td>\n",
       "      <td>Lost</td>\n",
       "      <td>TAMILNADU</td>\n",
       "      <td>CHENNAI</td>\n",
       "      <td>600077</td>\n",
       "      <td>New Construction</td>\n",
       "      <td>11 to 20</td>\n",
       "      <td>...</td>\n",
       "      <td>NaN</td>\n",
       "      <td>None</td>\n",
       "      <td>1101</td>\n",
       "      <td>NaN</td>\n",
       "      <td>NaN</td>\n",
       "      <td>NaN</td>\n",
       "      <td>NaN</td>\n",
       "      <td>NaN</td>\n",
       "      <td>NaN</td>\n",
       "      <td>NaN</td>\n",
       "    </tr>\n",
       "    <tr>\n",
       "      <th>26</th>\n",
       "      <td>April'16</td>\n",
       "      <td>30-Apr-16</td>\n",
       "      <td>EC30041648800</td>\n",
       "      <td>Dealer</td>\n",
       "      <td>Lost</td>\n",
       "      <td>TAMILNADU</td>\n",
       "      <td>CHENNAI</td>\n",
       "      <td>600011</td>\n",
       "      <td>Renovation</td>\n",
       "      <td>1 to 5</td>\n",
       "      <td>...</td>\n",
       "      <td>NaN</td>\n",
       "      <td>Price Issue</td>\n",
       "      <td>1032</td>\n",
       "      <td>NaN</td>\n",
       "      <td>NaN</td>\n",
       "      <td>NaN</td>\n",
       "      <td>NaN</td>\n",
       "      <td>NaN</td>\n",
       "      <td>NaN</td>\n",
       "      <td>NaN</td>\n",
       "    </tr>\n",
       "    <tr>\n",
       "      <th>27</th>\n",
       "      <td>June'16</td>\n",
       "      <td>04-Jun-16</td>\n",
       "      <td>EC04061651354</td>\n",
       "      <td>Dealer</td>\n",
       "      <td>Lost</td>\n",
       "      <td>TAMILNADU</td>\n",
       "      <td>THIRUVALLUR</td>\n",
       "      <td>600037</td>\n",
       "      <td>Renovation</td>\n",
       "      <td>1 to 5</td>\n",
       "      <td>...</td>\n",
       "      <td>NaN</td>\n",
       "      <td>Price Issue</td>\n",
       "      <td>1011</td>\n",
       "      <td>NaN</td>\n",
       "      <td>NaN</td>\n",
       "      <td>NaN</td>\n",
       "      <td>NaN</td>\n",
       "      <td>NaN</td>\n",
       "      <td>NaN</td>\n",
       "      <td>NaN</td>\n",
       "    </tr>\n",
       "    <tr>\n",
       "      <th>28</th>\n",
       "      <td>June'16</td>\n",
       "      <td>08-Jun-16</td>\n",
       "      <td>EC08061651611</td>\n",
       "      <td>Direct</td>\n",
       "      <td>Lost</td>\n",
       "      <td>TAMILNADU</td>\n",
       "      <td>CHENNAI</td>\n",
       "      <td>600034</td>\n",
       "      <td>New Construction</td>\n",
       "      <td>11 to 20</td>\n",
       "      <td>...</td>\n",
       "      <td>NaN</td>\n",
       "      <td>Budget Constraint</td>\n",
       "      <td>996</td>\n",
       "      <td>NaN</td>\n",
       "      <td>NaN</td>\n",
       "      <td>NaN</td>\n",
       "      <td>NaN</td>\n",
       "      <td>NaN</td>\n",
       "      <td>NaN</td>\n",
       "      <td>NaN</td>\n",
       "    </tr>\n",
       "    <tr>\n",
       "      <th>29</th>\n",
       "      <td>June'16</td>\n",
       "      <td>09-Jun-16</td>\n",
       "      <td>EC09061651686</td>\n",
       "      <td>Dealer</td>\n",
       "      <td>Lost</td>\n",
       "      <td>TAMILNADU</td>\n",
       "      <td>VELLORE</td>\n",
       "      <td>631052</td>\n",
       "      <td>New Construction</td>\n",
       "      <td>6 to 10</td>\n",
       "      <td>...</td>\n",
       "      <td>NaN</td>\n",
       "      <td>Price Issue</td>\n",
       "      <td>1048</td>\n",
       "      <td>NaN</td>\n",
       "      <td>NaN</td>\n",
       "      <td>NaN</td>\n",
       "      <td>NaN</td>\n",
       "      <td>NaN</td>\n",
       "      <td>NaN</td>\n",
       "      <td>NaN</td>\n",
       "    </tr>\n",
       "    <tr>\n",
       "      <th>...</th>\n",
       "      <td>...</td>\n",
       "      <td>...</td>\n",
       "      <td>...</td>\n",
       "      <td>...</td>\n",
       "      <td>...</td>\n",
       "      <td>...</td>\n",
       "      <td>...</td>\n",
       "      <td>...</td>\n",
       "      <td>...</td>\n",
       "      <td>...</td>\n",
       "      <td>...</td>\n",
       "      <td>...</td>\n",
       "      <td>...</td>\n",
       "      <td>...</td>\n",
       "      <td>...</td>\n",
       "      <td>...</td>\n",
       "      <td>...</td>\n",
       "      <td>...</td>\n",
       "      <td>...</td>\n",
       "      <td>...</td>\n",
       "      <td>...</td>\n",
       "    </tr>\n",
       "    <tr>\n",
       "      <th>199</th>\n",
       "      <td>Dec'16</td>\n",
       "      <td>25-Dec-16</td>\n",
       "      <td>EC25121667555</td>\n",
       "      <td>Direct</td>\n",
       "      <td>Won</td>\n",
       "      <td>TAMILNADU</td>\n",
       "      <td>CHENNAI</td>\n",
       "      <td>600005</td>\n",
       "      <td>Renovation</td>\n",
       "      <td>6 to 10</td>\n",
       "      <td>...</td>\n",
       "      <td>NaN</td>\n",
       "      <td>None</td>\n",
       "      <td>805</td>\n",
       "      <td>Aesthetics &amp; Low Maintenance</td>\n",
       "      <td>1.0</td>\n",
       "      <td>0.0</td>\n",
       "      <td>1.0</td>\n",
       "      <td>0.0</td>\n",
       "      <td>0.0</td>\n",
       "      <td>0.0</td>\n",
       "    </tr>\n",
       "    <tr>\n",
       "      <th>200</th>\n",
       "      <td>Dec'16</td>\n",
       "      <td>26-Dec-16</td>\n",
       "      <td>EC26121667607</td>\n",
       "      <td>Direct</td>\n",
       "      <td>Lost</td>\n",
       "      <td>TAMILNADU</td>\n",
       "      <td>KANCHIPURAM</td>\n",
       "      <td>600048</td>\n",
       "      <td>Renovation</td>\n",
       "      <td>1 to 5</td>\n",
       "      <td>...</td>\n",
       "      <td>NaN</td>\n",
       "      <td>Price Issue</td>\n",
       "      <td>894</td>\n",
       "      <td>NaN</td>\n",
       "      <td>NaN</td>\n",
       "      <td>NaN</td>\n",
       "      <td>NaN</td>\n",
       "      <td>NaN</td>\n",
       "      <td>NaN</td>\n",
       "      <td>NaN</td>\n",
       "    </tr>\n",
       "    <tr>\n",
       "      <th>201</th>\n",
       "      <td>Dec'16</td>\n",
       "      <td>26-Dec-16</td>\n",
       "      <td>EC26121667664</td>\n",
       "      <td>Dealer</td>\n",
       "      <td>Won</td>\n",
       "      <td>TAMILNADU</td>\n",
       "      <td>CHENNAI</td>\n",
       "      <td>600004</td>\n",
       "      <td>Renovation</td>\n",
       "      <td>1 to 5</td>\n",
       "      <td>...</td>\n",
       "      <td>NaN</td>\n",
       "      <td>None</td>\n",
       "      <td>1162</td>\n",
       "      <td>Aesthetics &amp; Low Maintenance</td>\n",
       "      <td>1.0</td>\n",
       "      <td>0.0</td>\n",
       "      <td>1.0</td>\n",
       "      <td>0.0</td>\n",
       "      <td>0.0</td>\n",
       "      <td>0.0</td>\n",
       "    </tr>\n",
       "    <tr>\n",
       "      <th>202</th>\n",
       "      <td>Dec'16</td>\n",
       "      <td>26-Dec-16</td>\n",
       "      <td>EC26121667722</td>\n",
       "      <td>Direct</td>\n",
       "      <td>Lost</td>\n",
       "      <td>TAMILNADU</td>\n",
       "      <td>THIRUVALLUR</td>\n",
       "      <td>600120</td>\n",
       "      <td>Renovation</td>\n",
       "      <td>6 to 10</td>\n",
       "      <td>...</td>\n",
       "      <td>NaN</td>\n",
       "      <td>Price Issue</td>\n",
       "      <td>965</td>\n",
       "      <td>NaN</td>\n",
       "      <td>NaN</td>\n",
       "      <td>NaN</td>\n",
       "      <td>NaN</td>\n",
       "      <td>NaN</td>\n",
       "      <td>NaN</td>\n",
       "      <td>NaN</td>\n",
       "    </tr>\n",
       "    <tr>\n",
       "      <th>203</th>\n",
       "      <td>Dec'16</td>\n",
       "      <td>27-Dec-16</td>\n",
       "      <td>EC27121667825</td>\n",
       "      <td>Direct</td>\n",
       "      <td>Won</td>\n",
       "      <td>TAMILNADU</td>\n",
       "      <td>KANCHIPURAM</td>\n",
       "      <td>600091</td>\n",
       "      <td>New Construction</td>\n",
       "      <td>1 to 5</td>\n",
       "      <td>...</td>\n",
       "      <td>NaN</td>\n",
       "      <td>None</td>\n",
       "      <td>1750</td>\n",
       "      <td>Nil</td>\n",
       "      <td>NaN</td>\n",
       "      <td>NaN</td>\n",
       "      <td>NaN</td>\n",
       "      <td>NaN</td>\n",
       "      <td>NaN</td>\n",
       "      <td>NaN</td>\n",
       "    </tr>\n",
       "    <tr>\n",
       "      <th>204</th>\n",
       "      <td>Dec'16</td>\n",
       "      <td>27-Dec-16</td>\n",
       "      <td>EC27121667800</td>\n",
       "      <td>Dealer</td>\n",
       "      <td>Won</td>\n",
       "      <td>TAMILNADU</td>\n",
       "      <td>CHENNAI</td>\n",
       "      <td>600040</td>\n",
       "      <td>Renovation</td>\n",
       "      <td>11 to 20</td>\n",
       "      <td>...</td>\n",
       "      <td>NaN</td>\n",
       "      <td>None</td>\n",
       "      <td>1090</td>\n",
       "      <td>Aesthetics &amp; Low Maintenance</td>\n",
       "      <td>1.0</td>\n",
       "      <td>0.0</td>\n",
       "      <td>1.0</td>\n",
       "      <td>0.0</td>\n",
       "      <td>0.0</td>\n",
       "      <td>0.0</td>\n",
       "    </tr>\n",
       "    <tr>\n",
       "      <th>205</th>\n",
       "      <td>Dec'16</td>\n",
       "      <td>28-Dec-16</td>\n",
       "      <td>EC28121668016</td>\n",
       "      <td>Direct</td>\n",
       "      <td>Won</td>\n",
       "      <td>TAMILNADU</td>\n",
       "      <td>CHENNAI</td>\n",
       "      <td>600052</td>\n",
       "      <td>New Construction</td>\n",
       "      <td>21 to 40</td>\n",
       "      <td>...</td>\n",
       "      <td>NaN</td>\n",
       "      <td>None</td>\n",
       "      <td>1422</td>\n",
       "      <td>Nil</td>\n",
       "      <td>NaN</td>\n",
       "      <td>NaN</td>\n",
       "      <td>NaN</td>\n",
       "      <td>NaN</td>\n",
       "      <td>NaN</td>\n",
       "      <td>NaN</td>\n",
       "    </tr>\n",
       "    <tr>\n",
       "      <th>206</th>\n",
       "      <td>Dec'16</td>\n",
       "      <td>29-Dec-16</td>\n",
       "      <td>EC1002143224</td>\n",
       "      <td>Direct</td>\n",
       "      <td>Won</td>\n",
       "      <td>TAMILNADU</td>\n",
       "      <td>CHENNAI</td>\n",
       "      <td>600037</td>\n",
       "      <td>Renovation</td>\n",
       "      <td>1 to 5</td>\n",
       "      <td>...</td>\n",
       "      <td>NaN</td>\n",
       "      <td>None</td>\n",
       "      <td>1030</td>\n",
       "      <td>Aesthetics &amp; Low Maintenance</td>\n",
       "      <td>1.0</td>\n",
       "      <td>0.0</td>\n",
       "      <td>1.0</td>\n",
       "      <td>0.0</td>\n",
       "      <td>0.0</td>\n",
       "      <td>0.0</td>\n",
       "    </tr>\n",
       "    <tr>\n",
       "      <th>207</th>\n",
       "      <td>Dec'16</td>\n",
       "      <td>30-Dec-16</td>\n",
       "      <td>EC30121668253</td>\n",
       "      <td>Direct</td>\n",
       "      <td>Lost</td>\n",
       "      <td>TAMILNADU</td>\n",
       "      <td>CHENNAI</td>\n",
       "      <td>603202</td>\n",
       "      <td>New Construction</td>\n",
       "      <td>11 to 20</td>\n",
       "      <td>...</td>\n",
       "      <td>NaN</td>\n",
       "      <td>Price Issue</td>\n",
       "      <td>1068</td>\n",
       "      <td>NaN</td>\n",
       "      <td>NaN</td>\n",
       "      <td>NaN</td>\n",
       "      <td>NaN</td>\n",
       "      <td>NaN</td>\n",
       "      <td>NaN</td>\n",
       "      <td>NaN</td>\n",
       "    </tr>\n",
       "    <tr>\n",
       "      <th>208</th>\n",
       "      <td>Jan'17</td>\n",
       "      <td>01-Jan-17</td>\n",
       "      <td>EC01011768406</td>\n",
       "      <td>Direct</td>\n",
       "      <td>Lost</td>\n",
       "      <td>TAMILNADU</td>\n",
       "      <td>CHENNAI</td>\n",
       "      <td>600061</td>\n",
       "      <td>New Construction</td>\n",
       "      <td>21 to 40</td>\n",
       "      <td>...</td>\n",
       "      <td>NaN</td>\n",
       "      <td>Price Issue</td>\n",
       "      <td>978</td>\n",
       "      <td>NaN</td>\n",
       "      <td>NaN</td>\n",
       "      <td>NaN</td>\n",
       "      <td>NaN</td>\n",
       "      <td>NaN</td>\n",
       "      <td>NaN</td>\n",
       "      <td>NaN</td>\n",
       "    </tr>\n",
       "    <tr>\n",
       "      <th>209</th>\n",
       "      <td>Jan'17</td>\n",
       "      <td>02-Jan-17</td>\n",
       "      <td>EC02011768470</td>\n",
       "      <td>Direct</td>\n",
       "      <td>Lost</td>\n",
       "      <td>TAMILNADU</td>\n",
       "      <td>KANCHIPURAM</td>\n",
       "      <td>603202</td>\n",
       "      <td>Renovation</td>\n",
       "      <td>1 to 5</td>\n",
       "      <td>...</td>\n",
       "      <td>NaN</td>\n",
       "      <td>Awareness Call</td>\n",
       "      <td>945</td>\n",
       "      <td>NaN</td>\n",
       "      <td>NaN</td>\n",
       "      <td>NaN</td>\n",
       "      <td>NaN</td>\n",
       "      <td>NaN</td>\n",
       "      <td>NaN</td>\n",
       "      <td>NaN</td>\n",
       "    </tr>\n",
       "    <tr>\n",
       "      <th>210</th>\n",
       "      <td>Jan'17</td>\n",
       "      <td>02-Jan-17</td>\n",
       "      <td>EC02011768429</td>\n",
       "      <td>Dealer</td>\n",
       "      <td>Lost</td>\n",
       "      <td>TAMILNADU</td>\n",
       "      <td>CHENNAI</td>\n",
       "      <td>600102</td>\n",
       "      <td>Renovation</td>\n",
       "      <td>1 to 5</td>\n",
       "      <td>...</td>\n",
       "      <td>NaN</td>\n",
       "      <td>Price Issue</td>\n",
       "      <td>921</td>\n",
       "      <td>NaN</td>\n",
       "      <td>NaN</td>\n",
       "      <td>NaN</td>\n",
       "      <td>NaN</td>\n",
       "      <td>NaN</td>\n",
       "      <td>NaN</td>\n",
       "      <td>NaN</td>\n",
       "    </tr>\n",
       "    <tr>\n",
       "      <th>211</th>\n",
       "      <td>Jan'17</td>\n",
       "      <td>03-Jan-17</td>\n",
       "      <td>EC03011768649</td>\n",
       "      <td>Direct</td>\n",
       "      <td>Lost</td>\n",
       "      <td>TAMILNADU</td>\n",
       "      <td>PONDICHERRY</td>\n",
       "      <td>605501</td>\n",
       "      <td>Renovation</td>\n",
       "      <td>1 to 5</td>\n",
       "      <td>...</td>\n",
       "      <td>NaN</td>\n",
       "      <td>Price Issue</td>\n",
       "      <td>1121</td>\n",
       "      <td>NaN</td>\n",
       "      <td>NaN</td>\n",
       "      <td>NaN</td>\n",
       "      <td>NaN</td>\n",
       "      <td>NaN</td>\n",
       "      <td>NaN</td>\n",
       "      <td>NaN</td>\n",
       "    </tr>\n",
       "    <tr>\n",
       "      <th>212</th>\n",
       "      <td>Jan'17</td>\n",
       "      <td>03-Jan-17</td>\n",
       "      <td>EC03011768646</td>\n",
       "      <td>Dealer</td>\n",
       "      <td>Lost</td>\n",
       "      <td>TAMILNADU</td>\n",
       "      <td>CHENNAI</td>\n",
       "      <td>600010</td>\n",
       "      <td>New Construction</td>\n",
       "      <td>1 to 5</td>\n",
       "      <td>...</td>\n",
       "      <td>NaN</td>\n",
       "      <td>Price Issue</td>\n",
       "      <td>1129</td>\n",
       "      <td>NaN</td>\n",
       "      <td>NaN</td>\n",
       "      <td>NaN</td>\n",
       "      <td>NaN</td>\n",
       "      <td>NaN</td>\n",
       "      <td>NaN</td>\n",
       "      <td>NaN</td>\n",
       "    </tr>\n",
       "    <tr>\n",
       "      <th>213</th>\n",
       "      <td>Jan'17</td>\n",
       "      <td>03-Jan-17</td>\n",
       "      <td>EC03011768620</td>\n",
       "      <td>Direct</td>\n",
       "      <td>Lost</td>\n",
       "      <td>TAMILNADU</td>\n",
       "      <td>CHENNAI</td>\n",
       "      <td>600026</td>\n",
       "      <td>Renovation</td>\n",
       "      <td>1 to 5</td>\n",
       "      <td>...</td>\n",
       "      <td>NaN</td>\n",
       "      <td>Price Issue</td>\n",
       "      <td>1031</td>\n",
       "      <td>NaN</td>\n",
       "      <td>NaN</td>\n",
       "      <td>NaN</td>\n",
       "      <td>NaN</td>\n",
       "      <td>NaN</td>\n",
       "      <td>NaN</td>\n",
       "      <td>NaN</td>\n",
       "    </tr>\n",
       "    <tr>\n",
       "      <th>214</th>\n",
       "      <td>Jan'17</td>\n",
       "      <td>06-Jan-17</td>\n",
       "      <td>EC05011768785</td>\n",
       "      <td>Direct</td>\n",
       "      <td>Lost</td>\n",
       "      <td>TAMILNADU</td>\n",
       "      <td>CHENNAI</td>\n",
       "      <td>600042</td>\n",
       "      <td>Renovation</td>\n",
       "      <td>1 to 5</td>\n",
       "      <td>...</td>\n",
       "      <td>NaN</td>\n",
       "      <td>Budget Constraint</td>\n",
       "      <td>965</td>\n",
       "      <td>NaN</td>\n",
       "      <td>NaN</td>\n",
       "      <td>NaN</td>\n",
       "      <td>NaN</td>\n",
       "      <td>NaN</td>\n",
       "      <td>NaN</td>\n",
       "      <td>NaN</td>\n",
       "    </tr>\n",
       "    <tr>\n",
       "      <th>215</th>\n",
       "      <td>Jan'17</td>\n",
       "      <td>05-Jan-17</td>\n",
       "      <td>EC05011768756</td>\n",
       "      <td>Dealer</td>\n",
       "      <td>Won</td>\n",
       "      <td>TAMILNADU</td>\n",
       "      <td>CHENNAI</td>\n",
       "      <td>600094</td>\n",
       "      <td>Renovation</td>\n",
       "      <td>1 to 5</td>\n",
       "      <td>...</td>\n",
       "      <td>NaN</td>\n",
       "      <td>None</td>\n",
       "      <td>1122</td>\n",
       "      <td>Noise Proof &amp; Better Lighting</td>\n",
       "      <td>0.0</td>\n",
       "      <td>1.0</td>\n",
       "      <td>0.0</td>\n",
       "      <td>0.0</td>\n",
       "      <td>1.0</td>\n",
       "      <td>0.0</td>\n",
       "    </tr>\n",
       "    <tr>\n",
       "      <th>216</th>\n",
       "      <td>Jan'17</td>\n",
       "      <td>06-Jan-17</td>\n",
       "      <td>EC06011768979</td>\n",
       "      <td>Dealer</td>\n",
       "      <td>Lost</td>\n",
       "      <td>TAMILNADU</td>\n",
       "      <td>CHENNAI</td>\n",
       "      <td>600024</td>\n",
       "      <td>Renovation</td>\n",
       "      <td>1 to 5</td>\n",
       "      <td>...</td>\n",
       "      <td>NaN</td>\n",
       "      <td>Price Issue</td>\n",
       "      <td>1065</td>\n",
       "      <td>NaN</td>\n",
       "      <td>NaN</td>\n",
       "      <td>NaN</td>\n",
       "      <td>NaN</td>\n",
       "      <td>NaN</td>\n",
       "      <td>NaN</td>\n",
       "      <td>NaN</td>\n",
       "    </tr>\n",
       "    <tr>\n",
       "      <th>217</th>\n",
       "      <td>Jan'17</td>\n",
       "      <td>09-Jan-17</td>\n",
       "      <td>EC06011769002</td>\n",
       "      <td>Dealer</td>\n",
       "      <td>Lost</td>\n",
       "      <td>TAMILNADU</td>\n",
       "      <td>CHENNAI</td>\n",
       "      <td>600085</td>\n",
       "      <td>New Construction</td>\n",
       "      <td>1 to 5</td>\n",
       "      <td>...</td>\n",
       "      <td>NaN</td>\n",
       "      <td>Design Not Feasible</td>\n",
       "      <td>892</td>\n",
       "      <td>NaN</td>\n",
       "      <td>NaN</td>\n",
       "      <td>NaN</td>\n",
       "      <td>NaN</td>\n",
       "      <td>NaN</td>\n",
       "      <td>NaN</td>\n",
       "      <td>NaN</td>\n",
       "    </tr>\n",
       "    <tr>\n",
       "      <th>218</th>\n",
       "      <td>Jan'17</td>\n",
       "      <td>09-Jan-17</td>\n",
       "      <td>EC03081655947</td>\n",
       "      <td>Direct</td>\n",
       "      <td>Won</td>\n",
       "      <td>TAMILNADU</td>\n",
       "      <td>CHENNAI</td>\n",
       "      <td>600041</td>\n",
       "      <td>New Construction</td>\n",
       "      <td>41 to 100</td>\n",
       "      <td>...</td>\n",
       "      <td>NaN</td>\n",
       "      <td>None</td>\n",
       "      <td>1420</td>\n",
       "      <td>Reduce Street Noise &amp; Low Maintenance</td>\n",
       "      <td>0.0</td>\n",
       "      <td>1.0</td>\n",
       "      <td>1.0</td>\n",
       "      <td>0.0</td>\n",
       "      <td>0.0</td>\n",
       "      <td>0.0</td>\n",
       "    </tr>\n",
       "    <tr>\n",
       "      <th>219</th>\n",
       "      <td>Jan'17</td>\n",
       "      <td>11-Jan-17</td>\n",
       "      <td>EC11011769465</td>\n",
       "      <td>Direct</td>\n",
       "      <td>Lost</td>\n",
       "      <td>TAMILNADU</td>\n",
       "      <td>CHENNAI</td>\n",
       "      <td>600097</td>\n",
       "      <td>Renovation</td>\n",
       "      <td>1 to 5</td>\n",
       "      <td>...</td>\n",
       "      <td>NaN</td>\n",
       "      <td>Budget Constraint</td>\n",
       "      <td>1087</td>\n",
       "      <td>NaN</td>\n",
       "      <td>NaN</td>\n",
       "      <td>NaN</td>\n",
       "      <td>NaN</td>\n",
       "      <td>NaN</td>\n",
       "      <td>NaN</td>\n",
       "      <td>NaN</td>\n",
       "    </tr>\n",
       "    <tr>\n",
       "      <th>220</th>\n",
       "      <td>Jan'17</td>\n",
       "      <td>11-Jan-17</td>\n",
       "      <td>EC11011769490</td>\n",
       "      <td>Dealer</td>\n",
       "      <td>Lost</td>\n",
       "      <td>TAMILNADU</td>\n",
       "      <td>CHENNAI</td>\n",
       "      <td>600023</td>\n",
       "      <td>Renovation</td>\n",
       "      <td>1 to 5</td>\n",
       "      <td>...</td>\n",
       "      <td>NaN</td>\n",
       "      <td>None</td>\n",
       "      <td>997</td>\n",
       "      <td>NaN</td>\n",
       "      <td>NaN</td>\n",
       "      <td>NaN</td>\n",
       "      <td>NaN</td>\n",
       "      <td>NaN</td>\n",
       "      <td>NaN</td>\n",
       "      <td>NaN</td>\n",
       "    </tr>\n",
       "    <tr>\n",
       "      <th>221</th>\n",
       "      <td>Jan'17</td>\n",
       "      <td>13-Jan-17</td>\n",
       "      <td>EC13011769738</td>\n",
       "      <td>Dealer</td>\n",
       "      <td>Won</td>\n",
       "      <td>TAMILNADU</td>\n",
       "      <td>CHENNAI</td>\n",
       "      <td>600020</td>\n",
       "      <td>Renovation</td>\n",
       "      <td>1 to 5</td>\n",
       "      <td>...</td>\n",
       "      <td>NaN</td>\n",
       "      <td>None</td>\n",
       "      <td>829</td>\n",
       "      <td>Low Maintenance</td>\n",
       "      <td>0.0</td>\n",
       "      <td>0.0</td>\n",
       "      <td>1.0</td>\n",
       "      <td>0.0</td>\n",
       "      <td>0.0</td>\n",
       "      <td>0.0</td>\n",
       "    </tr>\n",
       "    <tr>\n",
       "      <th>222</th>\n",
       "      <td>Jan'17</td>\n",
       "      <td>18-Jan-17</td>\n",
       "      <td>EC18011770185</td>\n",
       "      <td>Direct</td>\n",
       "      <td>Won</td>\n",
       "      <td>TAMILNADU</td>\n",
       "      <td>KANCHIPURAM</td>\n",
       "      <td>600059</td>\n",
       "      <td>Renovation</td>\n",
       "      <td>1 to 5</td>\n",
       "      <td>...</td>\n",
       "      <td>NaN</td>\n",
       "      <td>None</td>\n",
       "      <td>1055</td>\n",
       "      <td>Nil</td>\n",
       "      <td>NaN</td>\n",
       "      <td>NaN</td>\n",
       "      <td>NaN</td>\n",
       "      <td>NaN</td>\n",
       "      <td>NaN</td>\n",
       "      <td>NaN</td>\n",
       "    </tr>\n",
       "    <tr>\n",
       "      <th>223</th>\n",
       "      <td>Jan'17</td>\n",
       "      <td>18-Jan-17</td>\n",
       "      <td>EC18011770221</td>\n",
       "      <td>Dealer</td>\n",
       "      <td>Lost</td>\n",
       "      <td>TAMILNADU</td>\n",
       "      <td>CHENNAI</td>\n",
       "      <td>600020</td>\n",
       "      <td>Renovation</td>\n",
       "      <td>6 to 10</td>\n",
       "      <td>...</td>\n",
       "      <td>NaN</td>\n",
       "      <td>Awareness Call</td>\n",
       "      <td>1157</td>\n",
       "      <td>NaN</td>\n",
       "      <td>NaN</td>\n",
       "      <td>NaN</td>\n",
       "      <td>NaN</td>\n",
       "      <td>NaN</td>\n",
       "      <td>NaN</td>\n",
       "      <td>NaN</td>\n",
       "    </tr>\n",
       "    <tr>\n",
       "      <th>224</th>\n",
       "      <td>Jan'17</td>\n",
       "      <td>21-Jan-17</td>\n",
       "      <td>EC21011770512</td>\n",
       "      <td>Dealer</td>\n",
       "      <td>Lost</td>\n",
       "      <td>TAMILNADU</td>\n",
       "      <td>CHENNAI</td>\n",
       "      <td>600014</td>\n",
       "      <td>Renovation</td>\n",
       "      <td>11 to 20</td>\n",
       "      <td>...</td>\n",
       "      <td>NaN</td>\n",
       "      <td>Price Issue</td>\n",
       "      <td>929</td>\n",
       "      <td>NaN</td>\n",
       "      <td>NaN</td>\n",
       "      <td>NaN</td>\n",
       "      <td>NaN</td>\n",
       "      <td>NaN</td>\n",
       "      <td>NaN</td>\n",
       "      <td>NaN</td>\n",
       "    </tr>\n",
       "    <tr>\n",
       "      <th>225</th>\n",
       "      <td>Jan'17</td>\n",
       "      <td>23-Jan-17</td>\n",
       "      <td>EC24011770882</td>\n",
       "      <td>Direct</td>\n",
       "      <td>Won</td>\n",
       "      <td>TAMILNADU</td>\n",
       "      <td>CHENNAI</td>\n",
       "      <td>600015</td>\n",
       "      <td>Renovation</td>\n",
       "      <td>1 to 5</td>\n",
       "      <td>...</td>\n",
       "      <td>NaN</td>\n",
       "      <td>None</td>\n",
       "      <td>945</td>\n",
       "      <td>Low Maintenance</td>\n",
       "      <td>0.0</td>\n",
       "      <td>0.0</td>\n",
       "      <td>1.0</td>\n",
       "      <td>0.0</td>\n",
       "      <td>0.0</td>\n",
       "      <td>0.0</td>\n",
       "    </tr>\n",
       "    <tr>\n",
       "      <th>226</th>\n",
       "      <td>Jan'17</td>\n",
       "      <td>26-Jan-17</td>\n",
       "      <td>EC26121667587</td>\n",
       "      <td>Direct</td>\n",
       "      <td>Lost</td>\n",
       "      <td>TAMILNADU</td>\n",
       "      <td>CHENNAI</td>\n",
       "      <td>600119</td>\n",
       "      <td>Renovation</td>\n",
       "      <td>1 to 5</td>\n",
       "      <td>...</td>\n",
       "      <td>NaN</td>\n",
       "      <td>Awareness Call</td>\n",
       "      <td>1044</td>\n",
       "      <td>NaN</td>\n",
       "      <td>NaN</td>\n",
       "      <td>NaN</td>\n",
       "      <td>NaN</td>\n",
       "      <td>NaN</td>\n",
       "      <td>NaN</td>\n",
       "      <td>NaN</td>\n",
       "    </tr>\n",
       "    <tr>\n",
       "      <th>227</th>\n",
       "      <td>Jan'17</td>\n",
       "      <td>27-Jan-17</td>\n",
       "      <td>EC27011771169</td>\n",
       "      <td>Dealer</td>\n",
       "      <td>Lost</td>\n",
       "      <td>TAMILNADU</td>\n",
       "      <td>CHENNAI</td>\n",
       "      <td>600082</td>\n",
       "      <td>Renovation</td>\n",
       "      <td>1 to 5</td>\n",
       "      <td>...</td>\n",
       "      <td>NaN</td>\n",
       "      <td>Design Not Feasible</td>\n",
       "      <td>849</td>\n",
       "      <td>NaN</td>\n",
       "      <td>NaN</td>\n",
       "      <td>NaN</td>\n",
       "      <td>NaN</td>\n",
       "      <td>NaN</td>\n",
       "      <td>NaN</td>\n",
       "      <td>NaN</td>\n",
       "    </tr>\n",
       "    <tr>\n",
       "      <th>228</th>\n",
       "      <td>Jan'17</td>\n",
       "      <td>27-Jan-17</td>\n",
       "      <td>EC27011771160</td>\n",
       "      <td>Direct</td>\n",
       "      <td>Lost</td>\n",
       "      <td>TAMILNADU</td>\n",
       "      <td>KANCHIPURAM</td>\n",
       "      <td>600089</td>\n",
       "      <td>New Construction</td>\n",
       "      <td>1 to 5</td>\n",
       "      <td>...</td>\n",
       "      <td>NaN</td>\n",
       "      <td>Price Issue</td>\n",
       "      <td>946</td>\n",
       "      <td>NaN</td>\n",
       "      <td>NaN</td>\n",
       "      <td>NaN</td>\n",
       "      <td>NaN</td>\n",
       "      <td>NaN</td>\n",
       "      <td>NaN</td>\n",
       "      <td>NaN</td>\n",
       "    </tr>\n",
       "  </tbody>\n",
       "</table>\n",
       "<p>229 rows × 40 columns</p>\n",
       "</div>"
      ],
      "text/plain": [
       "        Month Enquiry_Date      Enquiry_Id Allocation_Status Status  \\\n",
       "0    April'16    02-Apr-16   EC02041646800            Dealer    Won   \n",
       "1    April'16    08-Apr-16   EC08041647157            Dealer   Lost   \n",
       "2    April'16    08-Apr-16   EC08041647130            Dealer   Lost   \n",
       "3    April'16    09-Apr-16   EC09041647202            Direct   Lost   \n",
       "4    April'16    11-Apr-16   EC11041647360            Direct    Won   \n",
       "5    April'16    11-Apr-16   EC11041647280            Dealer   Lost   \n",
       "6    April'16    12-Apr-16   EC12041647460            Dealer   Lost   \n",
       "7    April'16    12-Apr-16   EC12041647402            Dealer   Lost   \n",
       "8    April'16    14-Apr-16   EC13041647531            Dealer   Lost   \n",
       "9    April'16    15-Apr-16   EC15041647749            Dealer   Lost   \n",
       "10   April'16    15-Apr-16   EC15041647740            Dealer   Lost   \n",
       "11   April'16    17-Apr-16   EC17041647818            Dealer   Lost   \n",
       "12   April'16    17-Apr-16   EC17041647824            Dealer    Won   \n",
       "13   April'16    18-Apr-16   EC18041647862            Dealer   Lost   \n",
       "14   April'16    18-Apr-16   EC18041647914            Dealer    Won   \n",
       "15   April'16    19-Apr-16   EC19041648005            Dealer   Lost   \n",
       "16   April'16    20-Apr-16   EC20041648053            Dealer   Lost   \n",
       "17   April'16    21-Apr-16   EC21041648143            Dealer    Won   \n",
       "18   April'16    21-Apr-16   EC21041648139            Dealer    Won   \n",
       "19   April'16    22-Apr-16   EC22041648210            Dealer   Lost   \n",
       "20   April'16    22-Apr-16   EC21041648139            Dealer    Won   \n",
       "21   April'16    25-Apr-16   EC06101535268            Dealer   Lost   \n",
       "22   April'16    25-Apr-16   EC25041648426            Dealer   Lost   \n",
       "23   April'16    26-Apr-16    EC2002143733            Dealer   Lost   \n",
       "24   April'16    27-Apr-16   EC27041648574            Dealer   Lost   \n",
       "25   April'16    28-Apr-16   EC25041648424            Dealer   Lost   \n",
       "26   April'16    30-Apr-16   EC30041648800            Dealer   Lost   \n",
       "27    June'16    04-Jun-16   EC04061651354            Dealer   Lost   \n",
       "28    June'16    08-Jun-16   EC08061651611            Direct   Lost   \n",
       "29    June'16    09-Jun-16   EC09061651686            Dealer   Lost   \n",
       "..        ...          ...             ...               ...    ...   \n",
       "199    Dec'16    25-Dec-16   EC25121667555            Direct    Won   \n",
       "200    Dec'16    26-Dec-16   EC26121667607            Direct   Lost   \n",
       "201    Dec'16    26-Dec-16   EC26121667664            Dealer    Won   \n",
       "202    Dec'16    26-Dec-16   EC26121667722            Direct   Lost   \n",
       "203    Dec'16    27-Dec-16   EC27121667825            Direct    Won   \n",
       "204    Dec'16    27-Dec-16   EC27121667800            Dealer    Won   \n",
       "205    Dec'16    28-Dec-16   EC28121668016            Direct    Won   \n",
       "206    Dec'16    29-Dec-16    EC1002143224            Direct    Won   \n",
       "207    Dec'16    30-Dec-16   EC30121668253            Direct   Lost   \n",
       "208    Jan'17    01-Jan-17   EC01011768406            Direct   Lost   \n",
       "209    Jan'17    02-Jan-17   EC02011768470            Direct   Lost   \n",
       "210    Jan'17    02-Jan-17   EC02011768429            Dealer   Lost   \n",
       "211    Jan'17    03-Jan-17   EC03011768649            Direct   Lost   \n",
       "212    Jan'17    03-Jan-17   EC03011768646            Dealer   Lost   \n",
       "213    Jan'17    03-Jan-17   EC03011768620            Direct   Lost   \n",
       "214    Jan'17    06-Jan-17   EC05011768785            Direct   Lost   \n",
       "215    Jan'17    05-Jan-17   EC05011768756            Dealer    Won   \n",
       "216    Jan'17    06-Jan-17   EC06011768979            Dealer   Lost   \n",
       "217    Jan'17    09-Jan-17   EC06011769002            Dealer   Lost   \n",
       "218    Jan'17    09-Jan-17   EC03081655947            Direct    Won   \n",
       "219    Jan'17    11-Jan-17   EC11011769465            Direct   Lost   \n",
       "220    Jan'17    11-Jan-17   EC11011769490            Dealer   Lost   \n",
       "221    Jan'17    13-Jan-17   EC13011769738            Dealer    Won   \n",
       "222    Jan'17    18-Jan-17   EC18011770185            Direct    Won   \n",
       "223    Jan'17    18-Jan-17   EC18011770221            Dealer   Lost   \n",
       "224    Jan'17    21-Jan-17   EC21011770512            Dealer   Lost   \n",
       "225    Jan'17    23-Jan-17   EC24011770882            Direct    Won   \n",
       "226    Jan'17    26-Jan-17   EC26121667587            Direct   Lost   \n",
       "227    Jan'17    27-Jan-17   EC27011771169            Dealer   Lost   \n",
       "228    Jan'17    27-Jan-17   EC27011771160            Direct   Lost   \n",
       "\n",
       "         State         City  Pincode   Type_of_Project No_of_Windows  \\\n",
       "0    TAMILNADU      CHENNAI   600008        Renovation       6 to 10   \n",
       "1    TAMILNADU      CHENNAI   600042  New Construction       6 to 10   \n",
       "2    TAMILNADU      CHENNAI   600015  New Construction        1 to 5   \n",
       "3    TAMILNADU  KANCHIPURAM   600075  New Construction      21 to 40   \n",
       "4    TAMILNADU      CHENNAI   600041        Renovation       6 to 10   \n",
       "5    TAMILNADU      CHENNAI   600056        Renovation        1 to 5   \n",
       "6    TAMILNADU      CHENNAI   600042  New Construction      11 to 20   \n",
       "7    TAMILNADU      VELLORE   635751        Renovation       6 to 10   \n",
       "8    TAMILNADU      CHENNAI   600006        Renovation        1 to 5   \n",
       "9    TAMILNADU      CHENNAI   600113  New Construction       6 to 10   \n",
       "10   TAMILNADU      CHENNAI   600107  New Construction        1 to 5   \n",
       "11   TAMILNADU      CHENNAI   600041  New Construction     41 to 100   \n",
       "12   TAMILNADU      CHENNAI   600028  New Construction        1 to 5   \n",
       "13   TAMILNADU      CHENNAI   600092        Renovation        1 to 5   \n",
       "14   TAMILNADU      CHENNAI   600020  New Construction       6 to 10   \n",
       "15   TAMILNADU      CHENNAI   600086        Renovation        1 to 5   \n",
       "16   TAMILNADU      CHENNAI   600008        Renovation        1 to 5   \n",
       "17   TAMILNADU      CHENNAI   600029        Renovation      21 to 40   \n",
       "18   TAMILNADU      CHENNAI   600078  New Construction       6 to 10   \n",
       "19   TAMILNADU      CHENNAI   600040        Renovation        1 to 5   \n",
       "20   TAMILNADU      CHENNAI   600078        Renovation       6 to 10   \n",
       "21   TAMILNADU      CHENNAI   600010        Renovation       6 to 10   \n",
       "22   TAMILNADU      CHENNAI   600035        Renovation        1 to 5   \n",
       "23   TAMILNADU      CHENNAI   600004  New Construction        1 to 5   \n",
       "24   TAMILNADU      CHENNAI   600020        Renovation        1 to 5   \n",
       "25   TAMILNADU      CHENNAI   600077  New Construction      11 to 20   \n",
       "26   TAMILNADU      CHENNAI   600011        Renovation        1 to 5   \n",
       "27   TAMILNADU  THIRUVALLUR   600037        Renovation        1 to 5   \n",
       "28   TAMILNADU      CHENNAI   600034  New Construction      11 to 20   \n",
       "29   TAMILNADU      VELLORE   631052  New Construction       6 to 10   \n",
       "..         ...          ...      ...               ...           ...   \n",
       "199  TAMILNADU      CHENNAI   600005        Renovation       6 to 10   \n",
       "200  TAMILNADU  KANCHIPURAM   600048        Renovation        1 to 5   \n",
       "201  TAMILNADU      CHENNAI   600004        Renovation        1 to 5   \n",
       "202  TAMILNADU  THIRUVALLUR   600120        Renovation       6 to 10   \n",
       "203  TAMILNADU  KANCHIPURAM   600091  New Construction        1 to 5   \n",
       "204  TAMILNADU      CHENNAI   600040        Renovation      11 to 20   \n",
       "205  TAMILNADU      CHENNAI   600052  New Construction      21 to 40   \n",
       "206  TAMILNADU      CHENNAI   600037        Renovation        1 to 5   \n",
       "207  TAMILNADU      CHENNAI   603202  New Construction      11 to 20   \n",
       "208  TAMILNADU      CHENNAI   600061  New Construction      21 to 40   \n",
       "209  TAMILNADU  KANCHIPURAM   603202        Renovation        1 to 5   \n",
       "210  TAMILNADU      CHENNAI   600102        Renovation        1 to 5   \n",
       "211  TAMILNADU  PONDICHERRY   605501        Renovation        1 to 5   \n",
       "212  TAMILNADU      CHENNAI   600010  New Construction        1 to 5   \n",
       "213  TAMILNADU      CHENNAI   600026        Renovation        1 to 5   \n",
       "214  TAMILNADU      CHENNAI   600042        Renovation        1 to 5   \n",
       "215  TAMILNADU      CHENNAI   600094        Renovation        1 to 5   \n",
       "216  TAMILNADU      CHENNAI   600024        Renovation        1 to 5   \n",
       "217  TAMILNADU      CHENNAI   600085  New Construction        1 to 5   \n",
       "218  TAMILNADU      CHENNAI   600041  New Construction     41 to 100   \n",
       "219  TAMILNADU      CHENNAI   600097        Renovation        1 to 5   \n",
       "220  TAMILNADU      CHENNAI   600023        Renovation        1 to 5   \n",
       "221  TAMILNADU      CHENNAI   600020        Renovation        1 to 5   \n",
       "222  TAMILNADU  KANCHIPURAM   600059        Renovation        1 to 5   \n",
       "223  TAMILNADU      CHENNAI   600020        Renovation       6 to 10   \n",
       "224  TAMILNADU      CHENNAI   600014        Renovation      11 to 20   \n",
       "225  TAMILNADU      CHENNAI   600015        Renovation        1 to 5   \n",
       "226  TAMILNADU      CHENNAI   600119        Renovation        1 to 5   \n",
       "227  TAMILNADU      CHENNAI   600082        Renovation        1 to 5   \n",
       "228  TAMILNADU  KANCHIPURAM   600089  New Construction        1 to 5   \n",
       "\n",
       "             ...          Second-Action-Call-Status.1              Remarks  \\\n",
       "0            ...                                  NaN                 None   \n",
       "1            ...                                  NaN          Price Issue   \n",
       "2            ...                                  NaN       Delivery Issue   \n",
       "3            ...                                  NaN          Price Issue   \n",
       "4            ...                                  NaN                 None   \n",
       "5            ...                                  NaN          Price Issue   \n",
       "6            ...                                  NaN    Budget Constraint   \n",
       "7            ...                                  NaN                 None   \n",
       "8            ...                                  NaN    Budget Constraint   \n",
       "9            ...                                  NaN          Price Issue   \n",
       "10           ...                                  NaN          Price Issue   \n",
       "11           ...                                  NaN          Price Issue   \n",
       "12           ...                                  NaN                 None   \n",
       "13           ...                                  NaN          Price Issue   \n",
       "14           ...                                  NaN                 None   \n",
       "15           ...                                  NaN    Budget Constraint   \n",
       "16           ...                                  NaN          Price Issue   \n",
       "17           ...                                  NaN                 None   \n",
       "18           ...                                  NaN                 None   \n",
       "19           ...                                  NaN  Design Not Feasible   \n",
       "20           ...                                  NaN                 None   \n",
       "21           ...                                  NaN          Price Issue   \n",
       "22           ...                                  NaN       Delivery Issue   \n",
       "23           ...                                  NaN    Budget Constraint   \n",
       "24           ...                                  NaN    Budget Constraint   \n",
       "25           ...                                  NaN                 None   \n",
       "26           ...                                  NaN          Price Issue   \n",
       "27           ...                                  NaN          Price Issue   \n",
       "28           ...                                  NaN    Budget Constraint   \n",
       "29           ...                                  NaN          Price Issue   \n",
       "..           ...                                  ...                  ...   \n",
       "199          ...                                  NaN                 None   \n",
       "200          ...                                  NaN          Price Issue   \n",
       "201          ...                                  NaN                 None   \n",
       "202          ...                                  NaN          Price Issue   \n",
       "203          ...                                  NaN                 None   \n",
       "204          ...                                  NaN                 None   \n",
       "205          ...                                  NaN                 None   \n",
       "206          ...                                  NaN                 None   \n",
       "207          ...                                  NaN          Price Issue   \n",
       "208          ...                                  NaN          Price Issue   \n",
       "209          ...                                  NaN       Awareness Call   \n",
       "210          ...                                  NaN          Price Issue   \n",
       "211          ...                                  NaN          Price Issue   \n",
       "212          ...                                  NaN          Price Issue   \n",
       "213          ...                                  NaN          Price Issue   \n",
       "214          ...                                  NaN    Budget Constraint   \n",
       "215          ...                                  NaN                 None   \n",
       "216          ...                                  NaN          Price Issue   \n",
       "217          ...                                  NaN  Design Not Feasible   \n",
       "218          ...                                  NaN                 None   \n",
       "219          ...                                  NaN    Budget Constraint   \n",
       "220          ...                                  NaN                 None   \n",
       "221          ...                                  NaN                 None   \n",
       "222          ...                                  NaN                 None   \n",
       "223          ...                                  NaN       Awareness Call   \n",
       "224          ...                                  NaN          Price Issue   \n",
       "225          ...                                  NaN                 None   \n",
       "226          ...                                  NaN       Awareness Call   \n",
       "227          ...                                  NaN  Design Not Feasible   \n",
       "228          ...                                  NaN          Price Issue   \n",
       "\n",
       "    Price_Per_Sft                               Benefits Aesthetics  \\\n",
       "0            1105              Aesthetics & Street Noise        1.0   \n",
       "1             985                                    NaN        NaN   \n",
       "2             918                                    NaN        NaN   \n",
       "3             919                                    NaN        NaN   \n",
       "4            1350                  Reduce AC Energy Cost        0.0   \n",
       "5             809                                    NaN        NaN   \n",
       "6            1152                                    NaN        NaN   \n",
       "7             826                                    NaN        NaN   \n",
       "8            1089                                    NaN        NaN   \n",
       "9             921                                    NaN        NaN   \n",
       "10           1168                                    NaN        NaN   \n",
       "11           1141                                    NaN        NaN   \n",
       "12           1450                                    Nil        NaN   \n",
       "13           1124                                    NaN        NaN   \n",
       "14           1293   Reduce AC Energy Cost & Street Noise        0.0   \n",
       "15            892                                    NaN        NaN   \n",
       "16            821                                    NaN        NaN   \n",
       "17           1050   Reduce AC Energy Cost & Street Noise        0.0   \n",
       "18           1200                    Reduce Street Noise        0.0   \n",
       "19            843                                    NaN        NaN   \n",
       "20            948                    Reduce Street Noise        0.0   \n",
       "21            934                                    NaN        NaN   \n",
       "22            812                                    NaN        NaN   \n",
       "23           1005                                    NaN        NaN   \n",
       "24            993                                    NaN        NaN   \n",
       "25           1101                                    NaN        NaN   \n",
       "26           1032                                    NaN        NaN   \n",
       "27           1011                                    NaN        NaN   \n",
       "28            996                                    NaN        NaN   \n",
       "29           1048                                    NaN        NaN   \n",
       "..            ...                                    ...        ...   \n",
       "199           805           Aesthetics & Low Maintenance        1.0   \n",
       "200           894                                    NaN        NaN   \n",
       "201          1162           Aesthetics & Low Maintenance        1.0   \n",
       "202           965                                    NaN        NaN   \n",
       "203          1750                                    Nil        NaN   \n",
       "204          1090           Aesthetics & Low Maintenance        1.0   \n",
       "205          1422                                    Nil        NaN   \n",
       "206          1030           Aesthetics & Low Maintenance        1.0   \n",
       "207          1068                                    NaN        NaN   \n",
       "208           978                                    NaN        NaN   \n",
       "209           945                                    NaN        NaN   \n",
       "210           921                                    NaN        NaN   \n",
       "211          1121                                    NaN        NaN   \n",
       "212          1129                                    NaN        NaN   \n",
       "213          1031                                    NaN        NaN   \n",
       "214           965                                    NaN        NaN   \n",
       "215          1122          Noise Proof & Better Lighting        0.0   \n",
       "216          1065                                    NaN        NaN   \n",
       "217           892                                    NaN        NaN   \n",
       "218          1420  Reduce Street Noise & Low Maintenance        0.0   \n",
       "219          1087                                    NaN        NaN   \n",
       "220           997                                    NaN        NaN   \n",
       "221           829                        Low Maintenance        0.0   \n",
       "222          1055                                    Nil        NaN   \n",
       "223          1157                                    NaN        NaN   \n",
       "224           929                                    NaN        NaN   \n",
       "225           945                        Low Maintenance        0.0   \n",
       "226          1044                                    NaN        NaN   \n",
       "227           849                                    NaN        NaN   \n",
       "228           946                                    NaN        NaN   \n",
       "\n",
       "    Reduce_Street_Noise Low_Maintenance Monsoon_Proof Better_Lighting  \\\n",
       "0                   1.0             0.0           0.0             0.0   \n",
       "1                   NaN             NaN           NaN             NaN   \n",
       "2                   NaN             NaN           NaN             NaN   \n",
       "3                   NaN             NaN           NaN             NaN   \n",
       "4                   0.0             0.0           0.0             0.0   \n",
       "5                   NaN             NaN           NaN             NaN   \n",
       "6                   NaN             NaN           NaN             NaN   \n",
       "7                   NaN             NaN           NaN             NaN   \n",
       "8                   NaN             NaN           NaN             NaN   \n",
       "9                   NaN             NaN           NaN             NaN   \n",
       "10                  NaN             NaN           NaN             NaN   \n",
       "11                  NaN             NaN           NaN             NaN   \n",
       "12                  NaN             NaN           NaN             NaN   \n",
       "13                  NaN             NaN           NaN             NaN   \n",
       "14                  1.0             0.0           0.0             0.0   \n",
       "15                  NaN             NaN           NaN             NaN   \n",
       "16                  NaN             NaN           NaN             NaN   \n",
       "17                  1.0             0.0           0.0             0.0   \n",
       "18                  1.0             0.0           0.0             0.0   \n",
       "19                  NaN             NaN           NaN             NaN   \n",
       "20                  1.0             0.0           0.0             0.0   \n",
       "21                  NaN             NaN           NaN             NaN   \n",
       "22                  NaN             NaN           NaN             NaN   \n",
       "23                  NaN             NaN           NaN             NaN   \n",
       "24                  NaN             NaN           NaN             NaN   \n",
       "25                  NaN             NaN           NaN             NaN   \n",
       "26                  NaN             NaN           NaN             NaN   \n",
       "27                  NaN             NaN           NaN             NaN   \n",
       "28                  NaN             NaN           NaN             NaN   \n",
       "29                  NaN             NaN           NaN             NaN   \n",
       "..                  ...             ...           ...             ...   \n",
       "199                 0.0             1.0           0.0             0.0   \n",
       "200                 NaN             NaN           NaN             NaN   \n",
       "201                 0.0             1.0           0.0             0.0   \n",
       "202                 NaN             NaN           NaN             NaN   \n",
       "203                 NaN             NaN           NaN             NaN   \n",
       "204                 0.0             1.0           0.0             0.0   \n",
       "205                 NaN             NaN           NaN             NaN   \n",
       "206                 0.0             1.0           0.0             0.0   \n",
       "207                 NaN             NaN           NaN             NaN   \n",
       "208                 NaN             NaN           NaN             NaN   \n",
       "209                 NaN             NaN           NaN             NaN   \n",
       "210                 NaN             NaN           NaN             NaN   \n",
       "211                 NaN             NaN           NaN             NaN   \n",
       "212                 NaN             NaN           NaN             NaN   \n",
       "213                 NaN             NaN           NaN             NaN   \n",
       "214                 NaN             NaN           NaN             NaN   \n",
       "215                 1.0             0.0           0.0             1.0   \n",
       "216                 NaN             NaN           NaN             NaN   \n",
       "217                 NaN             NaN           NaN             NaN   \n",
       "218                 1.0             1.0           0.0             0.0   \n",
       "219                 NaN             NaN           NaN             NaN   \n",
       "220                 NaN             NaN           NaN             NaN   \n",
       "221                 0.0             1.0           0.0             0.0   \n",
       "222                 NaN             NaN           NaN             NaN   \n",
       "223                 NaN             NaN           NaN             NaN   \n",
       "224                 NaN             NaN           NaN             NaN   \n",
       "225                 0.0             1.0           0.0             0.0   \n",
       "226                 NaN             NaN           NaN             NaN   \n",
       "227                 NaN             NaN           NaN             NaN   \n",
       "228                 NaN             NaN           NaN             NaN   \n",
       "\n",
       "    Reduce_AC_Energy_Cost  \n",
       "0                     0.0  \n",
       "1                     NaN  \n",
       "2                     NaN  \n",
       "3                     NaN  \n",
       "4                     1.0  \n",
       "5                     NaN  \n",
       "6                     NaN  \n",
       "7                     NaN  \n",
       "8                     NaN  \n",
       "9                     NaN  \n",
       "10                    NaN  \n",
       "11                    NaN  \n",
       "12                    NaN  \n",
       "13                    NaN  \n",
       "14                    1.0  \n",
       "15                    NaN  \n",
       "16                    NaN  \n",
       "17                    1.0  \n",
       "18                    0.0  \n",
       "19                    NaN  \n",
       "20                    0.0  \n",
       "21                    NaN  \n",
       "22                    NaN  \n",
       "23                    NaN  \n",
       "24                    NaN  \n",
       "25                    NaN  \n",
       "26                    NaN  \n",
       "27                    NaN  \n",
       "28                    NaN  \n",
       "29                    NaN  \n",
       "..                    ...  \n",
       "199                   0.0  \n",
       "200                   NaN  \n",
       "201                   0.0  \n",
       "202                   NaN  \n",
       "203                   NaN  \n",
       "204                   0.0  \n",
       "205                   NaN  \n",
       "206                   0.0  \n",
       "207                   NaN  \n",
       "208                   NaN  \n",
       "209                   NaN  \n",
       "210                   NaN  \n",
       "211                   NaN  \n",
       "212                   NaN  \n",
       "213                   NaN  \n",
       "214                   NaN  \n",
       "215                   0.0  \n",
       "216                   NaN  \n",
       "217                   NaN  \n",
       "218                   0.0  \n",
       "219                   NaN  \n",
       "220                   NaN  \n",
       "221                   0.0  \n",
       "222                   NaN  \n",
       "223                   NaN  \n",
       "224                   NaN  \n",
       "225                   0.0  \n",
       "226                   NaN  \n",
       "227                   NaN  \n",
       "228                   NaN  \n",
       "\n",
       "[229 rows x 40 columns]"
      ]
     },
     "execution_count": 33,
     "metadata": {},
     "output_type": "execute_result"
    }
   ],
   "source": [
    "data_new"
   ]
  },
  {
   "cell_type": "code",
   "execution_count": 34,
   "metadata": {},
   "outputs": [],
   "source": [
    "data1 = data_new.copy()"
   ]
  },
  {
   "cell_type": "code",
   "execution_count": 35,
   "metadata": {},
   "outputs": [
    {
     "data": {
      "text/plain": [
       "(229, 40)"
      ]
     },
     "execution_count": 35,
     "metadata": {},
     "output_type": "execute_result"
    }
   ],
   "source": [
    "data1.shape"
   ]
  },
  {
   "cell_type": "code",
   "execution_count": 36,
   "metadata": {},
   "outputs": [
    {
     "name": "stdout",
     "output_type": "stream",
     "text": [
      "Missing percentage in  Date of Appointment (DD/MM/YY)  is  16.16\n",
      "Missing percentage in  Second Action-Customer Meeting  is  16.16\n",
      "Missing percentage in  Date-DD/MM/YY.1  is  16.16\n",
      "Missing percentage in  Second-Action-Call-Status  is  16.59\n",
      "Missing percentage in  Third-Action-Quote-Given  is  17.47\n",
      "Missing percentage in  Date-DD/MM/YY.2  is  17.9\n",
      "Missing percentage in  Q-Val.(Rs.Lac)  is  20.09\n",
      "Missing percentage in  Quote-QTY  is  20.09\n",
      "Missing percentage in  Date-DD/MM/YY.3  is  79.04\n",
      "Missing percentage in  Order-Val.(Rs.Lac)  is  79.04\n",
      "Missing percentage in  Order_QTY  is  79.04\n",
      "Missing percentage in  Quote_ID(as_per_match_to_CCC_Records)  is  49.34\n",
      "Missing percentage in  Remarks-Brand-and-value-if-lost-to-UPVC  is  46.29\n",
      "Missing percentage in  Second-Action-Call-Status.1  is  100.0\n",
      "Missing percentage in  Remarks  is  25.33\n",
      "Missing percentage in  Benefits  is  76.86\n",
      "Missing percentage in  Aesthetics  is  83.84\n",
      "Missing percentage in  Reduce_Street_Noise  is  83.84\n",
      "Missing percentage in  Low_Maintenance  is  83.84\n",
      "Missing percentage in  Monsoon_Proof  is  83.84\n",
      "Missing percentage in  Better_Lighting  is  83.84\n",
      "Missing percentage in  Reduce_AC_Energy_Cost  is  83.84\n"
     ]
    }
   ],
   "source": [
    "# Percentage of missing values in a column\n",
    "for col in data1.columns:\n",
    "    if data1[col].isnull().sum():\n",
    "        print(\"Missing percentage in \",col,\" is \",round((data1[col].isnull().sum())*100/data1.shape[0],2))"
   ]
  },
  {
   "cell_type": "code",
   "execution_count": 38,
   "metadata": {},
   "outputs": [
    {
     "data": {
      "image/png": "[encoded data removed]",
      "text/plain": [
       "<Figure size 1440x288 with 1 Axes>"
      ]
     },
     "metadata": {
      "needs_background": "light"
     },
     "output_type": "display_data"
    }
   ],
   "source": [
    "NA_col = data1.isnull().sum()\n",
    "NA_col = NA_col[NA_col.values >(0.5*len(data1))]\n",
    "plt.figure(figsize=(20,4))\n",
    "NA_col.plot(kind='bar')\n",
    "plt.title('List of Columns & NA counts where NA values are more than 50%')\n",
    "plt.show()"
   ]
  },
  {
   "cell_type": "code",
   "execution_count": null,
   "metadata": {},
   "outputs": [],
   "source": [
    "##you can see visually missing value's >50% "
   ]
  },
  {
   "cell_type": "code",
   "execution_count": null,
   "metadata": {},
   "outputs": [],
   "source": [
    "##hence we all know something that missing values > 50% we will drop ,but you should know is \n",
    "##there is mandatory to drop the column or not,if u dropped you have to explain y..\n",
    "##rather than dropping let's see what actually each column say's ."
   ]
  },
  {
   "cell_type": "code",
   "execution_count": null,
   "metadata": {},
   "outputs": [],
   "source": [
    "# we are not dropping order_qty,order_values they are the prime factor in business \n",
    "# there should be valid reason while dropping a column"
   ]
  },
  {
   "cell_type": "code",
   "execution_count": null,
   "metadata": {},
   "outputs": [],
   "source": [
    "# VARIOUS TYPES OF IMPUTATION MEAM,MEDIAN,MODE AND  (2) BACKWARD IMPUTATION (3) FORWARD IMPUTATION (4) SUBJECTIVE IMPUTATION."
   ]
  },
  {
   "cell_type": "code",
   "execution_count": null,
   "metadata": {},
   "outputs": [],
   "source": [
    "#DATA['Benefits'].fillna((data['product_code'].mode()), inplace=True)...I.E CATEGORIAL DATA WE DO MODE"
   ]
  },
  {
   "cell_type": "code",
   "execution_count": null,
   "metadata": {},
   "outputs": [],
   "source": [
    "#DATA['Q-Val.(Rs.Lac)'].fillna((data['Q-Val.(Rs.Lac)'].mean), inplace=True)...I.E numerical  DATA WE DO mean which ha no outlier's"
   ]
  },
  {
   "cell_type": "code",
   "execution_count": null,
   "metadata": {},
   "outputs": [],
   "source": [
    "#DATA['Q-Val.(Rs.Lac)'].fillna((data['Q-Val.(Rs.Lac)'].median), inplace=True)...I.E numerical  DATA WE DO median which has outlier's"
   ]
  },
  {
   "cell_type": "code",
   "execution_count": null,
   "metadata": {},
   "outputs": [],
   "source": [
    "#UNTIL WE UNDERSTAND DATA WE CAN'T IMPUTE MISSING VALUE'S."
   ]
  },
  {
   "cell_type": "code",
   "execution_count": 37,
   "metadata": {
    "scrolled": true
   },
   "outputs": [],
   "source": [
    "data_new.drop(['Month','Enquiry_Id','Enquiry_Date','No_of_Windows','State','City',\n",
    "               'First_Action-Call_made','Date_DD/MM/YY','Date of Appointment (DD/MM/YY)',\n",
    "               'Date-DD/MM/YY.2','Quote_ID(as_per_match_to_CCC_Records)','Date-DD/MM/YY.3',\n",
    "               'Second-Action-Call-Status.1','Aesthetics','Reduce_Street_Noise','Low_Maintenance',\n",
    "               'Remarks-Brand-and-value-if-lost-to-UPVC',\n",
    "               'Monsoon_Proof','Better_Lighting', 'Reduce_AC_Energy_Cost'],axis ='columns',inplace=True)"
   ]
  },
  {
   "cell_type": "markdown",
   "metadata": {},
   "source": [
    "# why we drop redundant columns/attributes"
   ]
  },
  {
   "cell_type": "raw",
   "metadata": {},
   "source": [
    "1. The ID Columns can be removed.\n",
    "2. State and First Action call made variables have only one observation in them. They can be removed.\n",
    "3. Second Action Call Status column is empty and can be removed\n",
    "4. Benefits and its associated Dummies can be removed because it has a lot of missing values(almost 80%).\n",
    "5. Pincode is treated as numerical variable here. It should be categorical. It has a lot of pincodes(103). If we convert it into categorial variable it will have 103 categories and 103 dummy columns need to be created which is undesirable. So, Pincode should be dropped."
   ]
  },
  {
   "cell_type": "markdown",
   "metadata": {},
   "source": [
    "# OUTLIER TREATMENT"
   ]
  },
  {
   "cell_type": "markdown",
   "metadata": {},
   "source": [
    "# outlier treatment-CAPPING "
   ]
  },
  {
   "cell_type": "code",
   "execution_count": 39,
   "metadata": {},
   "outputs": [
    {
     "data": {
      "text/html": [
       "<div>\n",
       "<style scoped>\n",
       "    .dataframe tbody tr th:only-of-type {\n",
       "        vertical-align: middle;\n",
       "    }\n",
       "\n",
       "    .dataframe tbody tr th {\n",
       "        vertical-align: top;\n",
       "    }\n",
       "\n",
       "    .dataframe thead th {\n",
       "        text-align: right;\n",
       "    }\n",
       "</style>\n",
       "<table border=\"1\" class=\"dataframe\">\n",
       "  <thead>\n",
       "    <tr style=\"text-align: right;\">\n",
       "      <th></th>\n",
       "      <th>0.01</th>\n",
       "      <th>0.05</th>\n",
       "      <th>0.1</th>\n",
       "      <th>0.25</th>\n",
       "      <th>0.5</th>\n",
       "      <th>0.75</th>\n",
       "      <th>0.9</th>\n",
       "      <th>0.95</th>\n",
       "      <th>0.99</th>\n",
       "      <th>1.0</th>\n",
       "    </tr>\n",
       "  </thead>\n",
       "  <tbody>\n",
       "    <tr>\n",
       "      <th>Pincode</th>\n",
       "      <td>600001.8400</td>\n",
       "      <td>600008.0000</td>\n",
       "      <td>600013.800</td>\n",
       "      <td>600033.00</td>\n",
       "      <td>600059.00</td>\n",
       "      <td>600099.0000</td>\n",
       "      <td>603103.00</td>\n",
       "      <td>606441.0000</td>\n",
       "      <td>635109.0000</td>\n",
       "      <td>635810.00</td>\n",
       "    </tr>\n",
       "    <tr>\n",
       "      <th>Q-Val.(Rs.Lac)</th>\n",
       "      <td>0.1374</td>\n",
       "      <td>0.2140</td>\n",
       "      <td>0.324</td>\n",
       "      <td>0.55</td>\n",
       "      <td>1.07</td>\n",
       "      <td>2.0000</td>\n",
       "      <td>4.40</td>\n",
       "      <td>5.7900</td>\n",
       "      <td>10.1710</td>\n",
       "      <td>25.00</td>\n",
       "    </tr>\n",
       "    <tr>\n",
       "      <th>Order-Val.(Rs.Lac)</th>\n",
       "      <td>0.0982</td>\n",
       "      <td>0.1675</td>\n",
       "      <td>0.214</td>\n",
       "      <td>0.53</td>\n",
       "      <td>1.15</td>\n",
       "      <td>1.6225</td>\n",
       "      <td>4.32</td>\n",
       "      <td>6.6825</td>\n",
       "      <td>9.9724</td>\n",
       "      <td>10.95</td>\n",
       "    </tr>\n",
       "    <tr>\n",
       "      <th>Order_QTY</th>\n",
       "      <td>1.0000</td>\n",
       "      <td>1.0000</td>\n",
       "      <td>1.000</td>\n",
       "      <td>2.00</td>\n",
       "      <td>6.00</td>\n",
       "      <td>10.5000</td>\n",
       "      <td>19.60</td>\n",
       "      <td>43.6000</td>\n",
       "      <td>65.9500</td>\n",
       "      <td>73.00</td>\n",
       "    </tr>\n",
       "    <tr>\n",
       "      <th>Price_Per_Sft</th>\n",
       "      <td>802.5600</td>\n",
       "      <td>821.0000</td>\n",
       "      <td>837.000</td>\n",
       "      <td>921.00</td>\n",
       "      <td>1030.00</td>\n",
       "      <td>1129.0000</td>\n",
       "      <td>1196.40</td>\n",
       "      <td>1350.0000</td>\n",
       "      <td>1696.8000</td>\n",
       "      <td>3121.00</td>\n",
       "    </tr>\n",
       "  </tbody>\n",
       "</table>\n",
       "</div>"
      ],
      "text/plain": [
       "                           0.01         0.05        0.10       0.25  \\\n",
       "Pincode             600001.8400  600008.0000  600013.800  600033.00   \n",
       "Q-Val.(Rs.Lac)           0.1374       0.2140       0.324       0.55   \n",
       "Order-Val.(Rs.Lac)       0.0982       0.1675       0.214       0.53   \n",
       "Order_QTY                1.0000       1.0000       1.000       2.00   \n",
       "Price_Per_Sft          802.5600     821.0000     837.000     921.00   \n",
       "\n",
       "                         0.50         0.75       0.90         0.95  \\\n",
       "Pincode             600059.00  600099.0000  603103.00  606441.0000   \n",
       "Q-Val.(Rs.Lac)           1.07       2.0000       4.40       5.7900   \n",
       "Order-Val.(Rs.Lac)       1.15       1.6225       4.32       6.6825   \n",
       "Order_QTY                6.00      10.5000      19.60      43.6000   \n",
       "Price_Per_Sft         1030.00    1129.0000    1196.40    1350.0000   \n",
       "\n",
       "                           0.99       1.00  \n",
       "Pincode             635109.0000  635810.00  \n",
       "Q-Val.(Rs.Lac)          10.1710      25.00  \n",
       "Order-Val.(Rs.Lac)       9.9724      10.95  \n",
       "Order_QTY               65.9500      73.00  \n",
       "Price_Per_Sft         1696.8000    3121.00  "
      ]
     },
     "execution_count": 39,
     "metadata": {},
     "output_type": "execute_result"
    }
   ],
   "source": [
    "#Getting percentile distribution for all numeric variables\n",
    "data_new.quantile([0.01,0.05,0.1,0.25,0.5,0.75,0.9,0.95,0.99,1]).T"
   ]
  },
  {
   "cell_type": "code",
   "execution_count": null,
   "metadata": {},
   "outputs": [],
   "source": [
    "## as general we can compare with our 100 quntile with 95.99 quantile if it is far difference then we will be doing capping by capping 100 quantile to 95 or 99 \n",
    "## sometime we will cap with mean various from problem to problem."
   ]
  },
  {
   "cell_type": "code",
   "execution_count": null,
   "metadata": {},
   "outputs": [],
   "source": [
    "# from above we can see q-value,price is high difference but we can't cap until domain knowledge may be someone order more quantity so is price is high \n",
    "# and price_sqft some one brought some costly material which has more benefits,here capping is exceptional/outlier treatment ."
   ]
  },
  {
   "cell_type": "code",
   "execution_count": 46,
   "metadata": {},
   "outputs": [
    {
     "data": {
      "text/plain": [
       "<function matplotlib.pyplot.show(*args, **kw)>"
      ]
     },
     "execution_count": 46,
     "metadata": {},
     "output_type": "execute_result"
    },
    {
     "data": {
      "image/png": "[encoded data removed]",
      "text/plain": [
       "<Figure size 432x288 with 1 Axes>"
      ]
     },
     "metadata": {
      "needs_background": "light"
     },
     "output_type": "display_data"
    }
   ],
   "source": [
    "sns.boxplot(data_new[\"Q-Val.(Rs.Lac)\"])\n",
    "plt.show"
   ]
  },
  {
   "cell_type": "code",
   "execution_count": 47,
   "metadata": {},
   "outputs": [
    {
     "data": {
      "text/plain": [
       "<function matplotlib.pyplot.show(*args, **kw)>"
      ]
     },
     "execution_count": 47,
     "metadata": {},
     "output_type": "execute_result"
    },
    {
     "data": {
      "image/png": "[encoded data removed]",
      "text/plain": [
       "<Figure size 432x288 with 1 Axes>"
      ]
     },
     "metadata": {
      "needs_background": "light"
     },
     "output_type": "display_data"
    }
   ],
   "source": [
    "sns.boxplot(data_new[\"Order-Val.(Rs.Lac)\"])\n",
    "plt.show"
   ]
  },
  {
   "cell_type": "code",
   "execution_count": 50,
   "metadata": {},
   "outputs": [
    {
     "data": {
      "text/plain": [
       "<function matplotlib.pyplot.show(*args, **kw)>"
      ]
     },
     "execution_count": 50,
     "metadata": {},
     "output_type": "execute_result"
    },
    {
     "data": {
      "image/png": "[encoded data removed]",
      "text/plain": [
       "<Figure size 432x288 with 1 Axes>"
      ]
     },
     "metadata": {
      "needs_background": "light"
     },
     "output_type": "display_data"
    }
   ],
   "source": [
    "sns.boxplot(data_new[\"Order_QTY\"])\n",
    "plt.show"
   ]
  },
  {
   "cell_type": "code",
   "execution_count": 49,
   "metadata": {},
   "outputs": [
    {
     "data": {
      "text/plain": [
       "<function matplotlib.pyplot.show(*args, **kw)>"
      ]
     },
     "execution_count": 49,
     "metadata": {},
     "output_type": "execute_result"
    },
    {
     "data": {
      "image/png": "[encoded data removed]",
      "text/plain": [
       "<Figure size 432x288 with 1 Axes>"
      ]
     },
     "metadata": {
      "needs_background": "light"
     },
     "output_type": "display_data"
    }
   ],
   "source": [
    "sns.boxplot(data_new[\"Price_Per_Sft\"])\n",
    "plt.show"
   ]
  },
  {
   "cell_type": "code",
   "execution_count": null,
   "metadata": {},
   "outputs": [],
   "source": [
    "## we can see oulier's until predominent knowledge we can't drop or cap ......."
   ]
  },
  {
   "cell_type": "markdown",
   "metadata": {},
   "source": [
    "# capping flooring"
   ]
  },
  {
   "cell_type": "markdown",
   "metadata": {},
   "source": [
    "# example how we do outlier treatment using capping and flooring"
   ]
  },
  {
   "cell_type": "code",
   "execution_count": null,
   "metadata": {},
   "outputs": [],
   "source": [
    "\n",
    "#data_new['Price_Per_Sft']=data_new[\"Price_Per_Sft\"].map(lambda x:1686.90 if x > 1686.90\n",
    "#    else x)\n",
    "\n",
    "#data_new['Order_QTY']=data_new[\"Order_QTY\"].map(lambda x:65.95 if x > 65.95\n",
    "#    else x)\n",
    "\n",
    "#data_new['Order-Val.(Rs.Lac)']=data_new[\"Order-Val.(Rs.Lac)\"].map(lambda x:6.68 if x > 6.68\n",
    "#    else x)\n",
    "\n",
    "#data_new['Q-Val.(Rs.Lac)']=data_new[\"Q-Val.(Rs.Lac)\"].map(lambda x:606411 if x > 606411\n",
    "#    else x)\n",
    "\n"
   ]
  },
  {
   "cell_type": "code",
   "execution_count": 40,
   "metadata": {},
   "outputs": [
    {
     "data": {
      "text/plain": [
       "(229, 20)"
      ]
     },
     "execution_count": 40,
     "metadata": {},
     "output_type": "execute_result"
    }
   ],
   "source": [
    "data_new.shape"
   ]
  },
  {
   "cell_type": "code",
   "execution_count": 22,
   "metadata": {},
   "outputs": [
    {
     "data": {
      "text/plain": [
       "Direct        63\n",
       "Windoors      45\n",
       "Sunbird       36\n",
       "Winfratech    20\n",
       "OXXO          20\n",
       "Pearlson      16\n",
       "Rajtechnis    15\n",
       "ITP           14\n",
       "Name: Dealer_Name, dtype: int64"
      ]
     },
     "execution_count": 22,
     "metadata": {},
     "output_type": "execute_result"
    }
   ],
   "source": [
    "data_new['Dealer_Name'].value_counts()"
   ]
  },
  {
   "cell_type": "code",
   "execution_count": 23,
   "metadata": {},
   "outputs": [
    {
     "data": {
      "text/plain": [
       "Lost    25\n",
       "Won     11\n",
       "Name: Status, dtype: int64"
      ]
     },
     "execution_count": 23,
     "metadata": {},
     "output_type": "execute_result"
    }
   ],
   "source": [
    "data_new[data_new['Dealer_Name']=='Sunbird']['Status'].value_counts()"
   ]
  },
  {
   "cell_type": "code",
   "execution_count": 24,
   "metadata": {},
   "outputs": [
    {
     "data": {
      "text/html": [
       "<div>\n",
       "<style scoped>\n",
       "    .dataframe tbody tr th:only-of-type {\n",
       "        vertical-align: middle;\n",
       "    }\n",
       "\n",
       "    .dataframe tbody tr th {\n",
       "        vertical-align: top;\n",
       "    }\n",
       "\n",
       "    .dataframe thead th {\n",
       "        text-align: right;\n",
       "    }\n",
       "</style>\n",
       "<table border=\"1\" class=\"dataframe\">\n",
       "  <thead>\n",
       "    <tr style=\"text-align: right;\">\n",
       "      <th>Status</th>\n",
       "      <th>Lost</th>\n",
       "      <th>Won</th>\n",
       "    </tr>\n",
       "    <tr>\n",
       "      <th>Dealer_Name</th>\n",
       "      <th></th>\n",
       "      <th></th>\n",
       "    </tr>\n",
       "  </thead>\n",
       "  <tbody>\n",
       "    <tr>\n",
       "      <th>Direct</th>\n",
       "      <td>38</td>\n",
       "      <td>25</td>\n",
       "    </tr>\n",
       "    <tr>\n",
       "      <th>ITP</th>\n",
       "      <td>14</td>\n",
       "      <td>0</td>\n",
       "    </tr>\n",
       "    <tr>\n",
       "      <th>OXXO</th>\n",
       "      <td>16</td>\n",
       "      <td>4</td>\n",
       "    </tr>\n",
       "    <tr>\n",
       "      <th>Pearlson</th>\n",
       "      <td>12</td>\n",
       "      <td>4</td>\n",
       "    </tr>\n",
       "    <tr>\n",
       "      <th>Rajtechnis</th>\n",
       "      <td>14</td>\n",
       "      <td>1</td>\n",
       "    </tr>\n",
       "    <tr>\n",
       "      <th>Sunbird</th>\n",
       "      <td>25</td>\n",
       "      <td>11</td>\n",
       "    </tr>\n",
       "    <tr>\n",
       "      <th>Windoors</th>\n",
       "      <td>39</td>\n",
       "      <td>6</td>\n",
       "    </tr>\n",
       "    <tr>\n",
       "      <th>Winfratech</th>\n",
       "      <td>18</td>\n",
       "      <td>2</td>\n",
       "    </tr>\n",
       "  </tbody>\n",
       "</table>\n",
       "</div>"
      ],
      "text/plain": [
       "Status       Lost  Won\n",
       "Dealer_Name           \n",
       "Direct         38   25\n",
       "ITP            14    0\n",
       "OXXO           16    4\n",
       "Pearlson       12    4\n",
       "Rajtechnis     14    1\n",
       "Sunbird        25   11\n",
       "Windoors       39    6\n",
       "Winfratech     18    2"
      ]
     },
     "execution_count": 24,
     "metadata": {},
     "output_type": "execute_result"
    }
   ],
   "source": [
    "pd.crosstab(data['Dealer_Name'],data.Status)"
   ]
  },
  {
   "cell_type": "code",
   "execution_count": 94,
   "metadata": {},
   "outputs": [
    {
     "data": {
      "text/plain": [
       "Text(0,0.5,'Count of enquiries materialised and immaterialised')"
      ]
     },
     "execution_count": 94,
     "metadata": {},
     "output_type": "execute_result"
    },
    {
     "data": {
      "image/png": "[encoded data removed]",
      "text/plain": [
       "<Figure size 432x288 with 1 Axes>"
      ]
     },
     "metadata": {
      "needs_background": "light"
     },
     "output_type": "display_data"
    }
   ],
   "source": [
    "pd.crosstab(data['Dealer_Name'],data.Status).plot(kind='bar')\n",
    "plt.title('Dealer enquiries Status')\n",
    "plt.xlabel('Dealer')\n",
    "plt.ylabel('Count of enquiries materialised and immaterialised')"
   ]
  },
  {
   "cell_type": "code",
   "execution_count": 20,
   "metadata": {},
   "outputs": [
    {
     "data": {
      "text/html": [
       "<div>\n",
       "<style scoped>\n",
       "    .dataframe tbody tr th:only-of-type {\n",
       "        vertical-align: middle;\n",
       "    }\n",
       "\n",
       "    .dataframe tbody tr th {\n",
       "        vertical-align: top;\n",
       "    }\n",
       "\n",
       "    .dataframe thead th {\n",
       "        text-align: right;\n",
       "    }\n",
       "</style>\n",
       "<table border=\"1\" class=\"dataframe\">\n",
       "  <thead>\n",
       "    <tr style=\"text-align: right;\">\n",
       "      <th>Status</th>\n",
       "      <th>Lost</th>\n",
       "      <th>Won</th>\n",
       "    </tr>\n",
       "    <tr>\n",
       "      <th>Dealer_Name</th>\n",
       "      <th></th>\n",
       "      <th></th>\n",
       "    </tr>\n",
       "  </thead>\n",
       "  <tbody>\n",
       "    <tr>\n",
       "      <th>Direct</th>\n",
       "      <td>38</td>\n",
       "      <td>25</td>\n",
       "    </tr>\n",
       "    <tr>\n",
       "      <th>ITP</th>\n",
       "      <td>14</td>\n",
       "      <td>0</td>\n",
       "    </tr>\n",
       "    <tr>\n",
       "      <th>OXXO</th>\n",
       "      <td>16</td>\n",
       "      <td>4</td>\n",
       "    </tr>\n",
       "    <tr>\n",
       "      <th>Pearlson</th>\n",
       "      <td>12</td>\n",
       "      <td>4</td>\n",
       "    </tr>\n",
       "    <tr>\n",
       "      <th>Rajtechnis</th>\n",
       "      <td>14</td>\n",
       "      <td>1</td>\n",
       "    </tr>\n",
       "    <tr>\n",
       "      <th>Sunbird</th>\n",
       "      <td>25</td>\n",
       "      <td>11</td>\n",
       "    </tr>\n",
       "    <tr>\n",
       "      <th>Windoors</th>\n",
       "      <td>39</td>\n",
       "      <td>6</td>\n",
       "    </tr>\n",
       "    <tr>\n",
       "      <th>Winfratech</th>\n",
       "      <td>18</td>\n",
       "      <td>2</td>\n",
       "    </tr>\n",
       "  </tbody>\n",
       "</table>\n",
       "</div>"
      ],
      "text/plain": [
       "Status       Lost  Won\n",
       "Dealer_Name           \n",
       "Direct         38   25\n",
       "ITP            14    0\n",
       "OXXO           16    4\n",
       "Pearlson       12    4\n",
       "Rajtechnis     14    1\n",
       "Sunbird        25   11\n",
       "Windoors       39    6\n",
       "Winfratech     18    2"
      ]
     },
     "execution_count": 20,
     "metadata": {},
     "output_type": "execute_result"
    }
   ],
   "source": [
    "pd.crosstab(data_new['Dealer_Name'],data.Status)"
   ]
  },
  {
   "cell_type": "code",
   "execution_count": 102,
   "metadata": {},
   "outputs": [],
   "source": [
    "data_newsort=data_new.sort_values(by=['Dealer_Name'])"
   ]
  },
  {
   "cell_type": "code",
   "execution_count": 72,
   "metadata": {},
   "outputs": [],
   "source": [
    "data_new.fillna(0,inplace=True)"
   ]
  },
  {
   "cell_type": "code",
   "execution_count": 25,
   "metadata": {},
   "outputs": [],
   "source": [
    "from pandasql import sqldf \n",
    "pysqldf = lambda q: sqldf(q, globals())"
   ]
  },
  {
   "cell_type": "code",
   "execution_count": 26,
   "metadata": {},
   "outputs": [],
   "source": [
    "data_direct= pysqldf(\"select * from data_new where Dealer_Name='Direct'\")\n",
    "data_ITP = pysqldf(\"select * from data_new where Dealer_Name='ITP'\")\n",
    "data_oxxo = pysqldf(\"select * from data_new where Dealer_Name='OXXO'\")\n",
    "data_pearlson = pysqldf(\"select * from data_new where Dealer_Name='Pearlson'\")\n",
    "data_rajtechnis = pysqldf(\"select * from data_new where Dealer_Name='Rajtechnis'\")\n",
    "data_sunbird = pysqldf(\"select * from data_new where Dealer_Name='Sunbird'\")\n",
    "data_windoors = pysqldf(\"select * from data_new where Dealer_Name='Windoors'\")\n",
    "data_Winfratech = pysqldf(\"select * from data_new where Dealer_Name='Winfratech'\")"
   ]
  },
  {
   "cell_type": "code",
   "execution_count": 31,
   "metadata": {},
   "outputs": [
    {
     "data": {
      "text/plain": [
       "(63, 20)"
      ]
     },
     "execution_count": 31,
     "metadata": {},
     "output_type": "execute_result"
    }
   ],
   "source": [
    "data_direct.shape"
   ]
  },
  {
   "cell_type": "code",
   "execution_count": 30,
   "metadata": {},
   "outputs": [
    {
     "data": {
      "text/plain": [
       "(14, 20)"
      ]
     },
     "execution_count": 30,
     "metadata": {},
     "output_type": "execute_result"
    }
   ],
   "source": [
    "data_ITP.shape"
   ]
  },
  {
   "cell_type": "code",
   "execution_count": 27,
   "metadata": {},
   "outputs": [
    {
     "data": {
      "text/plain": [
       "(20, 20)"
      ]
     },
     "execution_count": 27,
     "metadata": {},
     "output_type": "execute_result"
    }
   ],
   "source": [
    "data_oxxo.shape"
   ]
  },
  {
   "cell_type": "code",
   "execution_count": 32,
   "metadata": {},
   "outputs": [
    {
     "data": {
      "text/plain": [
       "(16, 20)"
      ]
     },
     "execution_count": 32,
     "metadata": {},
     "output_type": "execute_result"
    }
   ],
   "source": [
    "data_pearlson.shape"
   ]
  },
  {
   "cell_type": "code",
   "execution_count": 33,
   "metadata": {},
   "outputs": [
    {
     "data": {
      "text/plain": [
       "(15, 20)"
      ]
     },
     "execution_count": 33,
     "metadata": {},
     "output_type": "execute_result"
    }
   ],
   "source": [
    "data_rajtechnis.shape"
   ]
  },
  {
   "cell_type": "code",
   "execution_count": 34,
   "metadata": {},
   "outputs": [
    {
     "data": {
      "text/plain": [
       "(36, 20)"
      ]
     },
     "execution_count": 34,
     "metadata": {},
     "output_type": "execute_result"
    }
   ],
   "source": [
    "data_sunbird.shape"
   ]
  },
  {
   "cell_type": "code",
   "execution_count": 35,
   "metadata": {},
   "outputs": [
    {
     "data": {
      "text/plain": [
       "(45, 20)"
      ]
     },
     "execution_count": 35,
     "metadata": {},
     "output_type": "execute_result"
    }
   ],
   "source": [
    "data_windoors.shape"
   ]
  },
  {
   "cell_type": "code",
   "execution_count": 37,
   "metadata": {},
   "outputs": [
    {
     "data": {
      "text/plain": [
       "(20, 20)"
      ]
     },
     "execution_count": 37,
     "metadata": {},
     "output_type": "execute_result"
    }
   ],
   "source": [
    "data_Winfratech.shape"
   ]
  },
  {
   "cell_type": "code",
   "execution_count": 75,
   "metadata": {},
   "outputs": [
    {
     "data": {
      "text/plain": [
       "Index(['Allocation_Status', 'Status', 'Pincode', 'Type_of_Project', 'Source',\n",
       "       'Zone', 'Dealer_Name', 'First-Action-Call-Status',\n",
       "       'Second Action-Customer Meeting', 'Second-Action-Call-Status',\n",
       "       'Third-Action-Quote-Given', 'Q-Val.(Rs.Lac)', 'Quote-QTY',\n",
       "       'Order-(Recd\\Lost)', 'Order-Val.(Rs.Lac)', 'Order_QTY', 'Remarks',\n",
       "       'Price_Per_Sft', 'Benefits'],\n",
       "      dtype='object')"
      ]
     },
     "execution_count": 75,
     "metadata": {},
     "output_type": "execute_result"
    }
   ],
   "source": [
    "data_new.columns"
   ]
  },
  {
   "cell_type": "markdown",
   "metadata": {},
   "source": [
    "# Direct"
   ]
  },
  {
   "cell_type": "code",
   "execution_count": null,
   "metadata": {},
   "outputs": [],
   "source": [
    "data_new.drop('Date-DD/MM/YY.1',axis=1,inplace=True)"
   ]
  },
  {
   "cell_type": "code",
   "execution_count": 76,
   "metadata": {},
   "outputs": [
    {
     "data": {
      "text/plain": [
       "Lost    38\n",
       "Won     25\n",
       "Name: Status, dtype: int64"
      ]
     },
     "execution_count": 76,
     "metadata": {},
     "output_type": "execute_result"
    }
   ],
   "source": [
    "data_direct.Status.value_counts()"
   ]
  },
  {
   "cell_type": "code",
   "execution_count": 77,
   "metadata": {},
   "outputs": [
    {
     "data": {
      "text/plain": [
       "Appointment Fixed                56\n",
       "Budget Constraint                 5\n",
       "No Requirement-Awareness Call     2\n",
       "Name: First-Action-Call-Status, dtype: int64"
      ]
     },
     "execution_count": 77,
     "metadata": {},
     "output_type": "execute_result"
    }
   ],
   "source": [
    "data_direct['First-Action-Call-Status'].value_counts()"
   ]
  },
  {
   "cell_type": "code",
   "execution_count": 62,
   "metadata": {},
   "outputs": [
    {
     "data": {
      "text/plain": [
       "<matplotlib.axes._subplots.AxesSubplot at 0x1a175c4828>"
      ]
     },
     "execution_count": 62,
     "metadata": {},
     "output_type": "execute_result"
    },
    {
     "data": {
      "image/png": "[encoded data removed]",
      "text/plain": [
       "<Figure size 432x288 with 1 Axes>"
      ]
     },
     "metadata": {
      "needs_background": "light"
     },
     "output_type": "display_data"
    }
   ],
   "source": [
    "data_direct['First-Action-Call-Status'].value_counts().plot(kind='bar')"
   ]
  },
  {
   "cell_type": "raw",
   "metadata": {},
   "source": [
    "For the Dealer 'Direct' out of 63 enquiries 56 progressed for the  second discussion and 5 dropped due to budget constraint and 2 were awareness calls"
   ]
  },
  {
   "cell_type": "code",
   "execution_count": 78,
   "metadata": {},
   "outputs": [
    {
     "data": {
      "text/plain": [
       "Quote to Be Submitted    56\n",
       "0                         7\n",
       "Name: Second-Action-Call-Status, dtype: int64"
      ]
     },
     "execution_count": 78,
     "metadata": {},
     "output_type": "execute_result"
    }
   ],
   "source": [
    "data_direct['Second-Action-Call-Status'].value_counts()"
   ]
  },
  {
   "cell_type": "code",
   "execution_count": 83,
   "metadata": {},
   "outputs": [
    {
     "data": {
      "text/plain": [
       "yes    56\n",
       "Name: Third-Action-Quote-Given, dtype: int64"
      ]
     },
     "execution_count": 83,
     "metadata": {},
     "output_type": "execute_result"
    }
   ],
   "source": [
    "data_direct['Third-Action-Quote-Given'].value_counts()"
   ]
  },
  {
   "cell_type": "code",
   "execution_count": 80,
   "metadata": {},
   "outputs": [],
   "source": [
    "def third_quote(x):\n",
    "    if x == 'YES':\n",
    "        return 'yes'\n",
    "    elif x == 'yes':\n",
    "        return 'yes'"
   ]
  },
  {
   "cell_type": "code",
   "execution_count": 81,
   "metadata": {},
   "outputs": [],
   "source": [
    "data_direct['Third-Action-Quote-Given']=data_direct['Third-Action-Quote-Given'].apply(third_quote)"
   ]
  },
  {
   "cell_type": "code",
   "execution_count": 82,
   "metadata": {},
   "outputs": [
    {
     "data": {
      "text/plain": [
       "yes    56\n",
       "Name: Third-Action-Quote-Given, dtype: int64"
      ]
     },
     "execution_count": 82,
     "metadata": {},
     "output_type": "execute_result"
    }
   ],
   "source": [
    "data_direct['Third-Action-Quote-Given'].value_counts()"
   ]
  },
  {
   "cell_type": "code",
   "execution_count": 86,
   "metadata": {},
   "outputs": [
    {
     "data": {
      "text/plain": [
       "<matplotlib.axes._subplots.AxesSubplot at 0x1a18336c18>"
      ]
     },
     "execution_count": 86,
     "metadata": {},
     "output_type": "execute_result"
    },
    {
     "data": {
      "image/png": "[encoded data removed]",
      "text/plain": [
       "<Figure size 432x288 with 1 Axes>"
      ]
     },
     "metadata": {
      "needs_background": "light"
     },
     "output_type": "display_data"
    }
   ],
   "source": [
    "pd.crosstab(data_direct['Remarks'],data_direct['Status']).plot(kind='bar')"
   ]
  },
  {
   "cell_type": "raw",
   "metadata": {},
   "source": [
    "Of the enquiries(56) that progressed to the third discussion 25 got materialised and the others didnot achieve\n",
    "conversion rate due to the reasons like Price Issue,budget constraint,delivery issue,design an service infeasibility."
   ]
  },
  {
   "cell_type": "code",
   "execution_count": 94,
   "metadata": {},
   "outputs": [
    {
     "data": {
      "text/plain": [
       "<matplotlib.axes._subplots.AxesSubplot at 0x1a18705828>"
      ]
     },
     "execution_count": 94,
     "metadata": {},
     "output_type": "execute_result"
    },
    {
     "data": {
      "image/png": "[encoded data removed]",
      "text/plain": [
       "<Figure size 432x288 with 1 Axes>"
      ]
     },
     "metadata": {
      "needs_background": "light"
     },
     "output_type": "display_data"
    }
   ],
   "source": [
    "pd.crosstab(data_direct['Order-(Recd\\Lost)'],data_direct[data_direct['Status']=='Lost'].Status.count()).plot(kind='bar')"
   ]
  },
  {
   "cell_type": "code",
   "execution_count": 93,
   "metadata": {},
   "outputs": [
    {
     "data": {
      "text/plain": [
       "38"
      ]
     },
     "execution_count": 93,
     "metadata": {},
     "output_type": "execute_result"
    }
   ],
   "source": [
    "data_direct[data_direct['Status']=='Lost'].Status.count()"
   ]
  },
  {
   "cell_type": "code",
   "execution_count": 95,
   "metadata": {},
   "outputs": [
    {
     "data": {
      "text/plain": [
       "Lost    38\n",
       "Won     25\n",
       "Name: Status, dtype: int64"
      ]
     },
     "execution_count": 95,
     "metadata": {},
     "output_type": "execute_result"
    }
   ],
   "source": [
    "data_direct['Status'].value_counts()"
   ]
  },
  {
   "cell_type": "raw",
   "metadata": {},
   "source": [
    "Success rate of the dealer Direct = (25/63)*100"
   ]
  },
  {
   "cell_type": "code",
   "execution_count": 1,
   "metadata": {},
   "outputs": [
    {
     "data": {
      "text/plain": [
       "39.682539682539684"
      ]
     },
     "execution_count": 1,
     "metadata": {},
     "output_type": "execute_result"
    }
   ],
   "source": [
    "(25/63)*100"
   ]
  },
  {
   "cell_type": "markdown",
   "metadata": {},
   "source": [
    "# ITP"
   ]
  },
  {
   "cell_type": "code",
   "execution_count": 27,
   "metadata": {},
   "outputs": [
    {
     "data": {
      "text/plain": [
       "Lost    14\n",
       "Name: Status, dtype: int64"
      ]
     },
     "execution_count": 27,
     "metadata": {},
     "output_type": "execute_result"
    }
   ],
   "source": [
    "data_ITP.Status.value_counts()"
   ]
  },
  {
   "cell_type": "code",
   "execution_count": 29,
   "metadata": {},
   "outputs": [
    {
     "data": {
      "text/plain": [
       "<matplotlib.axes._subplots.AxesSubplot at 0x1a1cc7a5f8>"
      ]
     },
     "execution_count": 29,
     "metadata": {},
     "output_type": "execute_result"
    },
    {
     "data": {
      "image/png": "[encoded data removed]",
      "text/plain": [
       "<Figure size 432x288 with 1 Axes>"
      ]
     },
     "metadata": {
      "needs_background": "light"
     },
     "output_type": "display_data"
    }
   ],
   "source": [
    "pd.crosstab(data_ITP['Remarks'],data_ITP['Status']).plot(kind='bar')"
   ]
  },
  {
   "cell_type": "code",
   "execution_count": 30,
   "metadata": {},
   "outputs": [
    {
     "data": {
      "text/plain": [
       "Appointment Fixed      9\n",
       "Design not Feasible    3\n",
       "Budget Constraint      2\n",
       "Name: First-Action-Call-Status, dtype: int64"
      ]
     },
     "execution_count": 30,
     "metadata": {},
     "output_type": "execute_result"
    }
   ],
   "source": [
    "data_ITP['First-Action-Call-Status'].value_counts()"
   ]
  },
  {
   "cell_type": "code",
   "execution_count": 31,
   "metadata": {},
   "outputs": [
    {
     "data": {
      "text/plain": [
       "Quote to Be Submitted    9\n",
       "Name: Second-Action-Call-Status, dtype: int64"
      ]
     },
     "execution_count": 31,
     "metadata": {},
     "output_type": "execute_result"
    }
   ],
   "source": [
    "data_ITP['Second-Action-Call-Status'].value_counts()"
   ]
  },
  {
   "cell_type": "code",
   "execution_count": 32,
   "metadata": {},
   "outputs": [
    {
     "data": {
      "text/plain": [
       "yes    9\n",
       "Name: Third-Action-Quote-Given, dtype: int64"
      ]
     },
     "execution_count": 32,
     "metadata": {},
     "output_type": "execute_result"
    }
   ],
   "source": [
    "data_ITP['Third-Action-Quote-Given'].value_counts()"
   ]
  },
  {
   "cell_type": "markdown",
   "metadata": {},
   "source": [
    "# OXXO"
   ]
  },
  {
   "cell_type": "code",
   "execution_count": 33,
   "metadata": {},
   "outputs": [
    {
     "data": {
      "text/plain": [
       "Lost    16\n",
       "Won      4\n",
       "Name: Status, dtype: int64"
      ]
     },
     "execution_count": 33,
     "metadata": {},
     "output_type": "execute_result"
    }
   ],
   "source": [
    "data_oxxo.Status.value_counts()"
   ]
  },
  {
   "cell_type": "code",
   "execution_count": 34,
   "metadata": {},
   "outputs": [
    {
     "data": {
      "text/plain": [
       "Appointment Fixed    19\n",
       "Budget Constraint     1\n",
       "Name: First-Action-Call-Status, dtype: int64"
      ]
     },
     "execution_count": 34,
     "metadata": {},
     "output_type": "execute_result"
    }
   ],
   "source": [
    "data_oxxo['First-Action-Call-Status'].value_counts()"
   ]
  },
  {
   "cell_type": "code",
   "execution_count": 35,
   "metadata": {},
   "outputs": [
    {
     "data": {
      "text/plain": [
       "Quote to Be Submitted    19\n",
       "Name: Second-Action-Call-Status, dtype: int64"
      ]
     },
     "execution_count": 35,
     "metadata": {},
     "output_type": "execute_result"
    }
   ],
   "source": [
    "data_oxxo['Second-Action-Call-Status'].value_counts()"
   ]
  },
  {
   "cell_type": "code",
   "execution_count": 36,
   "metadata": {},
   "outputs": [
    {
     "data": {
      "text/plain": [
       "yes    17\n",
       "YES     2\n",
       "Name: Third-Action-Quote-Given, dtype: int64"
      ]
     },
     "execution_count": 36,
     "metadata": {},
     "output_type": "execute_result"
    }
   ],
   "source": [
    "data_oxxo['Third-Action-Quote-Given'].value_counts()"
   ]
  },
  {
   "cell_type": "code",
   "execution_count": 37,
   "metadata": {},
   "outputs": [],
   "source": [
    "def third_quote(x):\n",
    "    if x == 'YES':\n",
    "        return 'yes'\n",
    "    elif x == 'yes':\n",
    "        return 'yes'"
   ]
  },
  {
   "cell_type": "code",
   "execution_count": 38,
   "metadata": {},
   "outputs": [],
   "source": [
    "data_oxxo['Third-Action-Quote-Given']=data_oxxo['Third-Action-Quote-Given'].apply(third_quote)"
   ]
  },
  {
   "cell_type": "code",
   "execution_count": 39,
   "metadata": {},
   "outputs": [
    {
     "data": {
      "text/plain": [
       "yes    19\n",
       "Name: Third-Action-Quote-Given, dtype: int64"
      ]
     },
     "execution_count": 39,
     "metadata": {},
     "output_type": "execute_result"
    }
   ],
   "source": [
    "data_oxxo['Third-Action-Quote-Given'].value_counts()"
   ]
  },
  {
   "cell_type": "code",
   "execution_count": 44,
   "metadata": {},
   "outputs": [
    {
     "data": {
      "text/plain": [
       "<matplotlib.axes._subplots.AxesSubplot at 0x1a1d734ba8>"
      ]
     },
     "execution_count": 44,
     "metadata": {},
     "output_type": "execute_result"
    },
    {
     "data": {
      "image/png": "[encoded data removed]",
      "text/plain": [
       "<Figure size 432x288 with 1 Axes>"
      ]
     },
     "metadata": {
      "needs_background": "light"
     },
     "output_type": "display_data"
    }
   ],
   "source": [
    "pd.crosstab(data_oxxo['Order-(Recd\\Lost)'],data_oxxo['Status']).plot(kind='bar')"
   ]
  },
  {
   "cell_type": "markdown",
   "metadata": {},
   "source": [
    "Success rate of the dealer Direct = (4/20)*100 == [20%]Success rate of the dealer Direct = (4/20)*100 == [20%]"
   ]
  },
  {
   "cell_type": "markdown",
   "metadata": {},
   "source": [
    "# Pearlson"
   ]
  },
  {
   "cell_type": "code",
   "execution_count": 47,
   "metadata": {},
   "outputs": [
    {
     "data": {
      "text/plain": [
       "Lost    12\n",
       "Won      4\n",
       "Name: Status, dtype: int64"
      ]
     },
     "execution_count": 47,
     "metadata": {},
     "output_type": "execute_result"
    }
   ],
   "source": [
    "data_pearlson.Status.value_counts()"
   ]
  },
  {
   "cell_type": "code",
   "execution_count": 48,
   "metadata": {},
   "outputs": [
    {
     "data": {
      "text/plain": [
       "Appointment Fixed                8\n",
       "Budget Constraint                6\n",
       "Time Frame Not Possible          1\n",
       "No Requirement-Awareness Call    1\n",
       "Name: First-Action-Call-Status, dtype: int64"
      ]
     },
     "execution_count": 48,
     "metadata": {},
     "output_type": "execute_result"
    }
   ],
   "source": [
    "data_pearlson['First-Action-Call-Status'].value_counts()"
   ]
  },
  {
   "cell_type": "code",
   "execution_count": 49,
   "metadata": {},
   "outputs": [
    {
     "data": {
      "text/plain": [
       "Quote to Be Submitted    8\n",
       "Name: Second-Action-Call-Status, dtype: int64"
      ]
     },
     "execution_count": 49,
     "metadata": {},
     "output_type": "execute_result"
    }
   ],
   "source": [
    "data_pearlson['Second-Action-Call-Status'].value_counts()"
   ]
  },
  {
   "cell_type": "code",
   "execution_count": 50,
   "metadata": {},
   "outputs": [
    {
     "data": {
      "text/plain": [
       "yes    8\n",
       "Name: Third-Action-Quote-Given, dtype: int64"
      ]
     },
     "execution_count": 50,
     "metadata": {},
     "output_type": "execute_result"
    }
   ],
   "source": [
    "data_pearlson['Third-Action-Quote-Given'].value_counts()"
   ]
  },
  {
   "cell_type": "code",
   "execution_count": 51,
   "metadata": {},
   "outputs": [
    {
     "data": {
      "text/plain": [
       "<matplotlib.axes._subplots.AxesSubplot at 0x1a1d7a6ba8>"
      ]
     },
     "execution_count": 51,
     "metadata": {},
     "output_type": "execute_result"
    },
    {
     "data": {
      "image/png": "[encoded data removed]",
      "text/plain": [
       "<Figure size 432x288 with 1 Axes>"
      ]
     },
     "metadata": {
      "needs_background": "light"
     },
     "output_type": "display_data"
    }
   ],
   "source": [
    "pd.crosstab(data_pearlson['Order-(Recd\\Lost)'],data_pearlson['Status']).plot(kind='bar')"
   ]
  },
  {
   "cell_type": "markdown",
   "metadata": {},
   "source": [
    "Success rate of dealer Pearlson is 25%"
   ]
  },
  {
   "cell_type": "markdown",
   "metadata": {},
   "source": [
    "# Rajtechnis"
   ]
  },
  {
   "cell_type": "code",
   "execution_count": 53,
   "metadata": {},
   "outputs": [
    {
     "data": {
      "text/plain": [
       "Lost    14\n",
       "Won      1\n",
       "Name: Status, dtype: int64"
      ]
     },
     "execution_count": 53,
     "metadata": {},
     "output_type": "execute_result"
    }
   ],
   "source": [
    "data_rajtechnis.Status.value_counts()"
   ]
  },
  {
   "cell_type": "code",
   "execution_count": 54,
   "metadata": {},
   "outputs": [
    {
     "data": {
      "text/plain": [
       "Appointment Fixed                13\n",
       "Budget Constraint                 1\n",
       "No Requirement-Awareness Call     1\n",
       "Name: First-Action-Call-Status, dtype: int64"
      ]
     },
     "execution_count": 54,
     "metadata": {},
     "output_type": "execute_result"
    }
   ],
   "source": [
    "data_rajtechnis['First-Action-Call-Status'].value_counts()"
   ]
  },
  {
   "cell_type": "code",
   "execution_count": 55,
   "metadata": {},
   "outputs": [
    {
     "data": {
      "text/plain": [
       "Quote to Be Submitted    13\n",
       "Name: Second-Action-Call-Status, dtype: int64"
      ]
     },
     "execution_count": 55,
     "metadata": {},
     "output_type": "execute_result"
    }
   ],
   "source": [
    "data_rajtechnis['Second-Action-Call-Status'].value_counts()"
   ]
  },
  {
   "cell_type": "code",
   "execution_count": 56,
   "metadata": {},
   "outputs": [
    {
     "data": {
      "text/plain": [
       "yes    9\n",
       "YES    4\n",
       "Name: Third-Action-Quote-Given, dtype: int64"
      ]
     },
     "execution_count": 56,
     "metadata": {},
     "output_type": "execute_result"
    }
   ],
   "source": [
    "data_rajtechnis['Third-Action-Quote-Given'].value_counts()"
   ]
  },
  {
   "cell_type": "code",
   "execution_count": 57,
   "metadata": {},
   "outputs": [],
   "source": [
    "def third_quote(x):\n",
    "    if x == 'YES':\n",
    "        return 'yes'\n",
    "    elif x == 'yes':\n",
    "        return 'yes'"
   ]
  },
  {
   "cell_type": "code",
   "execution_count": 59,
   "metadata": {},
   "outputs": [],
   "source": [
    "data_rajtechnis['Third-Action-Quote-Given']=data_rajtechnis['Third-Action-Quote-Given'].apply(third_quote)"
   ]
  },
  {
   "cell_type": "code",
   "execution_count": 60,
   "metadata": {},
   "outputs": [
    {
     "data": {
      "text/plain": [
       "yes    13\n",
       "Name: Third-Action-Quote-Given, dtype: int64"
      ]
     },
     "execution_count": 60,
     "metadata": {},
     "output_type": "execute_result"
    }
   ],
   "source": [
    "data_rajtechnis['Third-Action-Quote-Given'].value_counts()"
   ]
  },
  {
   "cell_type": "code",
   "execution_count": 63,
   "metadata": {},
   "outputs": [
    {
     "data": {
      "text/plain": [
       "<matplotlib.axes._subplots.AxesSubplot at 0x1a1d9b3fd0>"
      ]
     },
     "execution_count": 63,
     "metadata": {},
     "output_type": "execute_result"
    },
    {
     "data": {
      "image/png": "[encoded data removed]",
      "text/plain": [
       "<Figure size 432x288 with 1 Axes>"
      ]
     },
     "metadata": {
      "needs_background": "light"
     },
     "output_type": "display_data"
    }
   ],
   "source": [
    "pd.crosstab(data_rajtechnis['Order-(Recd\\Lost)'],data_rajtechnis['Status']).plot(kind='bar')"
   ]
  },
  {
   "cell_type": "code",
   "execution_count": 62,
   "metadata": {},
   "outputs": [
    {
     "data": {
      "text/html": [
       "<div>\n",
       "<style scoped>\n",
       "    .dataframe tbody tr th:only-of-type {\n",
       "        vertical-align: middle;\n",
       "    }\n",
       "\n",
       "    .dataframe tbody tr th {\n",
       "        vertical-align: top;\n",
       "    }\n",
       "\n",
       "    .dataframe thead th {\n",
       "        text-align: right;\n",
       "    }\n",
       "</style>\n",
       "<table border=\"1\" class=\"dataframe\">\n",
       "  <thead>\n",
       "    <tr style=\"text-align: right;\">\n",
       "      <th>Status</th>\n",
       "      <th>Lost</th>\n",
       "      <th>Won</th>\n",
       "    </tr>\n",
       "    <tr>\n",
       "      <th>Order-(Recd\\Lost)</th>\n",
       "      <th></th>\n",
       "      <th></th>\n",
       "    </tr>\n",
       "  </thead>\n",
       "  <tbody>\n",
       "    <tr>\n",
       "      <th>Lost to Aluminum</th>\n",
       "      <td>4</td>\n",
       "      <td>0</td>\n",
       "    </tr>\n",
       "    <tr>\n",
       "      <th>Lost to UPVC (Provide details)</th>\n",
       "      <td>10</td>\n",
       "      <td>0</td>\n",
       "    </tr>\n",
       "    <tr>\n",
       "      <th>Order Received</th>\n",
       "      <td>0</td>\n",
       "      <td>1</td>\n",
       "    </tr>\n",
       "  </tbody>\n",
       "</table>\n",
       "</div>"
      ],
      "text/plain": [
       "Status                          Lost  Won\n",
       "Order-(Recd\\Lost)                        \n",
       "Lost to Aluminum                   4    0\n",
       "Lost to UPVC (Provide details)    10    0\n",
       "Order Received                     0    1"
      ]
     },
     "execution_count": 62,
     "metadata": {},
     "output_type": "execute_result"
    }
   ],
   "source": [
    "pd.crosstab(data_rajtechnis['Order-(Recd\\Lost)'],data_rajtechnis['Status'])"
   ]
  },
  {
   "cell_type": "code",
   "execution_count": null,
   "metadata": {},
   "outputs": [],
   "source": [
    "Success percent of dealer  Rajtechnis is 6.667%"
   ]
  },
  {
   "cell_type": "markdown",
   "metadata": {},
   "source": [
    "# Sunbird"
   ]
  },
  {
   "cell_type": "code",
   "execution_count": 65,
   "metadata": {},
   "outputs": [
    {
     "data": {
      "text/plain": [
       "Lost    25\n",
       "Won     11\n",
       "Name: Status, dtype: int64"
      ]
     },
     "execution_count": 65,
     "metadata": {},
     "output_type": "execute_result"
    }
   ],
   "source": [
    "data_sunbird.Status.value_counts()"
   ]
  },
  {
   "cell_type": "code",
   "execution_count": 93,
   "metadata": {},
   "outputs": [
    {
     "data": {
      "text/plain": [
       "Appointment Fixed    31\n",
       "Budget Constraint     5\n",
       "Name: First-Action-Call-Status, dtype: int64"
      ]
     },
     "execution_count": 93,
     "metadata": {},
     "output_type": "execute_result"
    }
   ],
   "source": [
    "data_sunbird['First-Action-Call-Status'].value_counts()"
   ]
  },
  {
   "cell_type": "code",
   "execution_count": 94,
   "metadata": {},
   "outputs": [
    {
     "data": {
      "text/plain": [
       "Quote to Be Submitted    30\n",
       "Name: Second-Action-Call-Status, dtype: int64"
      ]
     },
     "execution_count": 94,
     "metadata": {},
     "output_type": "execute_result"
    }
   ],
   "source": [
    "data_sunbird['Second-Action-Call-Status'].value_counts()"
   ]
  },
  {
   "cell_type": "code",
   "execution_count": 95,
   "metadata": {},
   "outputs": [
    {
     "data": {
      "text/plain": [
       "yes    30\n",
       "Name: Third-Action-Quote-Given, dtype: int64"
      ]
     },
     "execution_count": 95,
     "metadata": {},
     "output_type": "execute_result"
    }
   ],
   "source": [
    "data_sunbird['Third-Action-Quote-Given'].value_counts()"
   ]
  },
  {
   "cell_type": "code",
   "execution_count": 96,
   "metadata": {},
   "outputs": [],
   "source": [
    "def third_quote(x):\n",
    "    if x == 'YES':\n",
    "        return 'yes'\n",
    "    elif x == 'yes':\n",
    "        return 'yes'"
   ]
  },
  {
   "cell_type": "code",
   "execution_count": 97,
   "metadata": {},
   "outputs": [],
   "source": [
    "data_sunbird['Third-Action-Quote-Given']=data_sunbird['Third-Action-Quote-Given'].apply(third_quote)"
   ]
  },
  {
   "cell_type": "code",
   "execution_count": 98,
   "metadata": {},
   "outputs": [
    {
     "data": {
      "text/plain": [
       "yes    30\n",
       "Name: Third-Action-Quote-Given, dtype: int64"
      ]
     },
     "execution_count": 98,
     "metadata": {},
     "output_type": "execute_result"
    }
   ],
   "source": [
    "data_sunbird['Third-Action-Quote-Given'].value_counts()"
   ]
  },
  {
   "cell_type": "code",
   "execution_count": 72,
   "metadata": {},
   "outputs": [
    {
     "data": {
      "text/plain": [
       "<matplotlib.axes._subplots.AxesSubplot at 0x1a1dabe5f8>"
      ]
     },
     "execution_count": 72,
     "metadata": {},
     "output_type": "execute_result"
    },
    {
     "data": {
      "image/png": "[encoded data removed]",
      "text/plain": [
       "<Figure size 432x288 with 1 Axes>"
      ]
     },
     "metadata": {
      "needs_background": "light"
     },
     "output_type": "display_data"
    }
   ],
   "source": [
    "pd.crosstab(data_sunbird['Order-(Recd\\Lost)'],data_sunbird['Status']).plot(kind='bar')"
   ]
  },
  {
   "cell_type": "code",
   "execution_count": 73,
   "metadata": {},
   "outputs": [
    {
     "data": {
      "text/plain": [
       "<matplotlib.axes._subplots.AxesSubplot at 0x1a1dbbe940>"
      ]
     },
     "execution_count": 73,
     "metadata": {},
     "output_type": "execute_result"
    },
    {
     "data": {
      "image/png": "[encoded data removed]",
      "text/plain": [
       "<Figure size 432x288 with 1 Axes>"
      ]
     },
     "metadata": {
      "needs_background": "light"
     },
     "output_type": "display_data"
    }
   ],
   "source": [
    "pd.crosstab(data_sunbird['Remarks'],data_sunbird['Status']).plot(kind='bar')"
   ]
  },
  {
   "cell_type": "markdown",
   "metadata": {},
   "source": [
    "Success percentage of dealer Sunbird is 30.05%"
   ]
  },
  {
   "cell_type": "markdown",
   "metadata": {},
   "source": [
    "# Windoors"
   ]
  },
  {
   "cell_type": "code",
   "execution_count": 76,
   "metadata": {},
   "outputs": [
    {
     "data": {
      "text/plain": [
       "Lost    39\n",
       "Won      6\n",
       "Name: Status, dtype: int64"
      ]
     },
     "execution_count": 76,
     "metadata": {},
     "output_type": "execute_result"
    }
   ],
   "source": [
    "data_windoors.Status.value_counts()"
   ]
  },
  {
   "cell_type": "code",
   "execution_count": 77,
   "metadata": {},
   "outputs": [
    {
     "data": {
      "text/plain": [
       "Appointment Fixed    41\n",
       "Budget Constraint     4\n",
       "Name: First-Action-Call-Status, dtype: int64"
      ]
     },
     "execution_count": 77,
     "metadata": {},
     "output_type": "execute_result"
    }
   ],
   "source": [
    "data_windoors['First-Action-Call-Status'].value_counts()"
   ]
  },
  {
   "cell_type": "code",
   "execution_count": 78,
   "metadata": {},
   "outputs": [
    {
     "data": {
      "text/plain": [
       "Quote to Be Submitted    41\n",
       "Name: Second-Action-Call-Status, dtype: int64"
      ]
     },
     "execution_count": 78,
     "metadata": {},
     "output_type": "execute_result"
    }
   ],
   "source": [
    "data_windoors['Second-Action-Call-Status'].value_counts()"
   ]
  },
  {
   "cell_type": "code",
   "execution_count": 79,
   "metadata": {},
   "outputs": [
    {
     "data": {
      "text/plain": [
       "yes    34\n",
       "YES     7\n",
       "Name: Third-Action-Quote-Given, dtype: int64"
      ]
     },
     "execution_count": 79,
     "metadata": {},
     "output_type": "execute_result"
    }
   ],
   "source": [
    "data_windoors['Third-Action-Quote-Given'].value_counts()"
   ]
  },
  {
   "cell_type": "code",
   "execution_count": 80,
   "metadata": {},
   "outputs": [],
   "source": [
    "def third_quote(x):\n",
    "    if x == 'YES':\n",
    "        return 'yes'\n",
    "    elif x == 'yes':\n",
    "        return 'yes'"
   ]
  },
  {
   "cell_type": "code",
   "execution_count": 81,
   "metadata": {},
   "outputs": [],
   "source": [
    "data_windoors['Third-Action-Quote-Given']=data_windoors['Third-Action-Quote-Given'].apply(third_quote)"
   ]
  },
  {
   "cell_type": "code",
   "execution_count": 82,
   "metadata": {},
   "outputs": [
    {
     "data": {
      "text/plain": [
       "<matplotlib.axes._subplots.AxesSubplot at 0x1a1c9bbd68>"
      ]
     },
     "execution_count": 82,
     "metadata": {},
     "output_type": "execute_result"
    },
    {
     "data": {
      "image/png": "[encoded data removed]",
      "text/plain": [
       "<Figure size 432x288 with 1 Axes>"
      ]
     },
     "metadata": {
      "needs_background": "light"
     },
     "output_type": "display_data"
    }
   ],
   "source": [
    "pd.crosstab(data_windoors['Order-(Recd\\Lost)'],data_windoors['Status']).plot(kind='bar')"
   ]
  },
  {
   "cell_type": "markdown",
   "metadata": {},
   "source": [
    "Success percentage of the dealer Windoors is 13.6%"
   ]
  },
  {
   "cell_type": "markdown",
   "metadata": {},
   "source": [
    "# Winfratech"
   ]
  },
  {
   "cell_type": "code",
   "execution_count": 84,
   "metadata": {},
   "outputs": [
    {
     "data": {
      "text/plain": [
       "Lost    18\n",
       "Won      2\n",
       "Name: Status, dtype: int64"
      ]
     },
     "execution_count": 84,
     "metadata": {},
     "output_type": "execute_result"
    }
   ],
   "source": [
    "data_Winfratech.Status.value_counts()"
   ]
  },
  {
   "cell_type": "code",
   "execution_count": 85,
   "metadata": {},
   "outputs": [
    {
     "data": {
      "text/plain": [
       "Appointment Fixed                15\n",
       "Design not Feasible               3\n",
       "Budget Constraint                 1\n",
       "No Requirement-Awareness Call     1\n",
       "Name: First-Action-Call-Status, dtype: int64"
      ]
     },
     "execution_count": 85,
     "metadata": {},
     "output_type": "execute_result"
    }
   ],
   "source": [
    "data_Winfratech['First-Action-Call-Status'].value_counts()"
   ]
  },
  {
   "cell_type": "code",
   "execution_count": 86,
   "metadata": {},
   "outputs": [
    {
     "data": {
      "text/plain": [
       "Quote to Be Submitted       13\n",
       "Design not Feasible          1\n",
       "Further Meeting Required     1\n",
       "Name: Second-Action-Call-Status, dtype: int64"
      ]
     },
     "execution_count": 86,
     "metadata": {},
     "output_type": "execute_result"
    }
   ],
   "source": [
    "data_Winfratech['Second-Action-Call-Status'].value_counts()"
   ]
  },
  {
   "cell_type": "code",
   "execution_count": 87,
   "metadata": {},
   "outputs": [
    {
     "data": {
      "text/plain": [
       "yes    12\n",
       "YES     1\n",
       "Name: Third-Action-Quote-Given, dtype: int64"
      ]
     },
     "execution_count": 87,
     "metadata": {},
     "output_type": "execute_result"
    }
   ],
   "source": [
    "data_Winfratech['Third-Action-Quote-Given'].value_counts()"
   ]
  },
  {
   "cell_type": "code",
   "execution_count": 88,
   "metadata": {},
   "outputs": [],
   "source": [
    "def third_quote(x):\n",
    "    if x == 'YES':\n",
    "        return 'yes'\n",
    "    elif x == 'yes':\n",
    "        return 'yes'"
   ]
  },
  {
   "cell_type": "code",
   "execution_count": 89,
   "metadata": {},
   "outputs": [],
   "source": [
    "data_Winfratech['Third-Action-Quote-Given']=data_Winfratech['Third-Action-Quote-Given'].apply(third_quote)"
   ]
  },
  {
   "cell_type": "code",
   "execution_count": 90,
   "metadata": {},
   "outputs": [
    {
     "data": {
      "text/plain": [
       "yes    13\n",
       "Name: Third-Action-Quote-Given, dtype: int64"
      ]
     },
     "execution_count": 90,
     "metadata": {},
     "output_type": "execute_result"
    }
   ],
   "source": [
    "data_Winfratech['Third-Action-Quote-Given'].value_counts()"
   ]
  },
  {
   "cell_type": "code",
   "execution_count": 99,
   "metadata": {},
   "outputs": [
    {
     "data": {
      "text/plain": [
       "<matplotlib.axes._subplots.AxesSubplot at 0x1a1de88940>"
      ]
     },
     "execution_count": 99,
     "metadata": {},
     "output_type": "execute_result"
    },
    {
     "data": {
      "image/png": "[encoded data removed]",
      "text/plain": [
       "<Figure size 432x288 with 1 Axes>"
      ]
     },
     "metadata": {
      "needs_background": "light"
     },
     "output_type": "display_data"
    }
   ],
   "source": [
    "pd.crosstab(data_Winfratech['Order-(Recd\\Lost)'],data_Winfratech['Status']).plot(kind='bar')"
   ]
  },
  {
   "cell_type": "markdown",
   "metadata": {},
   "source": [
    "Success percentage of the dealer  Winfratech is 10%"
   ]
  },
  {
   "cell_type": "markdown",
   "metadata": {},
   "source": [
    "## Summary "
   ]
  },
  {
   "cell_type": "markdown",
   "metadata": {},
   "source": [
    "Success rate of the dealer Direct = 39.62.Enquiries = 63 ,Won = 25,Lost = 38.Third discussion = 56\n",
    "Success rate of the dealer oxxo = (4/20)*100 == [20%].Enquiries = 20 ,Won = 4,Lost = 16.Third discussion =19\n",
    "Success rate of the dealer Pearlson = 25% Enquiries = 16 ,Won = 4,Lost = 12.Third discussion =30\n",
    "Success rate of the dealer ITP = 0.Enquiries = 14 ,Won = 0,Lost = 14.Third discussion =9\n",
    "Success rate of the dealer Sunbird = 30.05%.Enquiries = 36 ,Won = 11,Lost = 25.Third discussion =30\n",
    "Success rate of the dealer Windoors is 13.6%.Enquiries = 45 ,Won = 6,Lost = 39.Third discussion =41\n",
    "Success percentage of the dealer  Winfratech is 10%.Enquiries = 20 ,Won = 2,Lost = 18.Third discussion =13\n",
    "Success percentage of the dealer  Rajtechnis is 6.67%.Enquiries = 15 ,Won = 1,Lost = 14 .Third discussion =13"
   ]
  },
  {
   "cell_type": "code",
   "execution_count": null,
   "metadata": {},
   "outputs": [],
   "source": []
  }
 ],
 "metadata": {
  "kernelspec": {
   "display_name": "Python 3",
   "language": "python",
   "name": "python3"
  },
  "language_info": {
   "codemirror_mode": {
    "name": "ipython",
    "version": 3
   },
   "file_extension": ".py",
   "mimetype": "text/x-python",
   "name": "python",
   "nbconvert_exporter": "python",
   "pygments_lexer": "ipython3",
   "version": "3.7.3"
  }
 },
 "nbformat": 4,
 "nbformat_minor": 2
}
